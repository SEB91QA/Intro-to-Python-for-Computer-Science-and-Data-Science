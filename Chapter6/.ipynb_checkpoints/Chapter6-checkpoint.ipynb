{
 "cells": [
  {
   "cell_type": "markdown",
   "metadata": {},
   "source": [
    "# Dictionaries and Sets\n"
   ]
  },
  {
   "cell_type": "markdown",
   "metadata": {},
   "source": [
    "### A $\\textit{dictionary}$ is an unordered collection which stores key–value pairs that map immutable keys to values, just as a conventional dictionary maps words to definitions. A $\\textit{set}$ is an unordered collection of unique immutable elements."
   ]
  },
  {
   "cell_type": "markdown",
   "metadata": {},
   "source": [
    "## 6.2 Dictionaries"
   ]
  },
  {
   "cell_type": "markdown",
   "metadata": {},
   "source": [
    "### A dictionary’s keys must be immutable (such as strings, numbers or tuples) and unique (that is, no duplicates). Multiple keys can have the same value, such as two different inven- tory codes that have the same quantity in stock."
   ]
  },
  {
   "cell_type": "code",
   "execution_count": 1,
   "metadata": {},
   "outputs": [
    {
     "data": {
      "text/plain": [
       "{'Finland': 'fi', 'South Africa': 'za', 'Nepal': 'np'}"
      ]
     },
     "execution_count": 1,
     "metadata": {},
     "output_type": "execute_result"
    }
   ],
   "source": [
    "\n",
    "country_codes = {'Finland' : 'fi', 'South Africa' : 'za', \n",
    "                 'Nepal' : 'np'}\n",
    "country_codes"
   ]
  },
  {
   "cell_type": "code",
   "execution_count": 2,
   "metadata": {},
   "outputs": [
    {
     "data": {
      "text/plain": [
       "3"
      ]
     },
     "execution_count": 2,
     "metadata": {},
     "output_type": "execute_result"
    }
   ],
   "source": [
    "\n",
    "len(country_codes)\n"
   ]
  },
  {
   "cell_type": "code",
   "execution_count": 3,
   "metadata": {},
   "outputs": [
    {
     "name": "stdout",
     "output_type": "stream",
     "text": [
      "country_codes not empty\n"
     ]
    }
   ],
   "source": [
    "\n",
    "if country_codes:\n",
    "    print('country_codes not empty')\n",
    "    \n",
    "else:\n",
    "    print('country codes empty')\n"
   ]
  },
  {
   "cell_type": "code",
   "execution_count": 4,
   "metadata": {},
   "outputs": [
    {
     "name": "stdout",
     "output_type": "stream",
     "text": [
      "country codes empty\n"
     ]
    }
   ],
   "source": [
    "\n",
    "country_codes.clear()\n",
    "\n",
    "if country_codes:\n",
    "    print('country_codes not empty')\n",
    "    \n",
    "else:\n",
    "    print('country codes empty')\n"
   ]
  },
  {
   "cell_type": "code",
   "execution_count": 5,
   "metadata": {},
   "outputs": [
    {
     "data": {
      "text/plain": [
       "{'VT': 'Vermont', 'NH': 'New Hampshire', 'MA': 'Massachusetts'}"
      ]
     },
     "execution_count": 5,
     "metadata": {},
     "output_type": "execute_result"
    }
   ],
   "source": [
    "\n",
    "states = { 'VT' : 'Vermont', 'NH' : 'New Hampshire', 'MA' : 'Massachusetts'}\n",
    "\n",
    "states"
   ]
  },
  {
   "cell_type": "markdown",
   "metadata": {},
   "source": [
    "### 6.2.2 Iterating through a Dictionary"
   ]
  },
  {
   "cell_type": "code",
   "execution_count": 6,
   "metadata": {},
   "outputs": [
    {
     "data": {
      "text/plain": [
       "{'January': '31', 'February': '28', 'March': '31'}"
      ]
     },
     "execution_count": 6,
     "metadata": {},
     "output_type": "execute_result"
    }
   ],
   "source": [
    "\n",
    "days_per_month = {'January' : '31', 'February' : '28', 'March' : '31'}\n",
    "\n",
    "days_per_month"
   ]
  },
  {
   "cell_type": "code",
   "execution_count": 7,
   "metadata": {},
   "outputs": [
    {
     "name": "stdout",
     "output_type": "stream",
     "text": [
      "January has 31 days\n",
      "February has 28 days\n",
      "March has 31 days\n"
     ]
    }
   ],
   "source": [
    "\n",
    "for month, days in days_per_month.items():\n",
    "    print(f'{month} has {days} days')\n"
   ]
  },
  {
   "cell_type": "code",
   "execution_count": 8,
   "metadata": {},
   "outputs": [
    {
     "name": "stdout",
     "output_type": "stream",
     "text": [
      "<class 'dict_items'>\n"
     ]
    }
   ],
   "source": [
    "print(type(days_per_month.items()))  #items returns each key–value pair as a tuple, which we unpack into month and days\n"
   ]
  },
  {
   "cell_type": "markdown",
   "metadata": {},
   "source": [
    "### 6.2.3 Basic Dictionary Operations"
   ]
  },
  {
   "cell_type": "code",
   "execution_count": 9,
   "metadata": {},
   "outputs": [
    {
     "data": {
      "text/plain": [
       "{'I': 1, 'II': 2, 'III': 3, 'V': 5, 'X': 100}"
      ]
     },
     "execution_count": 9,
     "metadata": {},
     "output_type": "execute_result"
    }
   ],
   "source": [
    "\n",
    "roman_numerals = {'I' : 1, 'II' : 2, 'III' : 3, 'V' : 5, 'X' : 100}\n",
    "roman_numerals"
   ]
  },
  {
   "cell_type": "code",
   "execution_count": 10,
   "metadata": {},
   "outputs": [
    {
     "data": {
      "text/plain": [
       "5"
      ]
     },
     "execution_count": 10,
     "metadata": {},
     "output_type": "execute_result"
    }
   ],
   "source": [
    "# Accessing the Value Associated with a Key\n",
    "roman_numerals['V']"
   ]
  },
  {
   "cell_type": "code",
   "execution_count": 11,
   "metadata": {},
   "outputs": [
    {
     "data": {
      "text/plain": [
       "{'I': 1, 'II': 2, 'III': 3, 'V': 5, 'X': 10}"
      ]
     },
     "execution_count": 11,
     "metadata": {},
     "output_type": "execute_result"
    }
   ],
   "source": [
    "# Updating the Value of an Existing Key–Value Pair\n",
    "\n",
    "roman_numerals['X'] = 10\n",
    "\n",
    "roman_numerals"
   ]
  },
  {
   "cell_type": "code",
   "execution_count": 12,
   "metadata": {},
   "outputs": [
    {
     "data": {
      "text/plain": [
       "{'I': 1, 'II': 2, 'III': 3, 'V': 5, 'X': 10, 'L': 50}"
      ]
     },
     "execution_count": 12,
     "metadata": {},
     "output_type": "execute_result"
    }
   ],
   "source": [
    "# Adding a New Key–Value Pair\n",
    "\n",
    "roman_numerals['L'] = 50\n",
    "\n",
    "roman_numerals"
   ]
  },
  {
   "cell_type": "code",
   "execution_count": 13,
   "metadata": {},
   "outputs": [
    {
     "data": {
      "text/plain": [
       "{'I': 1, 'II': 2, 'V': 5, 'X': 10, 'L': 50}"
      ]
     },
     "execution_count": 13,
     "metadata": {},
     "output_type": "execute_result"
    }
   ],
   "source": [
    "# Removing a Key–Value Pair\n",
    "\n",
    "del roman_numerals['III']\n",
    "\n",
    "roman_numerals"
   ]
  },
  {
   "cell_type": "code",
   "execution_count": 14,
   "metadata": {},
   "outputs": [
    {
     "data": {
      "text/plain": [
       "{'I': 1, 'II': 2, 'V': 5, 'L': 50}"
      ]
     },
     "execution_count": 14,
     "metadata": {},
     "output_type": "execute_result"
    }
   ],
   "source": [
    "# remove a key–value pair with the dictionary method pop\n",
    "\n",
    "roman_numerals.pop('X')\n",
    "\n",
    "roman_numerals"
   ]
  },
  {
   "cell_type": "code",
   "execution_count": 15,
   "metadata": {},
   "outputs": [
    {
     "ename": "KeyError",
     "evalue": "'III'",
     "output_type": "error",
     "traceback": [
      "\u001b[0;31m---------------------------------------------------------------------------\u001b[0m",
      "\u001b[0;31mKeyError\u001b[0m                                  Traceback (most recent call last)",
      "\u001b[0;32m<ipython-input-15-1220d9ed429d>\u001b[0m in \u001b[0;36m<module>\u001b[0;34m\u001b[0m\n\u001b[1;32m      1\u001b[0m \u001b[0;31m# Attempting to Access a Nonexistent Key\u001b[0m\u001b[0;34m\u001b[0m\u001b[0;34m\u001b[0m\u001b[0;34m\u001b[0m\u001b[0m\n\u001b[1;32m      2\u001b[0m \u001b[0;34m\u001b[0m\u001b[0m\n\u001b[0;32m----> 3\u001b[0;31m \u001b[0mroman_numerals\u001b[0m\u001b[0;34m[\u001b[0m\u001b[0;34m'III'\u001b[0m\u001b[0;34m]\u001b[0m\u001b[0;34m\u001b[0m\u001b[0;34m\u001b[0m\u001b[0m\n\u001b[0m",
      "\u001b[0;31mKeyError\u001b[0m: 'III'"
     ]
    }
   ],
   "source": [
    "# Attempting to Access a Nonexistent Key\n",
    "\n",
    "roman_numerals['III']"
   ]
  },
  {
   "cell_type": "code",
   "execution_count": null,
   "metadata": {},
   "outputs": [],
   "source": [
    "# You can prevent this error by using dictionary method get, which normally returns its argument’s corresponding value. \n",
    "\n",
    "roman_numerals.get('III')"
   ]
  },
  {
   "cell_type": "code",
   "execution_count": null,
   "metadata": {},
   "outputs": [],
   "source": [
    "roman_numerals.get('III', 'III not found in the dictionary')"
   ]
  },
  {
   "cell_type": "code",
   "execution_count": null,
   "metadata": {},
   "outputs": [],
   "source": [
    "roman_numerals.get('III', 'It is found?')"
   ]
  },
  {
   "cell_type": "code",
   "execution_count": null,
   "metadata": {},
   "outputs": [],
   "source": [
    "# Testing Whether a Dictionary Contains a Specified Key\n",
    "\n",
    "'V' in roman_numerals"
   ]
  },
  {
   "cell_type": "code",
   "execution_count": null,
   "metadata": {},
   "outputs": [],
   "source": [
    "'III' in roman_numerals"
   ]
  },
  {
   "cell_type": "code",
   "execution_count": null,
   "metadata": {},
   "outputs": [],
   "source": [
    "'III' not in roman_numerals"
   ]
  },
  {
   "cell_type": "code",
   "execution_count": null,
   "metadata": {},
   "outputs": [],
   "source": [
    "# String dictionary keys are case sensitive.\n",
    "\n",
    "roman_numerals = {'I' : 1, 'II' : 2, 'III' : 3, 'V' : 5, 'X' : 100} "
   ]
  },
  {
   "cell_type": "code",
   "execution_count": null,
   "metadata": {},
   "outputs": [],
   "source": [
    "roman_numerals['x'] = 10"
   ]
  },
  {
   "cell_type": "code",
   "execution_count": null,
   "metadata": {},
   "outputs": [],
   "source": [
    "roman_numerals"
   ]
  },
  {
   "cell_type": "markdown",
   "metadata": {},
   "source": [
    "### 6.2.4 Dictionary Methods keys and values"
   ]
  },
  {
   "cell_type": "markdown",
   "metadata": {},
   "source": [
    "### Earlier, we used dictionary method items to iterate through tuples of a dictionary’s key-value pairs."
   ]
  },
  {
   "cell_type": "code",
   "execution_count": null,
   "metadata": {},
   "outputs": [],
   "source": [
    "\n",
    "for month in days_per_month.keys():\n",
    "    print(month, end=' ')\n"
   ]
  },
  {
   "cell_type": "code",
   "execution_count": null,
   "metadata": {},
   "outputs": [],
   "source": [
    "\n",
    "for number in days_per_month.values():\n",
    "    print(number, end=' ')\n"
   ]
  },
  {
   "cell_type": "markdown",
   "metadata": {},
   "source": [
    "### When you iterate over a view, it “sees” the dictionary’s current contents—it does not have its own copy of the data."
   ]
  },
  {
   "cell_type": "code",
   "execution_count": null,
   "metadata": {},
   "outputs": [],
   "source": [
    "\n",
    "months_view = days_per_month.keys()\n",
    "\n",
    "for key in months_view:\n",
    "    print(key, end=' ')\n"
   ]
  },
  {
   "cell_type": "code",
   "execution_count": null,
   "metadata": {},
   "outputs": [],
   "source": [
    "\n",
    "days_per_month['December'] = 12\n",
    "days_per_month"
   ]
  },
  {
   "cell_type": "code",
   "execution_count": null,
   "metadata": {},
   "outputs": [],
   "source": [
    "\n",
    "for key in months_view:\n",
    "    print(key, end=' ')\n",
    "\n",
    "#Do not modify a dictionary while iterating through a view. "
   ]
  },
  {
   "cell_type": "markdown",
   "metadata": {},
   "source": [
    "### You might occasionally need lists of a dictionary’s keys, values or key–value pairs."
   ]
  },
  {
   "cell_type": "code",
   "execution_count": null,
   "metadata": {},
   "outputs": [],
   "source": [
    "\n",
    "list(days_per_month.keys())\n"
   ]
  },
  {
   "cell_type": "code",
   "execution_count": null,
   "metadata": {},
   "outputs": [],
   "source": [
    "list(days_per_month.values())"
   ]
  },
  {
   "cell_type": "code",
   "execution_count": null,
   "metadata": {},
   "outputs": [],
   "source": [
    "list(days_per_month.items())"
   ]
  },
  {
   "cell_type": "markdown",
   "metadata": {},
   "source": [
    "### Processing Keys in Sorted Order"
   ]
  },
  {
   "cell_type": "code",
   "execution_count": null,
   "metadata": {},
   "outputs": [],
   "source": [
    "\n",
    "for month_name in sorted(days_per_month.keys()):\n",
    "    print(month_name, end=' ')"
   ]
  },
  {
   "cell_type": "markdown",
   "metadata": {},
   "source": [
    "### An equals (==) comparison evaluates to True if both dictionaries have the same key–value pairs, regardless of the order in which those key–value pairs were added to each dictionary:"
   ]
  },
  {
   "cell_type": "code",
   "execution_count": null,
   "metadata": {},
   "outputs": [],
   "source": [
    "\n",
    "country_capitals1 = {'Belgium' : 'Brussels',\n",
    "                     'Haiti' : 'Port-au-Prince'}\n",
    "\n",
    "country_capitals2 = {'Nepal' : 'Kathmandu',\n",
    "                     'Uruguay' : 'Montevideo'}\n",
    "\n",
    "country_capitals3 = {'Haiti' : 'Port-au-Prince',\n",
    "                     'Belgium' : 'Brussels'}"
   ]
  },
  {
   "cell_type": "code",
   "execution_count": null,
   "metadata": {},
   "outputs": [],
   "source": [
    "country_capitals1 == country_capitals2"
   ]
  },
  {
   "cell_type": "code",
   "execution_count": null,
   "metadata": {},
   "outputs": [],
   "source": [
    "country_capitals1 == country_capitals3"
   ]
  },
  {
   "cell_type": "code",
   "execution_count": null,
   "metadata": {},
   "outputs": [],
   "source": [
    "country_capitals1 != country_capitals2"
   ]
  },
  {
   "cell_type": "markdown",
   "metadata": {},
   "source": [
    "### 6.2.6 Example: Dictionary of Student Grades"
   ]
  },
  {
   "cell_type": "code",
   "execution_count": null,
   "metadata": {},
   "outputs": [],
   "source": [
    "\n",
    "grade_book = {\n",
    "    'Susan' : [92, 85, 100],\n",
    "    'Eduardo' : [83, 95, 79],\n",
    "    'Azizi' : [91, 89, 82],\n",
    "    'Pantipa' : [97, 91, 92]\n",
    "}\n",
    "\n",
    "all_grades_total = 0\n",
    "all_grades_count = 0\n",
    "\n",
    "\n",
    "for name, grades in grade_book.items():\n",
    "    total = sum(grades)\n",
    "    print(f'Average of {name} is {total/len(grades):.2f}')\n",
    "    all_grades_total += total\n",
    "    all_grades_count += len(grades)\n",
    "    \n",
    "print(f\"Class's average is: {all_grades_total / all_grades_count:.2f}\")"
   ]
  },
  {
   "cell_type": "code",
   "execution_count": 18,
   "metadata": {},
   "outputs": [
    {
     "name": "stdout",
     "output_type": "stream",
     "text": [
      "Bienvenido a ... \n",
      "\n",
      "              _                  __\n",
      "   ____ ___  (_)  ________  ____/ /\n",
      "  / __ `__ \\/ /  / ___/ _ \\/ __  /\n",
      " / / / / / / /  / /  /  __/ /_/ /\n",
      "/_/ /_/ /_/_/  /_/   \\___/\\__,_/\n",
      "\n",
      "\n"
     ]
    },
    {
     "name": "stdin",
     "output_type": "stream",
     "text": [
      "Para empezar, dime como te llamas.  d\n"
     ]
    },
    {
     "name": "stdout",
     "output_type": "stream",
     "text": [
      "\n",
      "Hola  d , bienvenido a Mi Red\n",
      "\n"
     ]
    },
    {
     "name": "stdin",
     "output_type": "stream",
     "text": [
      "Para preparar tu perfil, dime en quÃ© aÃ±o naciste.  1887\n"
     ]
    },
    {
     "name": "stdout",
     "output_type": "stream",
     "text": [
      "\n"
     ]
    },
    {
     "name": "stdin",
     "output_type": "stream",
     "text": [
      "CuÃ©ntame mÃ¡s de ti, para agregarlo a tu perfil. Â¿CuÃ¡nto mides? DÃ­melo en metros.  1.77\n",
      "Muy bien. Finalmente, cuÃ©ntame cuantos amigos tienes.  3\n"
     ]
    },
    {
     "name": "stdout",
     "output_type": "stream",
     "text": [
      "\n",
      "Muy bien, d . Entonces podemos crear un perfil con estos datos.\n",
      "--------------------------------------------------\n",
      "Nombre:   d\n",
      "Edad:     129 aÃ±os\n",
      "Estatura: 1 metros y 77 centÃ­metros\n",
      "Amigos:   3\n",
      "--------------------------------------------------\n",
      "Gracias por la informaciÃ³n. Esperamos que disfrutes con Mi Red\n",
      "\n"
     ]
    },
    {
     "name": "stdin",
     "output_type": "stream",
     "text": [
      "Â¿Deseas escribir un mensaje? (S/N)  N\n"
     ]
    },
    {
     "name": "stdout",
     "output_type": "stream",
     "text": [
      "Gracias por usar Mi Red. Â¡Hasta pronto!\n"
     ]
    }
   ],
   "source": [
    "\n",
    "#Hola, ahora que ya sabemos construir una interacciÃ³n bÃ¡sica con nuestro programa\n",
    "#de red social, vamos a agregar nuevas funcionalidades.\n",
    "#\n",
    "#Vamos a partir con el mismo programa de la etapa anterior, que permite dos cosas:\n",
    "#1. Obtener datos del usuario\n",
    "#2. Consultar y mostrar UN mensaje de estado del usuario\n",
    "#\n",
    "#Una caracterÃ­stica de los programas con mÃºltiples funcionalidades es que ofrecen un menÃº de acciones\n",
    "#al usuario. Los menÃº de opciones permiten que el usuario escoja que acciÃ³n realizar y podemos\n",
    "#implementarlos usando un ciclo while que funcionen mientras el usuario no escoja una acciÃ³n de salida.\n",
    "#Cada vez que el usuario escoja una acciÃ³n podemos usar una serie de 'if/elif/else' para ejecutar\n",
    "#distintas secciones de cÃ³digo de acuerdo a lo que el usuario ha solicitado.\n",
    "\n",
    "#Para empezar vamos a permitir que el usuario publique todos los mensajes que considere desee hasta\n",
    "#que decida salir voluntariamente del programa.\n",
    "\n",
    "############################################################\n",
    "# Bienvenida\n",
    "\n",
    "print(\"Bienvenido a ... \")\n",
    "print(\"\"\"\n",
    "              _                  __\n",
    "   ____ ___  (_)  ________  ____/ /\n",
    "  / __ `__ \\/ /  / ___/ _ \\/ __  /\n",
    " / / / / / / /  / /  /  __/ /_/ /\n",
    "/_/ /_/ /_/_/  /_/   \\___/\\__,_/\n",
    "\n",
    "\"\"\")\n",
    "\n",
    "# Solicitud de nombre\n",
    "nombre = input(\"Para empezar, dime como te llamas. \")\n",
    "print()\n",
    "print(\"Hola \", nombre, \", bienvenido a Mi Red\")\n",
    "print()\n",
    "\n",
    "# CÃ¡lculo de edad\n",
    "agno = int(input(\"Para preparar tu perfil, dime en quÃ© aÃ±o naciste. \"))\n",
    "edad = 2017-agno-1\n",
    "print()\n",
    "\n",
    "# CÃ¡lculo de estatura\n",
    "estatura = float(input(\"CuÃ©ntame mÃ¡s de ti, para agregarlo a tu perfil. Â¿CuÃ¡nto mides? DÃ­melo en metros. \"))\n",
    "estatura_m = int(estatura)\n",
    "estatura_cm = int( (estatura - estatura_m)*100 )\n",
    "\n",
    "# Cantidad de amigos\n",
    "num_amigos = int(input(\"Muy bien. Finalmente, cuÃ©ntame cuantos amigos tienes. \"))\n",
    "\n",
    "#Con los datos recolectados escribimos en pantalla un texto que resuma los datos que hemos obtenido\n",
    "print()\n",
    "print(\"Muy bien,\", nombre, \". Entonces podemos crear un perfil con estos datos.\")\n",
    "print(\"--------------------------------------------------\")\n",
    "print(\"Nombre:  \", nombre)\n",
    "print(\"Edad:    \", edad, \"aÃ±os\")\n",
    "print(\"Estatura:\", estatura_m, \"metros y\", estatura_cm, \"centÃ­metros\")\n",
    "print(\"Amigos:  \", num_amigos)\n",
    "print(\"--------------------------------------------------\")\n",
    "print(\"Gracias por la informaciÃ³n. Esperamos que disfrutes con Mi Red\")\n",
    "print()\n",
    "\n",
    "#Usaremos una variable bool para indicar si el usuario desea continuar\n",
    "#utilizando el programa o no\n",
    "continuar = True\n",
    "\n",
    "#Este ciclo se mantiene en ejecuciÃ³n hasta que el usuario desee salir\n",
    "while continuar:\n",
    "\n",
    "    #Solicitamos opciÃ³n al usuario\n",
    "    escribir_mensaje = str(input(\"Â¿Deseas escribir un mensaje? (S/N) \"))\n",
    "\n",
    "    #Vamos a aceptar que el usuario ingrese un mensaje cuando escriban \"S\", \"s\", o nada\n",
    "    if escribir_mensaje == \"S\" or escribir_mensaje == \"s\" or escribir_mensaje == \"\":\n",
    "        mensaje = input(\"Vamos a publicar un mensaje. Â¿QuÃ© piensas hoy? \")\n",
    "        print()\n",
    "        print(\"--------------------------------------------------\")\n",
    "        print(nombre, \"dice:\", mensaje)\n",
    "        print(\"--------------------------------------------------\")\n",
    "    #En caso que sea otra respuesta, vamos a decidir salir.\n",
    "    #AsÃ­, en la siguiente iteraciÃ³n el ciclo terminarÃ¡\n",
    "    #else:\n",
    "    continuar = False\n",
    "\n",
    "#Mensaje de salida, una vez que el ciclo ha terminado.\n",
    "print(\"Gracias por usar Mi Red. Â¡Hasta pronto!\")\n",
    "\n",
    "#Ahora puedes escribir mensajes todas las veces que quieras.\n",
    "#Observa que hemos utilizado un ciclo while que permite repetir la acciÃ³n de preguntar por un mensajes\n",
    "#hasta que el usuario escribe algo distino de \"S\".\n",
    "\n",
    "#Pero las redes sociales pueden ejecutar mÃ¡sacciones que solamente enviar mensajes.\n",
    "#Te proponemos los siguientes desafÃ­os:\n",
    "#1. Este programa termina cada vez que el valor de 'escribir_mensaje' es distinto a \"S\" o a \"s\".\n",
    "#   Modifique el programa para que el programa termine UNICAMENTE cuando se ingresa \"N\" o \"n\".\n",
    "#   En caso que se ingrese algo distinto, debe volver a solicitar una opciÃ³n al usuario.\n",
    "#\n",
    "#2. Modifica este menÃº para que le permita el usuario realizar mÃ¡s de una acciÃ³n.\n",
    "#   Por ejemplo, puedes agregar una acciÃ³n que permita al usuario modificar su nombre."
   ]
  },
  {
   "cell_type": "code",
   "execution_count": 2,
   "metadata": {},
   "outputs": [],
   "source": [
    "def funcion_misteriosa(x):\n",
    "    for i in range(2,x):\n",
    "        if x%i==0:\n",
    "            \n",
    "            return False\n",
    "        \n",
    "    return True"
   ]
  },
  {
   "cell_type": "code",
   "execution_count": 3,
   "metadata": {},
   "outputs": [
    {
     "name": "stdout",
     "output_type": "stream",
     "text": [
      "True\n",
      "False\n"
     ]
    }
   ],
   "source": [
    "print(funcion_misteriosa(103))\n",
    "print(funcion_misteriosa(102))"
   ]
  },
  {
   "cell_type": "code",
   "execution_count": 27,
   "metadata": {},
   "outputs": [
    {
     "name": "stdout",
     "output_type": "stream",
     "text": [
      "10\n",
      "20\n"
     ]
    }
   ],
   "source": [
    "\n",
    "def operacion(n):\n",
    "    \n",
    "    if n > 10:\n",
    "        return 20\n",
    "        return 15\n",
    "\n",
    "    return 10\n",
    "    return 25\n",
    "\n",
    "print(operacion(8))\n",
    "print(operacion(12))"
   ]
  },
  {
   "cell_type": "code",
   "execution_count": 30,
   "metadata": {},
   "outputs": [
    {
     "name": "stdout",
     "output_type": "stream",
     "text": [
      "820\n"
     ]
    }
   ],
   "source": [
    "def funcion(n):\n",
    "    a = n ** 3\n",
    "    b = a ** 2\n",
    "    c = b + 100\n",
    "    d = 5 * c\n",
    "    return print(d)\n",
    "\n",
    "d = funcion(2)"
   ]
  },
  {
   "cell_type": "code",
   "execution_count": 6,
   "metadata": {},
   "outputs": [],
   "source": [
    "from random import *\n",
    "a = randint(1,10)"
   ]
  },
  {
   "cell_type": "code",
   "execution_count": 7,
   "metadata": {},
   "outputs": [
    {
     "ename": "AttributeError",
     "evalue": "'builtin_function_or_method' object has no attribute 'randint'",
     "output_type": "error",
     "traceback": [
      "\u001b[0;31m---------------------------------------------------------------------------\u001b[0m",
      "\u001b[0;31mAttributeError\u001b[0m                            Traceback (most recent call last)",
      "\u001b[0;32m<ipython-input-7-439c7ff45651>\u001b[0m in \u001b[0;36m<module>\u001b[0;34m\u001b[0m\n\u001b[1;32m      1\u001b[0m \u001b[0;32mfrom\u001b[0m \u001b[0mrandom\u001b[0m \u001b[0;32mimport\u001b[0m \u001b[0;34m*\u001b[0m\u001b[0;34m\u001b[0m\u001b[0;34m\u001b[0m\u001b[0m\n\u001b[0;32m----> 2\u001b[0;31m \u001b[0ma\u001b[0m \u001b[0;34m=\u001b[0m \u001b[0mrandom\u001b[0m\u001b[0;34m.\u001b[0m\u001b[0mrandint\u001b[0m\u001b[0;34m(\u001b[0m\u001b[0;36m1\u001b[0m\u001b[0;34m,\u001b[0m\u001b[0;36m10\u001b[0m\u001b[0;34m)\u001b[0m\u001b[0;34m\u001b[0m\u001b[0;34m\u001b[0m\u001b[0m\n\u001b[0m",
      "\u001b[0;31mAttributeError\u001b[0m: 'builtin_function_or_method' object has no attribute 'randint'"
     ]
    }
   ],
   "source": [
    "from random import *\n",
    "a = random.randint(1,10)"
   ]
  },
  {
   "cell_type": "code",
   "execution_count": 9,
   "metadata": {},
   "outputs": [],
   "source": [
    "def blabla():\n",
    "    return 4"
   ]
  },
  {
   "cell_type": "code",
   "execution_count": 12,
   "metadata": {},
   "outputs": [],
   "source": [
    "\n",
    "def mcd(n1, n2):\n",
    "    \n",
    "    \n",
    "    if n1 > n2:\n",
    "        \n",
    "        for n in range(1, n1):\n",
    "            \n",
    "            if n1%n == 0 and n2%n ==0:\n",
    "                \n",
    "                maximo = n\n",
    "                \n",
    "    else:\n",
    "        \n",
    "        for n in range(1, n2):\n",
    "            \n",
    "            if n1%n == 0 and n2%n ==0:\n",
    "                \n",
    "                maximo = n\n",
    "                \n",
    "    return maximo\n"
   ]
  },
  {
   "cell_type": "code",
   "execution_count": 15,
   "metadata": {},
   "outputs": [
    {
     "data": {
      "text/plain": [
       "1"
      ]
     },
     "execution_count": 15,
     "metadata": {},
     "output_type": "execute_result"
    }
   ],
   "source": [
    "mcd(10, 9)"
   ]
  },
  {
   "cell_type": "code",
   "execution_count": 21,
   "metadata": {},
   "outputs": [
    {
     "data": {
      "text/plain": [
       "6"
      ]
     },
     "execution_count": 21,
     "metadata": {},
     "output_type": "execute_result"
    }
   ],
   "source": [
    "def exponente(n):\n",
    "\n",
    "    ex = 0\n",
    "\n",
    "    while (2**ex) < n:\n",
    "\n",
    "        ex += 1\n",
    "\n",
    "    return (ex - 1 )\n",
    "\n",
    "exponente(65)\n"
   ]
  },
  {
   "cell_type": "code",
   "execution_count": 43,
   "metadata": {},
   "outputs": [],
   "source": [
    "\n",
    "\n",
    "a = 1248734068\n",
    "\n",
    "\n",
    "\n",
    "l_s = list(str(a))\n"
   ]
  },
  {
   "cell_type": "code",
   "execution_count": 45,
   "metadata": {},
   "outputs": [
    {
     "data": {
      "text/plain": [
       "['0', '6', '8']"
      ]
     },
     "execution_count": 45,
     "metadata": {},
     "output_type": "execute_result"
    }
   ],
   "source": [
    "\n",
    "for i in range(len(l_s) - 3):\n",
    "    l_s.pop(0)\n",
    "    \n",
    "l_s"
   ]
  },
  {
   "cell_type": "code",
   "execution_count": 57,
   "metadata": {},
   "outputs": [
    {
     "data": {
      "text/plain": [
       "68"
      ]
     },
     "execution_count": 57,
     "metadata": {},
     "output_type": "execute_result"
    }
   ],
   "source": [
    "\n",
    "l_s = list(map(int, l_s))\n",
    "l_s\n",
    "\n",
    "\n",
    "pro = 100\n",
    "total = 0\n",
    "for i in l_s:\n",
    "    \n",
    "    total += i*pro\n",
    "    pro /= 10\n",
    "\n",
    "total = int(total)\n",
    "total"
   ]
  },
  {
   "cell_type": "code",
   "execution_count": 67,
   "metadata": {},
   "outputs": [
    {
     "name": "stdout",
     "output_type": "stream",
     "text": [
      "2\n",
      "3\n",
      "4\n"
     ]
    },
    {
     "data": {
      "text/plain": [
       "True"
      ]
     },
     "execution_count": 67,
     "metadata": {},
     "output_type": "execute_result"
    }
   ],
   "source": [
    "\n",
    "primo = False\n",
    "total = 5\n",
    "\n",
    "for i in range(2, total):\n",
    "    print(i)\n",
    "    if total%i == 0:\n",
    "        primo = False\n",
    "        break\n",
    "    else:\n",
    "        primo = True\n",
    "primo"
   ]
  },
  {
   "cell_type": "code",
   "execution_count": null,
   "metadata": {},
   "outputs": [],
   "source": []
  }
 ],
 "metadata": {
  "kernelspec": {
   "display_name": "Python 3",
   "language": "python",
   "name": "python3"
  },
  "language_info": {
   "codemirror_mode": {
    "name": "ipython",
    "version": 3
   },
   "file_extension": ".py",
   "mimetype": "text/x-python",
   "name": "python",
   "nbconvert_exporter": "python",
   "pygments_lexer": "ipython3",
   "version": "3.8.5"
  }
 },
 "nbformat": 4,
 "nbformat_minor": 4
}
