{
 "cells": [
  {
   "cell_type": "markdown",
   "id": "9941a7b4-c8b8-4e42-ba0a-0ccae78dc331",
   "metadata": {},
   "source": [
    "### 6.1 (Discussion: Dictionary Methods)"
   ]
  },
  {
   "cell_type": "code",
   "execution_count": 11,
   "id": "c166c8a7-1da1-4e3e-9553-80fd311044d3",
   "metadata": {},
   "outputs": [
    {
     "data": {
      "text/plain": [
       "dict_keys(['Element1', 'Element2'])"
      ]
     },
     "execution_count": 11,
     "metadata": {},
     "output_type": "execute_result"
    }
   ],
   "source": [
    "\n",
    "set_ex = {1, 2, 4, 4}\n",
    "example = {'Element1': 1, 'Element2': 2}\n",
    "\n",
    "set_1 = 'element'\n",
    "\n",
    "example.keys()"
   ]
  },
  {
   "cell_type": "code",
   "execution_count": 12,
   "id": "f98b0134-3175-4936-86dc-915ba9de2928",
   "metadata": {},
   "outputs": [
    {
     "data": {
      "text/plain": [
       "dict_values([1, 2])"
      ]
     },
     "execution_count": 12,
     "metadata": {},
     "output_type": "execute_result"
    }
   ],
   "source": [
    "example.values()"
   ]
  },
  {
   "cell_type": "code",
   "execution_count": 13,
   "id": "6ef1b808-d97f-482b-908f-a622eeee01dd",
   "metadata": {},
   "outputs": [
    {
     "data": {
      "text/plain": [
       "dict_items([('Element1', 1), ('Element2', 2)])"
      ]
     },
     "execution_count": 13,
     "metadata": {},
     "output_type": "execute_result"
    }
   ],
   "source": [
    "example.items()"
   ]
  },
  {
   "cell_type": "code",
   "execution_count": 15,
   "id": "c7ffbd03-d1b3-4bae-88a6-42ed6f44eccc",
   "metadata": {},
   "outputs": [
    {
     "data": {
      "text/plain": [
       "{1, 2, 4, 'element'}"
      ]
     },
     "execution_count": 15,
     "metadata": {},
     "output_type": "execute_result"
    }
   ],
   "source": [
    "\n",
    "set_ex.add(set_1)\n",
    "set_ex"
   ]
  },
  {
   "cell_type": "markdown",
   "id": "74969016-a3d5-47e0-a746-d6a8b3e7e6ec",
   "metadata": {},
   "source": [
    "### 6.2 (What’s Wrong with This Code?)"
   ]
  },
  {
   "cell_type": "code",
   "execution_count": 17,
   "id": "c5248e31-250c-4ac3-a7e2-387f6f112427",
   "metadata": {},
   "outputs": [
    {
     "name": "stdout",
     "output_type": "stream",
     "text": [
      "be          2\n",
      "is          1\n",
      "not         1\n",
      "or          1\n",
      "question    1\n",
      "that        1\n",
      "the         1\n",
      "to          2\n"
     ]
    }
   ],
   "source": [
    "from collections import Counter\n",
    "\n",
    "text = ('to be or not to be that is the question') \n",
    "\n",
    "counter = Counter(text.split())\n",
    "\n",
    "#We must add the .items method\n",
    "for word, count in sorted(counter.items()):\n",
    "    print(f'{word:<12}{count}')"
   ]
  },
  {
   "cell_type": "code",
   "execution_count": 19,
   "id": "ee28cc20-d8c7-4473-840a-b7291ec8970d",
   "metadata": {},
   "outputs": [
    {
     "name": "stdout",
     "output_type": "stream",
     "text": [
      "Counter({'to': 2, 'be': 2, 'or': 1, 'not': 1, 'that': 1, 'is': 1, 'the': 1, 'question': 1})\n",
      "<class 'collections.Counter'>\n"
     ]
    }
   ],
   "source": [
    "\n",
    "print(counter)\n",
    "print(type(counter))"
   ]
  },
  {
   "cell_type": "markdown",
   "id": "0d8c28eb-1dc5-4e95-86ed-dcc54b3ab3e8",
   "metadata": {},
   "source": [
    "### 6.3 (What Does This Code Do?) "
   ]
  },
  {
   "cell_type": "code",
   "execution_count": 20,
   "id": "c7905f4f-b36f-47a9-8d08-bfb12e4c94f1",
   "metadata": {},
   "outputs": [
    {
     "name": "stdout",
     "output_type": "stream",
     "text": [
      "Monday: 70.00\n",
      "Tuesday: 56.67\n",
      "Wednesday: 79.33\n",
      "Thursday: 74.00\n"
     ]
    }
   ],
   "source": [
    "\n",
    "#It defines different temperatures at different times of day for four different days\n",
    "temperatures = {'Monday': [66, 70, 74], 'Tuesday': [50, 56, 64], 'Wednesday': [75, 80, 83], 'Thursday': [67, 74, 81]}\n",
    "\n",
    "\n",
    "#For each day it takes the average temperature\n",
    "for k, v in temperatures.items():\n",
    "    print(f'{k}: {sum(v)/len(v):.2f}')\n",
    "\n",
    "\n"
   ]
  },
  {
   "cell_type": "markdown",
   "id": "e0c6ad0a-1aa2-41ec-ac21-d0064769c733",
   "metadata": {},
   "source": [
    "### 6.4 (Fill in the Missing Code)"
   ]
  },
  {
   "cell_type": "code",
   "execution_count": 21,
   "id": "d10971b5-8f3e-4b5e-829b-e061611c1a5d",
   "metadata": {},
   "outputs": [
    {
     "data": {
      "text/plain": [
       "{1, 2, 4, 8, 16, 64, 256}"
      ]
     },
     "execution_count": 21,
     "metadata": {},
     "output_type": "execute_result"
    }
   ],
   "source": [
    "\n",
    "{1, 2, 4, 8, 16}|{1, 4, 16, 64, 256}"
   ]
  },
  {
   "cell_type": "code",
   "execution_count": 22,
   "id": "d9d9ed1d-88e6-487c-9583-0f32512d608a",
   "metadata": {},
   "outputs": [
    {
     "data": {
      "text/plain": [
       "{1, 4, 16}"
      ]
     },
     "execution_count": 22,
     "metadata": {},
     "output_type": "execute_result"
    }
   ],
   "source": [
    "{1, 2, 4, 8, 16}&{1, 4, 16, 64, 256}"
   ]
  },
  {
   "cell_type": "code",
   "execution_count": 23,
   "id": "d1b638b0-0b6b-4096-a7d3-d3a7e09c90a0",
   "metadata": {},
   "outputs": [
    {
     "data": {
      "text/plain": [
       "{2, 8}"
      ]
     },
     "execution_count": 23,
     "metadata": {},
     "output_type": "execute_result"
    }
   ],
   "source": [
    "{1,2,4,8,16}-{1,4,16,64,256}"
   ]
  },
  {
   "cell_type": "code",
   "execution_count": 24,
   "id": "f7478e28-549e-49e0-99a3-0eaaf800faa1",
   "metadata": {},
   "outputs": [
    {
     "data": {
      "text/plain": [
       "{2, 8, 64, 256}"
      ]
     },
     "execution_count": 24,
     "metadata": {},
     "output_type": "execute_result"
    }
   ],
   "source": [
    "{1, 2, 4, 8, 16}^{1, 4, 16, 64, 256}"
   ]
  },
  {
   "cell_type": "code",
   "execution_count": 26,
   "id": "80727c11-203a-4a40-bbcd-532a3e8ac6fe",
   "metadata": {},
   "outputs": [
    {
     "data": {
      "text/plain": [
       "False"
      ]
     },
     "execution_count": 26,
     "metadata": {},
     "output_type": "execute_result"
    }
   ],
   "source": [
    "{1,2,4,8,16}<{1,4,16,64,256}"
   ]
  },
  {
   "cell_type": "markdown",
   "id": "1c377aac-bf19-4411-b2a3-11bebc9c66b1",
   "metadata": {},
   "source": [
    "### 6.5 (Counting Votes) "
   ]
  },
  {
   "cell_type": "code",
   "execution_count": 67,
   "id": "c35dce4a-a227-463f-88da-c14b8364ceed",
   "metadata": {},
   "outputs": [
    {
     "name": "stdout",
     "output_type": "stream",
     "text": [
      "Candidate   Votes\n",
      "1             1\n",
      "2             2\n",
      "3             2\n",
      "4             3\n",
      "5             1\n",
      "6             34\n",
      "7             54\n",
      "8             6\n",
      "9             7\n",
      "10            1\n",
      "11            32\n",
      "12            34\n",
      "13            56\n",
      "14            78\n",
      "15            54\n",
      "16            79\n",
      "17            65\n",
      "18            43\n",
      "19            56\n"
     ]
    }
   ],
   "source": [
    "\n",
    "\n",
    "votes = '1,2,2,3,1,34,54,6,7,1,32,34,56,78,54,79,65,43,56'\n",
    "\n",
    "vote_count = {}\n",
    "vote_split = votes.split(',')\n",
    "\n",
    "for cand, vote in zip(range(1, len(vote_split)+1), vote_split):\n",
    "    \n",
    "    #cand = f'Candidate {cand}'\n",
    "    \n",
    "    vote_count.update({cand:int(vote)})\n",
    "        \n",
    "print(f'{\"Candidate\":<12}Votes')\n",
    "\n",
    "for cand, vote in vote_count.items():\n",
    "    print(f'{cand:<14}{vote}')"
   ]
  },
  {
   "cell_type": "code",
   "execution_count": null,
   "id": "3dee158f-1c68-4b15-8558-d722d5f8e941",
   "metadata": {},
   "outputs": [],
   "source": []
  },
  {
   "cell_type": "code",
   "execution_count": null,
   "id": "df4d075a-a29a-4dfd-a208-43845730cdf7",
   "metadata": {},
   "outputs": [],
   "source": []
  },
  {
   "cell_type": "code",
   "execution_count": null,
   "id": "50341d38-9e6f-44a8-b4ce-5bfdc90781d0",
   "metadata": {},
   "outputs": [],
   "source": []
  }
 ],
 "metadata": {
  "kernelspec": {
   "display_name": "Python 3 (ipykernel)",
   "language": "python",
   "name": "python3"
  },
  "language_info": {
   "codemirror_mode": {
    "name": "ipython",
    "version": 3
   },
   "file_extension": ".py",
   "mimetype": "text/x-python",
   "name": "python",
   "nbconvert_exporter": "python",
   "pygments_lexer": "ipython3",
   "version": "3.8.12"
  }
 },
 "nbformat": 4,
 "nbformat_minor": 5
}
