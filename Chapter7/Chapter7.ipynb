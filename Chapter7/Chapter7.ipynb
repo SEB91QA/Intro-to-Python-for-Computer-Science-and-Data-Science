{
 "cells": [
  {
   "cell_type": "markdown",
   "id": "0e03cb76-1509-46a9-8e74-b7b55a4009fe",
   "metadata": {},
   "source": [
    "## 7.1 Introduction"
   ]
  },
  {
   "cell_type": "markdown",
   "id": "2abf74db-199a-47ee-a9c2-c2df536fb1f4",
   "metadata": {},
   "source": [
    "## 7.2 Creating arrays from existing Data"
   ]
  },
  {
   "cell_type": "code",
   "execution_count": 1,
   "id": "766b9700-2889-4d51-b82b-6f2f22b0c76b",
   "metadata": {},
   "outputs": [],
   "source": [
    "\n",
    "import numpy as np\n"
   ]
  },
  {
   "cell_type": "code",
   "execution_count": 2,
   "id": "e933e30c-6d9e-48ad-8683-11087d53f3d2",
   "metadata": {},
   "outputs": [],
   "source": [
    "numbers = np.array([2, 3, 5, 7, 11])"
   ]
  },
  {
   "cell_type": "code",
   "execution_count": 3,
   "id": "b24fa009-4f6a-4663-b842-a9449768603c",
   "metadata": {},
   "outputs": [
    {
     "data": {
      "text/plain": [
       "numpy.ndarray"
      ]
     },
     "execution_count": 3,
     "metadata": {},
     "output_type": "execute_result"
    }
   ],
   "source": [
    "type(numbers)"
   ]
  },
  {
   "cell_type": "code",
   "execution_count": 4,
   "id": "a6b1c83b-569b-4882-bd74-1d748e9e412c",
   "metadata": {},
   "outputs": [
    {
     "data": {
      "text/plain": [
       "array([ 2,  3,  5,  7, 11])"
      ]
     },
     "execution_count": 4,
     "metadata": {},
     "output_type": "execute_result"
    }
   ],
   "source": [
    "numbers"
   ]
  },
  {
   "cell_type": "markdown",
   "id": "a25b021e-e819-48c1-aa4e-5d4cfd56848e",
   "metadata": {},
   "source": [
    "### Multidimensional Arguments"
   ]
  },
  {
   "cell_type": "code",
   "execution_count": 5,
   "id": "7167a8fa-433d-42f6-ba23-d596703d8566",
   "metadata": {},
   "outputs": [
    {
     "data": {
      "text/plain": [
       "array([[1, 2, 3],\n",
       "       [4, 6, 7]])"
      ]
     },
     "execution_count": 5,
     "metadata": {},
     "output_type": "execute_result"
    }
   ],
   "source": [
    "np.array([[1, 2, 3], [4, 6, 7]])"
   ]
  },
  {
   "cell_type": "code",
   "execution_count": 6,
   "id": "d84030b4-783c-47c0-a786-c7b6011c5f67",
   "metadata": {},
   "outputs": [
    {
     "data": {
      "text/plain": [
       "array([ 2,  4,  6,  8, 10, 12, 14, 16, 18, 20])"
      ]
     },
     "execution_count": 6,
     "metadata": {},
     "output_type": "execute_result"
    }
   ],
   "source": [
    "\n",
    "#Ndarray from comprehension list\n",
    "\n",
    "np.array([item for item in range(2, 21) if item%2 == 0])"
   ]
  },
  {
   "cell_type": "code",
   "execution_count": 7,
   "id": "d4d604d3-8935-4caf-9371-ca7979837f52",
   "metadata": {},
   "outputs": [
    {
     "data": {
      "text/plain": [
       "array([ 2,  4,  6,  8, 10, 12, 14, 16, 18, 20])"
      ]
     },
     "execution_count": 7,
     "metadata": {},
     "output_type": "execute_result"
    }
   ],
   "source": [
    "np.array([item for item in range(2, 21, 2)])"
   ]
  },
  {
   "cell_type": "code",
   "execution_count": 8,
   "id": "4993547c-79b5-49dc-9bc2-f228c4258c0d",
   "metadata": {},
   "outputs": [
    {
     "data": {
      "text/plain": [
       "array([[ 2,  4,  6,  8, 10],\n",
       "       [ 1,  3,  5,  7,  9]])"
      ]
     },
     "execution_count": 8,
     "metadata": {},
     "output_type": "execute_result"
    }
   ],
   "source": [
    "\n",
    "#2-5 Ndarray\n",
    "\n",
    "np.array([[2, 4, 6, 8, 10], [1, 3, 5, 7, 9]])"
   ]
  },
  {
   "cell_type": "markdown",
   "id": "2dbc7b3d-a567-44ad-8819-a933332675a7",
   "metadata": {},
   "source": [
    "## 7.3 array Attributes"
   ]
  },
  {
   "cell_type": "code",
   "execution_count": 9,
   "id": "74d6bd2d-5db1-4e55-826e-3df1b7a26606",
   "metadata": {},
   "outputs": [
    {
     "data": {
      "text/plain": [
       "array([[1, 2, 3],\n",
       "       [4, 5, 6]])"
      ]
     },
     "execution_count": 9,
     "metadata": {},
     "output_type": "execute_result"
    }
   ],
   "source": [
    "\n",
    "integers = np.array([[1, 2, 3], [4, 5, 6]])\n",
    "integers"
   ]
  },
  {
   "cell_type": "code",
   "execution_count": 10,
   "id": "7da321d1-f096-483a-90b0-7b13c1f413e7",
   "metadata": {},
   "outputs": [
    {
     "data": {
      "text/plain": [
       "array([0. , 0.1, 0.2, 0.3, 0.4])"
      ]
     },
     "execution_count": 10,
     "metadata": {},
     "output_type": "execute_result"
    }
   ],
   "source": [
    "\n",
    "floats = np.array([0.0, 0.1, 0.2, 0.3, 0.4])\n",
    "floats"
   ]
  },
  {
   "cell_type": "code",
   "execution_count": 11,
   "id": "03a8896d-76b0-4b26-b968-114684346abb",
   "metadata": {},
   "outputs": [
    {
     "data": {
      "text/plain": [
       "dtype('int32')"
      ]
     },
     "execution_count": 11,
     "metadata": {},
     "output_type": "execute_result"
    }
   ],
   "source": [
    "\n",
    "#Determine the type\n",
    "\n",
    "integers.dtype"
   ]
  },
  {
   "cell_type": "code",
   "execution_count": 12,
   "id": "82f19cde-9cb4-403e-bcea-e2a12e2299a4",
   "metadata": {},
   "outputs": [
    {
     "data": {
      "text/plain": [
       "dtype('float64')"
      ]
     },
     "execution_count": 12,
     "metadata": {},
     "output_type": "execute_result"
    }
   ],
   "source": [
    "floats.dtype"
   ]
  },
  {
   "cell_type": "code",
   "execution_count": 13,
   "id": "16f4af03-1fa4-4a55-97aa-2317ec7f0e1b",
   "metadata": {},
   "outputs": [
    {
     "data": {
      "text/plain": [
       "2"
      ]
     },
     "execution_count": 13,
     "metadata": {},
     "output_type": "execute_result"
    }
   ],
   "source": [
    "\n",
    "#Determine the dimension\n",
    "\n",
    "integers.ndim"
   ]
  },
  {
   "cell_type": "code",
   "execution_count": 14,
   "id": "9f04ee56-76e6-47ae-9bd0-3c64dde39e03",
   "metadata": {},
   "outputs": [
    {
     "data": {
      "text/plain": [
       "1"
      ]
     },
     "execution_count": 14,
     "metadata": {},
     "output_type": "execute_result"
    }
   ],
   "source": [
    "floats.ndim"
   ]
  },
  {
   "cell_type": "code",
   "execution_count": 22,
   "id": "71836229-2e56-4952-ab7c-305f547874ca",
   "metadata": {},
   "outputs": [
    {
     "data": {
      "text/plain": [
       "(2, 3)"
      ]
     },
     "execution_count": 22,
     "metadata": {},
     "output_type": "execute_result"
    }
   ],
   "source": [
    "integers.shape"
   ]
  },
  {
   "cell_type": "code",
   "execution_count": 23,
   "id": "2699b0b9-8908-4e34-844f-241b3355dcc8",
   "metadata": {},
   "outputs": [
    {
     "data": {
      "text/plain": [
       "(5,)"
      ]
     },
     "execution_count": 23,
     "metadata": {},
     "output_type": "execute_result"
    }
   ],
   "source": [
    "floats.shape"
   ]
  },
  {
   "cell_type": "code",
   "execution_count": 24,
   "id": "8e5c3570-4e59-49ab-be67-80310575bd82",
   "metadata": {},
   "outputs": [
    {
     "data": {
      "text/plain": [
       "6"
      ]
     },
     "execution_count": 24,
     "metadata": {},
     "output_type": "execute_result"
    }
   ],
   "source": [
    "\n",
    "#Number of elements and element size\n",
    "\n",
    "integers.size"
   ]
  },
  {
   "cell_type": "code",
   "execution_count": 25,
   "id": "4e88550c-4f9f-4cde-800f-21415518b3b1",
   "metadata": {},
   "outputs": [
    {
     "data": {
      "text/plain": [
       "8"
      ]
     },
     "execution_count": 25,
     "metadata": {},
     "output_type": "execute_result"
    }
   ],
   "source": [
    "integers.itemsize #It contains 8 bytes"
   ]
  },
  {
   "cell_type": "code",
   "execution_count": 26,
   "id": "97813881-6156-450d-9343-30744fd8714b",
   "metadata": {},
   "outputs": [
    {
     "data": {
      "text/plain": [
       "5"
      ]
     },
     "execution_count": 26,
     "metadata": {},
     "output_type": "execute_result"
    }
   ],
   "source": [
    "floats.size"
   ]
  },
  {
   "cell_type": "code",
   "execution_count": 27,
   "id": "a724a1fd-b4e5-4914-8662-36561395e984",
   "metadata": {},
   "outputs": [
    {
     "data": {
      "text/plain": [
       "8"
      ]
     },
     "execution_count": 27,
     "metadata": {},
     "output_type": "execute_result"
    }
   ],
   "source": [
    "floats.itemsize #It contains 8 bytes"
   ]
  },
  {
   "cell_type": "code",
   "execution_count": 28,
   "id": "156b688d-e8a9-4e4c-92b4-1c247257c887",
   "metadata": {},
   "outputs": [
    {
     "name": "stdout",
     "output_type": "stream",
     "text": [
      "1  2  3  \n",
      "4  5  6  \n"
     ]
    }
   ],
   "source": [
    "\n",
    "# Iterating Through a Multidimensional array’s Elements\n",
    "\n",
    "for row in integers:\n",
    "    for column in row:\n",
    "        print(column, end='  ')\n",
    "    print()"
   ]
  },
  {
   "cell_type": "code",
   "execution_count": 15,
   "id": "4905018c-0bf5-4a4f-a225-86624d06faea",
   "metadata": {},
   "outputs": [
    {
     "name": "stdout",
     "output_type": "stream",
     "text": [
      "1 2 3 4 5 6 "
     ]
    }
   ],
   "source": [
    "\n",
    "for i in integers.flat: #Investigar\n",
    "    print(i, end=' ')\n"
   ]
  },
  {
   "cell_type": "code",
   "execution_count": 16,
   "id": "aa7c4a44-9624-4a00-86b1-32a9766f3762",
   "metadata": {},
   "outputs": [
    {
     "name": "stdout",
     "output_type": "stream",
     "text": [
      "0.0  0.1  0.2  0.3  0.4  "
     ]
    }
   ],
   "source": [
    "\n",
    "for i in floats.flat:\n",
    "    print(i, end='  ')"
   ]
  },
  {
   "cell_type": "code",
   "execution_count": 17,
   "id": "dc1fb685-d2f7-45fe-b758-3bd7942d18b5",
   "metadata": {},
   "outputs": [],
   "source": [
    "\n",
    "e = np.array([[2, 4, 6, 8, 10], [1, 3, 5, 7, 9]])\n"
   ]
  },
  {
   "cell_type": "code",
   "execution_count": 36,
   "id": "3ff28d83-c392-406e-b18f-e26770ad02b8",
   "metadata": {},
   "outputs": [
    {
     "data": {
      "text/plain": [
       "2"
      ]
     },
     "execution_count": 36,
     "metadata": {},
     "output_type": "execute_result"
    }
   ],
   "source": [
    "e.ndim"
   ]
  },
  {
   "cell_type": "code",
   "execution_count": 37,
   "id": "73b8c966-6517-424f-aafa-978d6cf682e7",
   "metadata": {},
   "outputs": [
    {
     "data": {
      "text/plain": [
       "(2, 5)"
      ]
     },
     "execution_count": 37,
     "metadata": {},
     "output_type": "execute_result"
    }
   ],
   "source": [
    "e.shape"
   ]
  },
  {
   "cell_type": "markdown",
   "id": "01fd0c27-dddd-49e0-9f0e-210a681f8cff",
   "metadata": {},
   "source": [
    "## 7.4 Filling arrays with Specific Values"
   ]
  },
  {
   "cell_type": "markdown",
   "id": "8df19159-4651-453a-a02f-1b351c467695",
   "metadata": {},
   "source": [
    "#### NumPy provides functions zeros, ones and full for creating arrays containing 0s, 1s or a specified value, respectively. By default, zeros and ones create arrays containing float64 values."
   ]
  },
  {
   "cell_type": "code",
   "execution_count": 38,
   "id": "5489acc1-29e0-4542-97f3-ca6d23ddb1b0",
   "metadata": {},
   "outputs": [
    {
     "data": {
      "text/plain": [
       "array([0., 0., 0., 0., 0.])"
      ]
     },
     "execution_count": 38,
     "metadata": {},
     "output_type": "execute_result"
    }
   ],
   "source": [
    "\n",
    "import numpy as np\n",
    "\n",
    "np.zeros(5)"
   ]
  },
  {
   "cell_type": "code",
   "execution_count": 39,
   "id": "e6f47ec4-3c0e-4326-888d-94b17b2f5433",
   "metadata": {},
   "outputs": [
    {
     "data": {
      "text/plain": [
       "array([[1, 1, 1, 1, 1],\n",
       "       [1, 1, 1, 1, 1]])"
      ]
     },
     "execution_count": 39,
     "metadata": {},
     "output_type": "execute_result"
    }
   ],
   "source": [
    "\n",
    "np.ones((2, 5), dtype=int)"
   ]
  },
  {
   "cell_type": "code",
   "execution_count": 40,
   "id": "1d71e6c3-dff3-4474-9bb4-1240f3efdfb6",
   "metadata": {},
   "outputs": [
    {
     "data": {
      "text/plain": [
       "array([[13, 13, 13, 13, 13],\n",
       "       [13, 13, 13, 13, 13]])"
      ]
     },
     "execution_count": 40,
     "metadata": {},
     "output_type": "execute_result"
    }
   ],
   "source": [
    "\n",
    "np.full((2, 5), 13)"
   ]
  },
  {
   "cell_type": "markdown",
   "id": "2159e08c-648a-472d-9589-1c7b316bb6c9",
   "metadata": {},
   "source": [
    "## 7.5 Creating arrays from Ranges"
   ]
  },
  {
   "cell_type": "code",
   "execution_count": 43,
   "id": "dc3973e6-9558-45cb-aaf4-8ef057731dd4",
   "metadata": {},
   "outputs": [
    {
     "data": {
      "text/plain": [
       "array([0, 1, 2, 3, 4])"
      ]
     },
     "execution_count": 43,
     "metadata": {},
     "output_type": "execute_result"
    }
   ],
   "source": [
    "\n",
    "import numpy as np\n",
    "\n",
    "np.arange(5)\n"
   ]
  },
  {
   "cell_type": "code",
   "execution_count": 44,
   "id": "bfee5a87-067d-488a-80c8-8d5bf244089e",
   "metadata": {},
   "outputs": [
    {
     "data": {
      "text/plain": [
       "array([5, 6, 7, 8, 9])"
      ]
     },
     "execution_count": 44,
     "metadata": {},
     "output_type": "execute_result"
    }
   ],
   "source": [
    "\n",
    "np.arange(5, 10)"
   ]
  },
  {
   "cell_type": "code",
   "execution_count": 56,
   "id": "d6ae73fc-011f-46d6-81b6-b1fcb020a1a1",
   "metadata": {},
   "outputs": [
    {
     "data": {
      "text/plain": [
       "array([10,  8,  6,  4,  2])"
      ]
     },
     "execution_count": 56,
     "metadata": {},
     "output_type": "execute_result"
    }
   ],
   "source": [
    "\n",
    "np.arange(10, 1, -2)"
   ]
  },
  {
   "cell_type": "code",
   "execution_count": null,
   "id": "54439a44-4b33-4560-9323-7edd3d51d4df",
   "metadata": {},
   "outputs": [],
   "source": [
    "\n",
    "'''Though you can create arrays by passing ranges as arguments, always use arange as it’s optimized for arrays.'''\n"
   ]
  },
  {
   "cell_type": "code",
   "execution_count": 61,
   "id": "11264d9a-7313-4549-8468-409281f602f7",
   "metadata": {},
   "outputs": [
    {
     "data": {
      "text/plain": [
       "array([0.  , 0.25, 0.5 , 0.75, 1.  ])"
      ]
     },
     "execution_count": 61,
     "metadata": {},
     "output_type": "execute_result"
    }
   ],
   "source": [
    "\n",
    "#Creating Floating-Point Ranges with linspace\n",
    "\n",
    "np.linspace(0.0, 1.0, num=5) #50 Spaces by default"
   ]
  },
  {
   "cell_type": "code",
   "execution_count": 69,
   "id": "e2fab4d0-a1c3-46dd-8111-4571284aef71",
   "metadata": {},
   "outputs": [
    {
     "data": {
      "text/plain": [
       "array([[ 1,  2,  3,  4,  5],\n",
       "       [ 6,  7,  8,  9, 10],\n",
       "       [11, 12, 13, 14, 15],\n",
       "       [16, 17, 18, 19, 20]])"
      ]
     },
     "execution_count": 69,
     "metadata": {},
     "output_type": "execute_result"
    }
   ],
   "source": [
    "\n",
    "#Reshaping an array\n",
    "\n",
    "#You also can create an array from a range of elements, \n",
    "#then use array method reshape to transform the one-dimensional array into a multidimensional array.\n",
    "\n",
    "np.arange(1, 21).reshape(4, 5)"
   ]
  },
  {
   "cell_type": "code",
   "execution_count": 73,
   "id": "35214747-6c45-4442-9ba1-12c34f1755ab",
   "metadata": {},
   "outputs": [
    {
     "data": {
      "text/plain": [
       "array([[    1,     2,     3, ...,  2498,  2499,  2500],\n",
       "       [ 2501,  2502,  2503, ...,  4998,  4999,  5000],\n",
       "       [ 5001,  5002,  5003, ...,  7498,  7499,  7500],\n",
       "       [ 7501,  7502,  7503, ...,  9998,  9999, 10000]])"
      ]
     },
     "execution_count": 73,
     "metadata": {},
     "output_type": "execute_result"
    }
   ],
   "source": [
    "\n",
    "#Displaying Large arrays\n",
    "\n",
    "np.arange(1, 10001).reshape(4, 2500)\n"
   ]
  },
  {
   "cell_type": "code",
   "execution_count": 74,
   "id": "91e122f1-8a40-4ede-a11b-5842b2563907",
   "metadata": {},
   "outputs": [
    {
     "data": {
      "text/plain": [
       "array([[    1,     2,     3, ...,   998,   999,  1000],\n",
       "       [ 1001,  1002,  1003, ...,  1998,  1999,  2000],\n",
       "       [ 2001,  2002,  2003, ...,  2998,  2999,  3000],\n",
       "       ...,\n",
       "       [ 7001,  7002,  7003, ...,  7998,  7999,  8000],\n",
       "       [ 8001,  8002,  8003, ...,  8998,  8999,  9000],\n",
       "       [ 9001,  9002,  9003, ...,  9998,  9999, 10000]])"
      ]
     },
     "execution_count": 74,
     "metadata": {},
     "output_type": "execute_result"
    }
   ],
   "source": [
    "np.arange(1, 10001).reshape(10, 1000)"
   ]
  },
  {
   "cell_type": "code",
   "execution_count": 75,
   "id": "4b8350ac-f0d0-4075-b042-87c5fe71390c",
   "metadata": {},
   "outputs": [
    {
     "data": {
      "text/plain": [
       "array([[ 2,  4,  6,  8, 10],\n",
       "       [12, 14, 16, 18, 20],\n",
       "       [22, 24, 26, 28, 30],\n",
       "       [32, 34, 36, 38, 40]])"
      ]
     },
     "execution_count": 75,
     "metadata": {},
     "output_type": "execute_result"
    }
   ],
   "source": [
    "\n",
    "np.arange(2, 41, 2).reshape(4, 5)"
   ]
  },
  {
   "cell_type": "markdown",
   "id": "d31edd8e-cafb-405b-983f-b31f94414b5c",
   "metadata": {},
   "source": [
    "## 7.6 List vs. array Performance: Introducing %timeit"
   ]
  },
  {
   "cell_type": "code",
   "execution_count": 76,
   "id": "b5a9e149-ae08-43c3-b023-edb81038ac75",
   "metadata": {},
   "outputs": [
    {
     "name": "stdout",
     "output_type": "stream",
     "text": [
      "5.73 s ± 104 ms per loop (mean ± std. dev. of 7 runs, 1 loop each)\n"
     ]
    }
   ],
   "source": [
    "\n",
    "#Timing the Creation of a List Containing Results of 6,000,000 Die Rolls\n",
    "\n",
    "import random\n",
    "\n",
    "%timeit rolls_list = [random.randrange(1, 7) for item in range(0, 6000000)]"
   ]
  },
  {
   "cell_type": "code",
   "execution_count": 77,
   "id": "d8dd320a-a242-4a11-bde1-b8a13d924a81",
   "metadata": {},
   "outputs": [
    {
     "name": "stdout",
     "output_type": "stream",
     "text": [
      "68.3 ms ± 2.88 ms per loop (mean ± std. dev. of 7 runs, 10 loops each)\n"
     ]
    }
   ],
   "source": [
    "\n",
    "import numpy as np\n",
    "\n",
    "%timeit rolls_array = np.random.randint(1, 7, 6000000) "
   ]
  },
  {
   "cell_type": "code",
   "execution_count": 78,
   "id": "24e71410-d5cf-4835-bb21-8cf0a2cb5a58",
   "metadata": {},
   "outputs": [
    {
     "name": "stdout",
     "output_type": "stream",
     "text": [
      "910 ms ± 39.3 ms per loop (mean ± std. dev. of 7 runs, 1 loop each)\n"
     ]
    }
   ],
   "source": [
    "\n",
    "%timeit rolls_array = np.random.randint(1, 7, 60_000_000)\n"
   ]
  },
  {
   "cell_type": "code",
   "execution_count": 79,
   "id": "f165ed51-57e9-462d-88f4-efdfc777a122",
   "metadata": {},
   "outputs": [
    {
     "name": "stdout",
     "output_type": "stream",
     "text": [
      "871 ms ± 37.8 ms per loop (mean ± std. dev. of 7 runs, 1 loop each)\n"
     ]
    }
   ],
   "source": [
    "%timeit rolls_array = np.random.randint(1, 7, 60_000_000)"
   ]
  },
  {
   "cell_type": "code",
   "execution_count": 80,
   "id": "e1bc30c5-a10e-481c-af3c-8ec7ae25c384",
   "metadata": {},
   "outputs": [
    {
     "name": "stdout",
     "output_type": "stream",
     "text": [
      "83.1 ms ± 3.75 ms per loop (mean ± std. dev. of 2 runs, 3 loops each)\n"
     ]
    }
   ],
   "source": [
    "\n",
    "#Customizing the %timeit Iterations\n",
    "\n",
    "%timeit -n3 -r2 rolls_array = np.random.randint(1, 7, 6_000_000)"
   ]
  },
  {
   "cell_type": "code",
   "execution_count": 83,
   "id": "7b7088b7-1662-4a0f-a1a8-4d9a2836ea1d",
   "metadata": {},
   "outputs": [
    {
     "name": "stdout",
     "output_type": "stream",
     "text": [
      "782 ms ± 2.14 ms per loop (mean ± std. dev. of 7 runs, 1 loop each)\n"
     ]
    }
   ],
   "source": [
    "\n",
    "%timeit sum([x for x in range(10_000_000)]) \n"
   ]
  },
  {
   "cell_type": "code",
   "execution_count": 84,
   "id": "efa20683-516a-491f-942b-79d607daead3",
   "metadata": {},
   "outputs": [
    {
     "name": "stdout",
     "output_type": "stream",
     "text": [
      "23.2 ms ± 1.94 ms per loop (mean ± std. dev. of 7 runs, 10 loops each)\n"
     ]
    }
   ],
   "source": [
    "%timeit np.arange(10_000_000).sum()"
   ]
  },
  {
   "cell_type": "markdown",
   "id": "e6fdd58a-d131-4703-b2b1-143477044637",
   "metadata": {},
   "source": [
    "## 7.7 array Operators"
   ]
  },
  {
   "cell_type": "code",
   "execution_count": 99,
   "id": "1fe9a145-bb6d-4e4d-aad8-d13394946ec6",
   "metadata": {},
   "outputs": [
    {
     "data": {
      "text/plain": [
       "array([1, 2, 3, 4, 5])"
      ]
     },
     "execution_count": 99,
     "metadata": {},
     "output_type": "execute_result"
    }
   ],
   "source": [
    "\n",
    "# Arithmetic Operations with arrays and Individual Numeric Values\n",
    "\n",
    "numbers = np.arange(1, 6)\n",
    "\n",
    "numbers "
   ]
  },
  {
   "cell_type": "code",
   "execution_count": 100,
   "id": "22b5b1b7-c45a-4c16-ae93-61bed7b87893",
   "metadata": {},
   "outputs": [
    {
     "data": {
      "text/plain": [
       "array([ 2,  4,  6,  8, 10])"
      ]
     },
     "execution_count": 100,
     "metadata": {},
     "output_type": "execute_result"
    }
   ],
   "source": [
    "\n",
    "numbers * 2\n"
   ]
  },
  {
   "cell_type": "code",
   "execution_count": 101,
   "id": "78543cf6-9721-47e0-9972-c2bbb01afe76",
   "metadata": {},
   "outputs": [
    {
     "data": {
      "text/plain": [
       "array([  1,   8,  27,  64, 125])"
      ]
     },
     "execution_count": 101,
     "metadata": {},
     "output_type": "execute_result"
    }
   ],
   "source": [
    "\n",
    "numbers ** 3\n"
   ]
  },
  {
   "cell_type": "code",
   "execution_count": 102,
   "id": "f7a8df0b-24a9-46b7-b898-c2c0de6f2581",
   "metadata": {},
   "outputs": [
    {
     "data": {
      "text/plain": [
       "array([1, 2, 3, 4, 5])"
      ]
     },
     "execution_count": 102,
     "metadata": {},
     "output_type": "execute_result"
    }
   ],
   "source": [
    "numbers"
   ]
  },
  {
   "cell_type": "code",
   "execution_count": 103,
   "id": "cdf95708-abd3-437c-90b9-f0fc7f03d010",
   "metadata": {},
   "outputs": [
    {
     "data": {
      "text/plain": [
       "array([11, 12, 13, 14, 15])"
      ]
     },
     "execution_count": 103,
     "metadata": {},
     "output_type": "execute_result"
    }
   ],
   "source": [
    "\n",
    "numbers += 10\n",
    "\n",
    "numbers"
   ]
  },
  {
   "cell_type": "code",
   "execution_count": 104,
   "id": "21b8e627-7488-466e-9ab6-3016d51c0211",
   "metadata": {},
   "outputs": [
    {
     "data": {
      "text/plain": [
       "array([11, 12, 13, 14, 15])"
      ]
     },
     "execution_count": 104,
     "metadata": {},
     "output_type": "execute_result"
    }
   ],
   "source": [
    "\n",
    "numbers\n"
   ]
  },
  {
   "cell_type": "code",
   "execution_count": 105,
   "id": "f23e6f80-1d57-484b-bdad-adb7f252a3b5",
   "metadata": {},
   "outputs": [],
   "source": [
    "\n",
    "# Broadcasting\n"
   ]
  },
  {
   "cell_type": "markdown",
   "id": "89f3d422-171e-4226-b3bf-ac126f3e4821",
   "metadata": {},
   "source": [
    "#### When one operand is a single value, called a scalar, NumPy performs the element- wise calculations as if the scalar were an array of the same shape as the other operand, but with the scalar value in all its elements. This is called broadcasting."
   ]
  },
  {
   "cell_type": "code",
   "execution_count": 106,
   "id": "afc4a0b6-f6a0-4be5-9b4d-2135a77d9dd3",
   "metadata": {},
   "outputs": [
    {
     "data": {
      "text/plain": [
       "array([1.1, 2.2, 3.3, 4.4, 5.5])"
      ]
     },
     "execution_count": 106,
     "metadata": {},
     "output_type": "execute_result"
    }
   ],
   "source": [
    "\n",
    "# Arithmetic Operations Between arrays\n",
    "\n",
    "\n",
    "numbers2 = np.linspace(1.1, 5.5, 5)\n",
    "numbers2"
   ]
  },
  {
   "cell_type": "code",
   "execution_count": 107,
   "id": "b43a5522-6d81-49aa-831f-7702ad4293d1",
   "metadata": {},
   "outputs": [
    {
     "data": {
      "text/plain": [
       "array([12.1, 26.4, 42.9, 61.6, 82.5])"
      ]
     },
     "execution_count": 107,
     "metadata": {},
     "output_type": "execute_result"
    }
   ],
   "source": [
    "\n",
    "numbers * numbers2"
   ]
  },
  {
   "cell_type": "code",
   "execution_count": 108,
   "id": "2654eadc-4dbd-43fe-b298-e19a2ae049d7",
   "metadata": {},
   "outputs": [
    {
     "data": {
      "text/plain": [
       "array([11, 12, 13, 14, 15])"
      ]
     },
     "execution_count": 108,
     "metadata": {},
     "output_type": "execute_result"
    }
   ],
   "source": [
    "\n",
    "#Comparing Arrays\n",
    "\n",
    "numbers"
   ]
  },
  {
   "cell_type": "code",
   "execution_count": 109,
   "id": "279728d4-c401-4c69-b3c0-4f6648a4a6b1",
   "metadata": {},
   "outputs": [
    {
     "data": {
      "text/plain": [
       "array([False, False,  True,  True,  True])"
      ]
     },
     "execution_count": 109,
     "metadata": {},
     "output_type": "execute_result"
    }
   ],
   "source": [
    "numbers >= 13"
   ]
  },
  {
   "cell_type": "code",
   "execution_count": 110,
   "id": "e0878c1e-79ed-4618-8def-b816e323f1c4",
   "metadata": {},
   "outputs": [
    {
     "data": {
      "text/plain": [
       "array([1.1, 2.2, 3.3, 4.4, 5.5])"
      ]
     },
     "execution_count": 110,
     "metadata": {},
     "output_type": "execute_result"
    }
   ],
   "source": [
    "\n",
    "numbers2"
   ]
  },
  {
   "cell_type": "code",
   "execution_count": 111,
   "id": "8267717e-9235-4e23-a98c-5a9300bc5050",
   "metadata": {},
   "outputs": [
    {
     "data": {
      "text/plain": [
       "array([ True,  True,  True,  True,  True])"
      ]
     },
     "execution_count": 111,
     "metadata": {},
     "output_type": "execute_result"
    }
   ],
   "source": [
    "\n",
    "\n",
    "numbers2 < numbers"
   ]
  },
  {
   "cell_type": "code",
   "execution_count": 112,
   "id": "f2b47668-eb0e-4c9d-8f98-0f5ed0ade6db",
   "metadata": {},
   "outputs": [
    {
     "data": {
      "text/plain": [
       "array([False, False, False, False, False])"
      ]
     },
     "execution_count": 112,
     "metadata": {},
     "output_type": "execute_result"
    }
   ],
   "source": [
    "\n",
    "numbers == numbers2"
   ]
  },
  {
   "cell_type": "code",
   "execution_count": 113,
   "id": "1859f58e-8f32-4457-9249-f40fc010dc3a",
   "metadata": {},
   "outputs": [
    {
     "data": {
      "text/plain": [
       "array([ True,  True,  True,  True,  True])"
      ]
     },
     "execution_count": 113,
     "metadata": {},
     "output_type": "execute_result"
    }
   ],
   "source": [
    "\n",
    "numbers == numbers"
   ]
  },
  {
   "cell_type": "code",
   "execution_count": 114,
   "id": "ccb231fe-bca6-465d-84d1-dde9e711e0b2",
   "metadata": {},
   "outputs": [
    {
     "data": {
      "text/plain": [
       "array([ 1,  4,  9, 16, 25])"
      ]
     },
     "execution_count": 114,
     "metadata": {},
     "output_type": "execute_result"
    }
   ],
   "source": [
    "\n",
    "\n",
    "np.arange(1, 6)**2"
   ]
  },
  {
   "cell_type": "markdown",
   "id": "12979451-cfb8-46df-b81a-7fc9342e779d",
   "metadata": {},
   "source": [
    "## 7.8 NumPy Calculation Methods"
   ]
  },
  {
   "cell_type": "code",
   "execution_count": 117,
   "id": "aeddddaf-8c17-4035-9c41-04cbc706eb13",
   "metadata": {},
   "outputs": [
    {
     "data": {
      "text/plain": [
       "array([[ 87,  96,  70],\n",
       "       [100,  87,  90],\n",
       "       [ 94,  77,  90],\n",
       "       [100,  81,  82]])"
      ]
     },
     "execution_count": 117,
     "metadata": {},
     "output_type": "execute_result"
    }
   ],
   "source": [
    "\n",
    "grades = np.array([[87, 96, 70], [100, 87, 90],\n",
    "                  [94, 77, 90], [100, 81, 82]])\n",
    "\n",
    "grades"
   ]
  },
  {
   "cell_type": "code",
   "execution_count": 118,
   "id": "eaadb10d-5784-4ada-adbd-49e80f042ab1",
   "metadata": {},
   "outputs": [
    {
     "data": {
      "text/plain": [
       "1054"
      ]
     },
     "execution_count": 118,
     "metadata": {},
     "output_type": "execute_result"
    }
   ],
   "source": [
    "\n",
    "grades.sum()"
   ]
  },
  {
   "cell_type": "code",
   "execution_count": 119,
   "id": "c5603e6c-205c-408c-8581-161f32cbd391",
   "metadata": {},
   "outputs": [
    {
     "data": {
      "text/plain": [
       "70"
      ]
     },
     "execution_count": 119,
     "metadata": {},
     "output_type": "execute_result"
    }
   ],
   "source": [
    "grades.min()"
   ]
  },
  {
   "cell_type": "code",
   "execution_count": 120,
   "id": "af264611-53c7-4aab-87c1-aa6a739982e4",
   "metadata": {},
   "outputs": [
    {
     "data": {
      "text/plain": [
       "100"
      ]
     },
     "execution_count": 120,
     "metadata": {},
     "output_type": "execute_result"
    }
   ],
   "source": [
    "grades.max()"
   ]
  },
  {
   "cell_type": "code",
   "execution_count": 121,
   "id": "ada0bcd2-0e70-4406-8f89-57b7168c8b1a",
   "metadata": {},
   "outputs": [
    {
     "data": {
      "text/plain": [
       "87.83333333333333"
      ]
     },
     "execution_count": 121,
     "metadata": {},
     "output_type": "execute_result"
    }
   ],
   "source": [
    "grades.mean()"
   ]
  },
  {
   "cell_type": "code",
   "execution_count": 122,
   "id": "44417057-e66c-461a-ae91-1a8592c06e2a",
   "metadata": {},
   "outputs": [
    {
     "data": {
      "text/plain": [
       "8.792357792739987"
      ]
     },
     "execution_count": 122,
     "metadata": {},
     "output_type": "execute_result"
    }
   ],
   "source": [
    "grades.std()"
   ]
  },
  {
   "cell_type": "code",
   "execution_count": 123,
   "id": "5fa8bdeb-f54e-4686-872b-6b43e57ab694",
   "metadata": {},
   "outputs": [
    {
     "data": {
      "text/plain": [
       "77.30555555555556"
      ]
     },
     "execution_count": 123,
     "metadata": {},
     "output_type": "execute_result"
    }
   ],
   "source": [
    "grades.var()"
   ]
  },
  {
   "cell_type": "code",
   "execution_count": 124,
   "id": "cc406c47-9123-43f1-9abc-81c72b8aa7ac",
   "metadata": {},
   "outputs": [
    {
     "data": {
      "text/plain": [
       "array([95.25, 85.25, 83.  ])"
      ]
     },
     "execution_count": 124,
     "metadata": {},
     "output_type": "execute_result"
    }
   ],
   "source": [
    "\n",
    "#Calculations by Row or Column\n",
    "\n",
    "grades.mean(axis=0) #Average of every column(Average of each exam)"
   ]
  },
  {
   "cell_type": "code",
   "execution_count": 125,
   "id": "3b23ba21-8cd2-4e9e-9f64-e3ceed167e2a",
   "metadata": {},
   "outputs": [
    {
     "data": {
      "text/plain": [
       "array([84.33333333, 92.33333333, 87.        , 87.66666667])"
      ]
     },
     "execution_count": 125,
     "metadata": {},
     "output_type": "execute_result"
    }
   ],
   "source": [
    "\n",
    "grades.mean(axis=1) #Average of every roe(Average of each estudent, of all exams)"
   ]
  },
  {
   "cell_type": "code",
   "execution_count": 126,
   "id": "002845b4-225d-4e14-a280-bc16fc525099",
   "metadata": {},
   "outputs": [
    {
     "data": {
      "text/plain": [
       "array([[97, 64, 94, 87],\n",
       "       [95, 75, 77, 84],\n",
       "       [94, 75, 66, 65]])"
      ]
     },
     "execution_count": 126,
     "metadata": {},
     "output_type": "execute_result"
    }
   ],
   "source": [
    "\n",
    "import numpy as np\n",
    "\n",
    "grades = np.random.randint(60, 101, 12).reshape(3, 4)\n",
    "grades"
   ]
  },
  {
   "cell_type": "code",
   "execution_count": 127,
   "id": "9725f24d-f849-4ec4-88af-0c5e6aaa4712",
   "metadata": {},
   "outputs": [
    {
     "data": {
      "text/plain": [
       "81.08333333333333"
      ]
     },
     "execution_count": 127,
     "metadata": {},
     "output_type": "execute_result"
    }
   ],
   "source": [
    "\n",
    "#Average of all grades\n",
    "\n",
    "grades.mean()"
   ]
  },
  {
   "cell_type": "code",
   "execution_count": 128,
   "id": "4e7ad19a-3e1b-440d-b9eb-3ecc720fb2bf",
   "metadata": {},
   "outputs": [
    {
     "data": {
      "text/plain": [
       "array([95.33333333, 71.33333333, 79.        , 78.66666667])"
      ]
     },
     "execution_count": 128,
     "metadata": {},
     "output_type": "execute_result"
    }
   ],
   "source": [
    "\n",
    "#Average of each column(Average of each exam)\n",
    "\n",
    "grades.mean(axis=0)"
   ]
  },
  {
   "cell_type": "code",
   "execution_count": 129,
   "id": "88a7c3b7-1e5f-46a7-b89b-d562c2abc121",
   "metadata": {},
   "outputs": [
    {
     "data": {
      "text/plain": [
       "array([85.5 , 82.75, 75.  ])"
      ]
     },
     "execution_count": 129,
     "metadata": {},
     "output_type": "execute_result"
    }
   ],
   "source": [
    "\n",
    "#Average of each row(Average of each student's exam)\n",
    "\n",
    "grades.mean(axis=1)"
   ]
  },
  {
   "cell_type": "markdown",
   "id": "e391ea5f-935a-45af-a5a3-27daaff6459c",
   "metadata": {},
   "source": [
    "## 7.9 Universal Functions"
   ]
  },
  {
   "cell_type": "code",
   "execution_count": 18,
   "id": "5c80ea9b-6ad9-4d89-8cde-2f1198c65f97",
   "metadata": {},
   "outputs": [
    {
     "data": {
      "text/plain": [
       "array([1., 2., 3., 4., 5., 6.])"
      ]
     },
     "execution_count": 18,
     "metadata": {},
     "output_type": "execute_result"
    }
   ],
   "source": [
    "\n",
    "numbers = np.array([1, 4, 9, 16, 25, 36])\n",
    "\n",
    "np.sqrt(numbers)"
   ]
  },
  {
   "cell_type": "code",
   "execution_count": 19,
   "id": "3e1eaa24-de64-4a94-920b-cfdca24ea1f8",
   "metadata": {},
   "outputs": [
    {
     "data": {
      "text/plain": [
       "array([10, 20, 30, 40, 50, 60])"
      ]
     },
     "execution_count": 19,
     "metadata": {},
     "output_type": "execute_result"
    }
   ],
   "source": [
    "\n",
    "numbers2 = np.arange(1, 7)*10\n",
    "\n",
    "numbers2"
   ]
  },
  {
   "cell_type": "code",
   "execution_count": 20,
   "id": "09f36eb2-712a-47a0-aa59-372317be1746",
   "metadata": {},
   "outputs": [
    {
     "name": "stdout",
     "output_type": "stream",
     "text": [
      "296 ns ± 1.04 ns per loop (mean ± std. dev. of 7 runs, 1,000,000 loops each)\n"
     ]
    }
   ],
   "source": [
    "%timeit np.add(numbers, numbers2)"
   ]
  },
  {
   "cell_type": "code",
   "execution_count": 21,
   "id": "d3b41ff4-2169-4c94-a49c-a915ce247e67",
   "metadata": {},
   "outputs": [
    {
     "name": "stdout",
     "output_type": "stream",
     "text": [
      "281 ns ± 0.489 ns per loop (mean ± std. dev. of 7 runs, 1,000,000 loops each)\n"
     ]
    }
   ],
   "source": [
    "%timeit numbers + numbers2"
   ]
  },
  {
   "cell_type": "code",
   "execution_count": 133,
   "id": "7538c30f-36ea-43f1-8ed6-155433a881ee",
   "metadata": {},
   "outputs": [
    {
     "data": {
      "text/plain": [
       "array([ 50, 100, 150, 200, 250, 300])"
      ]
     },
     "execution_count": 133,
     "metadata": {},
     "output_type": "execute_result"
    }
   ],
   "source": [
    "\n",
    "#Broadcasting with Universal Functions\n",
    "\n",
    "np.multiply(numbers2, 5)\n"
   ]
  },
  {
   "cell_type": "code",
   "execution_count": 135,
   "id": "226072fc-f33b-4766-a7a0-8fbba5437e72",
   "metadata": {},
   "outputs": [
    {
     "data": {
      "text/plain": [
       "array([[10, 20, 30],\n",
       "       [40, 50, 60]])"
      ]
     },
     "execution_count": 135,
     "metadata": {},
     "output_type": "execute_result"
    }
   ],
   "source": [
    "\n",
    "numbers3 = numbers2.reshape(2, 3)\n",
    "numbers3"
   ]
  },
  {
   "cell_type": "code",
   "execution_count": 136,
   "id": "f32e9e78-1eb7-4485-bc2b-ced81036d012",
   "metadata": {},
   "outputs": [],
   "source": [
    "\n",
    "numbers4 = np.array([2, 4, 6])"
   ]
  },
  {
   "cell_type": "code",
   "execution_count": 137,
   "id": "b6a7672f-4cb1-4d30-9f05-bcc40177e41f",
   "metadata": {},
   "outputs": [
    {
     "data": {
      "text/plain": [
       "array([[ 20,  80, 180],\n",
       "       [ 80, 200, 360]])"
      ]
     },
     "execution_count": 137,
     "metadata": {},
     "output_type": "execute_result"
    }
   ],
   "source": [
    "np.multiply(numbers3, numbers4)"
   ]
  },
  {
   "cell_type": "code",
   "execution_count": 141,
   "id": "0d0974b5-bb30-4d31-90d3-88e6b1cb7f7d",
   "metadata": {},
   "outputs": [
    {
     "data": {
      "text/plain": [
       "array([  1,   8,  27,  64, 125])"
      ]
     },
     "execution_count": 141,
     "metadata": {},
     "output_type": "execute_result"
    }
   ],
   "source": [
    "\n",
    "#Other Universal Functions\n",
    "\n",
    "numbers = np.arange(1, 6)\n",
    "\n",
    "np.power(numbers, 3)"
   ]
  },
  {
   "cell_type": "code",
   "execution_count": 140,
   "id": "eb2931dd-75ba-45d3-bdfa-9f7a5d7f16a8",
   "metadata": {},
   "outputs": [
    {
     "data": {
      "text/plain": [
       "array([1, 2, 3, 4])"
      ]
     },
     "execution_count": 140,
     "metadata": {},
     "output_type": "execute_result"
    }
   ],
   "source": []
  },
  {
   "cell_type": "markdown",
   "id": "a9c6b0c4-3ac5-4c49-959f-94083515b368",
   "metadata": {},
   "source": [
    "## 7.10 Indexing and Slicing"
   ]
  },
  {
   "cell_type": "code",
   "execution_count": 22,
   "id": "1d6a61be-d75c-4374-bd5e-4f3d13d620f1",
   "metadata": {},
   "outputs": [
    {
     "data": {
      "text/plain": [
       "array([[ 87,  96,  70],\n",
       "       [100,  87,  90],\n",
       "       [ 94,  77,  90],\n",
       "       [100,  81,  82]])"
      ]
     },
     "execution_count": 22,
     "metadata": {},
     "output_type": "execute_result"
    }
   ],
   "source": [
    "\n",
    "#Indexing with Two-Dimensional arrays\n",
    "\n",
    "grades = np.array([[87, 96, 70], [100, 87, 90],\n",
    "                   [94, 77, 90], [100, 81, 82]])\n",
    "\n",
    "grades"
   ]
  },
  {
   "cell_type": "code",
   "execution_count": 23,
   "id": "f041cd67-4db2-4e4a-bc15-546606ea5b7e",
   "metadata": {},
   "outputs": [
    {
     "data": {
      "text/plain": [
       "96"
      ]
     },
     "execution_count": 23,
     "metadata": {},
     "output_type": "execute_result"
    }
   ],
   "source": [
    "\n",
    "grades[0, 1] #Row 1, Column 1"
   ]
  },
  {
   "cell_type": "code",
   "execution_count": 24,
   "id": "217239d2-ef87-4972-830a-4353756c97cc",
   "metadata": {},
   "outputs": [
    {
     "data": {
      "text/plain": [
       "array([100,  87,  90])"
      ]
     },
     "execution_count": 24,
     "metadata": {},
     "output_type": "execute_result"
    }
   ],
   "source": [
    "\n",
    "grades[1]"
   ]
  },
  {
   "cell_type": "code",
   "execution_count": 25,
   "id": "8f462eb7-9511-4541-9cac-dc3b01dc30e8",
   "metadata": {},
   "outputs": [
    {
     "data": {
      "text/plain": [
       "array([[ 87,  96,  70],\n",
       "       [100,  87,  90]])"
      ]
     },
     "execution_count": 25,
     "metadata": {},
     "output_type": "execute_result"
    }
   ],
   "source": [
    "grades[0:2]"
   ]
  },
  {
   "cell_type": "code",
   "execution_count": 26,
   "id": "1e672d0d-542e-4abd-a34c-d81be3722012",
   "metadata": {},
   "outputs": [
    {
     "data": {
      "text/plain": [
       "array([[100,  87,  90],\n",
       "       [100,  81,  82]])"
      ]
     },
     "execution_count": 26,
     "metadata": {},
     "output_type": "execute_result"
    }
   ],
   "source": [
    "grades[[1, 3]] #Multiple non-sequential rows"
   ]
  },
  {
   "cell_type": "code",
   "execution_count": 27,
   "id": "51698ac7-0732-40fc-bcb4-d8c3e188d099",
   "metadata": {},
   "outputs": [
    {
     "data": {
      "text/plain": [
       "array([[87, 96, 70],\n",
       "       [94, 77, 90]])"
      ]
     },
     "execution_count": 27,
     "metadata": {},
     "output_type": "execute_result"
    }
   ],
   "source": [
    "grades[[0,2]]"
   ]
  },
  {
   "cell_type": "code",
   "execution_count": 149,
   "id": "90e19903-d92d-4fa6-ba25-8be54cfe13b9",
   "metadata": {},
   "outputs": [
    {
     "data": {
      "text/plain": [
       "array([ 87, 100,  94, 100])"
      ]
     },
     "execution_count": 149,
     "metadata": {},
     "output_type": "execute_result"
    }
   ],
   "source": [
    "\n",
    "grades[:, 0] #All rows and the column 0"
   ]
  },
  {
   "cell_type": "code",
   "execution_count": 150,
   "id": "ea708e5b-97b2-4f15-9390-9f2e729f3183",
   "metadata": {},
   "outputs": [
    {
     "data": {
      "text/plain": [
       "array([[96, 70],\n",
       "       [87, 90],\n",
       "       [77, 90],\n",
       "       [81, 82]])"
      ]
     },
     "execution_count": 150,
     "metadata": {},
     "output_type": "execute_result"
    }
   ],
   "source": [
    "\n",
    "grades[:, 1:3]"
   ]
  },
  {
   "cell_type": "code",
   "execution_count": 151,
   "id": "f1590c69-8bcf-4dbb-889f-db5058043c77",
   "metadata": {},
   "outputs": [
    {
     "data": {
      "text/plain": [
       "array([[ 87,  70],\n",
       "       [100,  90],\n",
       "       [ 94,  90],\n",
       "       [100,  82]])"
      ]
     },
     "execution_count": 151,
     "metadata": {},
     "output_type": "execute_result"
    }
   ],
   "source": [
    "\n",
    "grades[:, [0, 2]]"
   ]
  },
  {
   "cell_type": "code",
   "execution_count": 29,
   "id": "4edc1781-f98f-40dd-b16a-7cc902aa1e9d",
   "metadata": {},
   "outputs": [
    {
     "data": {
      "text/plain": [
       "array([[ 1,  2,  3,  4,  5],\n",
       "       [ 6,  7,  8,  9, 10],\n",
       "       [11, 12, 13, 14, 15]])"
      ]
     },
     "execution_count": 29,
     "metadata": {},
     "output_type": "execute_result"
    }
   ],
   "source": [
    "example = np.array([[1, 2, 3, 4, 5],\n",
    "                    [6, 7, 8, 9, 10],\n",
    "                    [11, 12, 13, 14,15]])\n",
    "example"
   ]
  },
  {
   "cell_type": "code",
   "execution_count": 30,
   "id": "6625da40-73af-4959-a956-1edf3a920b20",
   "metadata": {},
   "outputs": [
    {
     "data": {
      "text/plain": [
       "array([ 6,  7,  8,  9, 10])"
      ]
     },
     "execution_count": 30,
     "metadata": {},
     "output_type": "execute_result"
    }
   ],
   "source": [
    "example[1]"
   ]
  },
  {
   "cell_type": "code",
   "execution_count": 32,
   "id": "a54ea22a-b7e7-41bb-be2d-2e11d765e642",
   "metadata": {},
   "outputs": [
    {
     "data": {
      "text/plain": [
       "array([[ 1,  2,  3,  4,  5],\n",
       "       [11, 12, 13, 14, 15]])"
      ]
     },
     "execution_count": 32,
     "metadata": {},
     "output_type": "execute_result"
    }
   ],
   "source": [
    "example[[0,2]]"
   ]
  },
  {
   "cell_type": "code",
   "execution_count": 34,
   "id": "328726b9-26e2-42fd-9761-4adcfc6c8d84",
   "metadata": {},
   "outputs": [
    {
     "data": {
      "text/plain": [
       "array([[ 2,  3,  4],\n",
       "       [ 7,  8,  9],\n",
       "       [12, 13, 14]])"
      ]
     },
     "execution_count": 34,
     "metadata": {},
     "output_type": "execute_result"
    }
   ],
   "source": [
    "example[:, 1:4]"
   ]
  },
  {
   "cell_type": "markdown",
   "id": "78a3fb1b-3d77-450f-84a4-55026ce4a7ee",
   "metadata": {},
   "source": [
    "## 7.11 Views: Shallow copies"
   ]
  },
  {
   "cell_type": "code",
   "execution_count": 41,
   "id": "04349159-3535-45d3-ae0e-895bfc53441b",
   "metadata": {},
   "outputs": [
    {
     "data": {
      "text/plain": [
       "array([1, 2, 3, 4, 5])"
      ]
     },
     "execution_count": 41,
     "metadata": {},
     "output_type": "execute_result"
    }
   ],
   "source": [
    "\n",
    "numbers = np.arange(1,6)\n",
    "numbers"
   ]
  },
  {
   "cell_type": "code",
   "execution_count": 42,
   "id": "7b45cebd-e368-4eff-8934-b7f0296646be",
   "metadata": {},
   "outputs": [
    {
     "data": {
      "text/plain": [
       "array([1, 2, 3, 4, 5])"
      ]
     },
     "execution_count": 42,
     "metadata": {},
     "output_type": "execute_result"
    }
   ],
   "source": [
    "numbers2 = numbers.view()\n",
    "numbers2"
   ]
  },
  {
   "cell_type": "code",
   "execution_count": 43,
   "id": "f925bda2-c00d-4e4b-b119-b71ba51d9efe",
   "metadata": {},
   "outputs": [
    {
     "data": {
      "text/plain": [
       "array([ 1, 20,  3,  4,  5])"
      ]
     },
     "execution_count": 43,
     "metadata": {},
     "output_type": "execute_result"
    }
   ],
   "source": [
    "numbers[1] *= 10\n",
    "numbers"
   ]
  },
  {
   "cell_type": "code",
   "execution_count": 44,
   "id": "e6bdf569-5a34-4cd2-b14c-e7c53ab312a4",
   "metadata": {},
   "outputs": [
    {
     "data": {
      "text/plain": [
       "array([ 1, 20,  3,  4,  5])"
      ]
     },
     "execution_count": 44,
     "metadata": {},
     "output_type": "execute_result"
    }
   ],
   "source": [
    "numbers2"
   ]
  },
  {
   "cell_type": "code",
   "execution_count": null,
   "id": "6b52f525-141a-40e4-8151-162aa29aa449",
   "metadata": {},
   "outputs": [],
   "source": []
  }
 ],
 "metadata": {
  "kernelspec": {
   "display_name": "Python 3 (ipykernel)",
   "language": "python",
   "name": "python3"
  },
  "language_info": {
   "codemirror_mode": {
    "name": "ipython",
    "version": 3
   },
   "file_extension": ".py",
   "mimetype": "text/x-python",
   "name": "python",
   "nbconvert_exporter": "python",
   "pygments_lexer": "ipython3",
   "version": "3.10.4"
  }
 },
 "nbformat": 4,
 "nbformat_minor": 5
}
