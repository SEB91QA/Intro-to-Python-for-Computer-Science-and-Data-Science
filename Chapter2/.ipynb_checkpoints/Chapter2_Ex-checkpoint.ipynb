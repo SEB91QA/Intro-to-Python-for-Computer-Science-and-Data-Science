{
 "cells": [
  {
   "cell_type": "markdown",
   "metadata": {},
   "source": [
    "# Exercises"
   ]
  },
  {
   "cell_type": "markdown",
   "metadata": {},
   "source": [
    "## 2.1"
   ]
  },
  {
   "cell_type": "code",
   "execution_count": null,
   "metadata": {},
   "outputs": [],
   "source": [
    "'''What does this code do'''\n",
    "\n",
    "\n",
    "x = 2\n",
    "y = 3"
   ]
  },
  {
   "cell_type": "code",
   "execution_count": null,
   "metadata": {},
   "outputs": [],
   "source": [
    "print('x =', x)"
   ]
  },
  {
   "cell_type": "code",
   "execution_count": null,
   "metadata": {},
   "outputs": [],
   "source": [
    "print('Value of', x, '+', x, 'is', (x + x))"
   ]
  },
  {
   "cell_type": "code",
   "execution_count": null,
   "metadata": {},
   "outputs": [],
   "source": [
    "print('x = ')"
   ]
  },
  {
   "cell_type": "code",
   "execution_count": null,
   "metadata": {},
   "outputs": [],
   "source": [
    "print((x + y), '=', (y + x))"
   ]
  },
  {
   "cell_type": "markdown",
   "metadata": {},
   "source": [
    "## 2.2"
   ]
  },
  {
   "cell_type": "code",
   "execution_count": null,
   "metadata": {},
   "outputs": [],
   "source": [
    "'''What is wrong with this code'''\n",
    "\n",
    "rating1 = input('Enter and integer rating between 1 and 10 ')\n",
    "\n",
    "#Here rating is a string\n",
    "\n",
    "rating2 = int(input('Enter and integer rating between 1 and 10 '))"
   ]
  },
  {
   "cell_type": "code",
   "execution_count": null,
   "metadata": {},
   "outputs": [],
   "source": [
    "rating1"
   ]
  },
  {
   "cell_type": "code",
   "execution_count": null,
   "metadata": {},
   "outputs": [],
   "source": [
    "rating2"
   ]
  },
  {
   "cell_type": "markdown",
   "metadata": {},
   "source": [
    "# 2.3"
   ]
  },
  {
   "cell_type": "code",
   "execution_count": null,
   "metadata": {},
   "outputs": [],
   "source": [
    " '''Fill in the missing code'''\n",
    "\n",
    "\n",
    "grade = int(input('Por favor digite su calificación: '))\n",
    "\n",
    "if grade >= 90:\n",
    "    print('Congratulation our grade of 91 earns you an A in this course!')\n",
    "    \n",
    "\n"
   ]
  },
  {
   "cell_type": "markdown",
   "metadata": {},
   "source": [
    "## 2.4"
   ]
  },
  {
   "cell_type": "code",
   "execution_count": null,
   "metadata": {},
   "outputs": [],
   "source": [
    "'''Arithmetic'''\n",
    "\n",
    "\n",
    "27.5 + 2"
   ]
  },
  {
   "cell_type": "code",
   "execution_count": null,
   "metadata": {},
   "outputs": [],
   "source": [
    "27.5 - 2"
   ]
  },
  {
   "cell_type": "code",
   "execution_count": null,
   "metadata": {},
   "outputs": [],
   "source": [
    "27,5 * 2"
   ]
  },
  {
   "cell_type": "code",
   "execution_count": null,
   "metadata": {},
   "outputs": [],
   "source": [
    "27.5 / 2"
   ]
  },
  {
   "cell_type": "code",
   "execution_count": null,
   "metadata": {},
   "outputs": [],
   "source": [
    "27.5 // 2"
   ]
  },
  {
   "cell_type": "code",
   "execution_count": null,
   "metadata": {},
   "outputs": [],
   "source": [
    "27.5 ** 2"
   ]
  },
  {
   "cell_type": "markdown",
   "metadata": {},
   "source": [
    "# 2.5"
   ]
  },
  {
   "cell_type": "code",
   "execution_count": null,
   "metadata": {},
   "outputs": [],
   "source": [
    "''' Circle Area, Diameter and Circumference'''\n",
    "\n",
    "\n",
    "r = 2\n",
    "\n",
    "diameter = 2*r\n",
    "circumference = 2*r*3.14159\n",
    "area = 3.14159*(r**2)\n",
    "\n",
    "print(diameter)\n",
    "print(circumference)\n",
    "print(area)"
   ]
  },
  {
   "cell_type": "markdown",
   "metadata": {},
   "source": [
    "# 2.6"
   ]
  },
  {
   "cell_type": "code",
   "execution_count": null,
   "metadata": {},
   "outputs": [],
   "source": [
    "'''Odd or Even'''\n",
    "\n",
    "\n",
    "n = int(input('Por favor digite un número: '))\n",
    "\n",
    "if (n%2) == 0:\n",
    "    print('El número es par')\n",
    "    \n",
    "else:\n",
    "    print('El número es impar')"
   ]
  },
  {
   "cell_type": "markdown",
   "metadata": {},
   "source": [
    "# 2.7 "
   ]
  },
  {
   "cell_type": "code",
   "execution_count": null,
   "metadata": {},
   "outputs": [],
   "source": [
    "'''Multiples'''\n",
    "\n",
    "\n",
    "if (1024%4) == 0:\n",
    "    print('1024 is multiple of 4')\n",
    "    \n",
    "if (2%10) == 0:\n",
    "    print('2 is a multiple of ten')\n",
    "    \n"
   ]
  },
  {
   "cell_type": "markdown",
   "metadata": {},
   "source": [
    "# 2.8"
   ]
  },
  {
   "cell_type": "code",
   "execution_count": null,
   "metadata": {},
   "outputs": [],
   "source": [
    "'''Table of squares and cubes'''\n",
    "\n",
    "\n",
    "print('number\\t square\\t cube')\n",
    "print( 0,'\\t', 0**2, '\\t',  0**3)\n",
    "print( 1,'\\t', 1**2, '\\t',  1**3)\n",
    "print( 2,'\\t', 2**2, '\\t',  2**3)\n",
    "print( 3,'\\t', 3**2, '\\t',  3**3)\n",
    "print( 4,'\\t', 4**2, '\\t',  4**3)\n",
    "print( 5,'\\t', 5**2, '\\t',  5**3)\n"
   ]
  },
  {
   "cell_type": "markdown",
   "metadata": {},
   "source": [
    "# 2.9"
   ]
  },
  {
   "cell_type": "code",
   "execution_count": null,
   "metadata": {},
   "outputs": [],
   "source": [
    "'''Integer value of a Character'''\n",
    "\n",
    "\n",
    "print(ord('A'))\n",
    "print(ord('B'))\n",
    "print(ord('C'))\n",
    "print(ord('B'))\n",
    "print(ord('b'))\n",
    "print(ord('c'))\n",
    "print(ord('d'))\n",
    "print(ord('0'))\n",
    "print(ord('1'))\n",
    "print(ord('2'))\n",
    "print(ord('$'))\n",
    "print(ord('*'))\n",
    "print(ord('+'))"
   ]
  },
  {
   "cell_type": "markdown",
   "metadata": {},
   "source": [
    "# 2.10"
   ]
  },
  {
   "cell_type": "code",
   "execution_count": null,
   "metadata": {},
   "outputs": [],
   "source": [
    "'''Arithmetic, Smallest, and Largest'''\n",
    "\n",
    "n1 = int(input('Por favor digite el primer número: '))\n",
    "n2 = int(input('Por favor digite el segundo número: '))\n",
    "n3 = int(input('Por favor digite el tercer número: '))\n",
    "\n",
    "\n",
    "print('The sum of the numbers is: ', n1 + n2 + n3)\n",
    "print('The average of the numbers is: ', (n1 + n2 + n3)/3. )\n",
    "print('The product of the numbers is: ', n1 * n2 * n3 )\n",
    "print('The smallest of the numbers is: ', min(n1, n2, n3) )\n",
    "print('The highest of the numbers is: ', max(n1, n2, n3) )"
   ]
  },
  {
   "cell_type": "markdown",
   "metadata": {},
   "source": [
    "# 2.11"
   ]
  },
  {
   "cell_type": "code",
   "execution_count": null,
   "metadata": {},
   "outputs": [],
   "source": [
    "'''Separating the Digits in an Integer'''\n",
    "\n",
    "number = int(input('Please digit a five-digit number: '))\n",
    "\n",
    "\n",
    "part1 = number // 10000\n",
    "red1 = number % 10000\n",
    "\n",
    "part2 = red1 // 1000\n",
    "red2 = red1 % 1000\n",
    "\n",
    "part3 = red2 // 100\n",
    "red3 = red2 % 100\n",
    "\n",
    "part4 = red3 // 10\n",
    "red4 = red3 % 10\n",
    "\n",
    "\n",
    "print('The separated number is: ', part1, part2, part3, part4, red4)\n",
    "\n"
   ]
  },
  {
   "cell_type": "markdown",
   "metadata": {},
   "source": [
    "# 2.12"
   ]
  },
  {
   "cell_type": "code",
   "execution_count": null,
   "metadata": {},
   "outputs": [],
   "source": [
    "'''7% Investment Return'''\n",
    "\n",
    "p = 1000\n",
    "r = 0.07\n",
    "\n",
    "\n",
    "print('Investment returned in 10 years is: ', p*((1 + r )**10))\n",
    "print('Investment returned in 20 years is: ', p*((1 + r )**20))\n",
    "print('Investment returned in 30 years is: ', p*((1 + r )**30))\n",
    "\n"
   ]
  },
  {
   "cell_type": "markdown",
   "metadata": {},
   "source": [
    "# 2.13"
   ]
  },
  {
   "cell_type": "code",
   "execution_count": null,
   "metadata": {},
   "outputs": [],
   "source": [
    "'''How Big Can Python Integers Be?'''\n",
    "\n",
    "\n",
    "n1 = 1000000000000000**2\n",
    "n2 = 2**100000000000000000000000000"
   ]
  },
  {
   "cell_type": "markdown",
   "metadata": {},
   "source": [
    "# 2.14"
   ]
  },
  {
   "cell_type": "code",
   "execution_count": null,
   "metadata": {},
   "outputs": [],
   "source": [
    "'''Target Heart-Rate Calculator'''\n",
    "\n",
    "\n",
    "p = int(input('Please digit your age: '))\n",
    "\n",
    "print('Your maximun heart rate is: ',220 - p)\n",
    "print('Your range of heart rate is: ', 0.5*(220 - p),'-', 0.85*(220 - p) )\n"
   ]
  },
  {
   "cell_type": "markdown",
   "metadata": {},
   "source": [
    "# 2.15"
   ]
  },
  {
   "cell_type": "code",
   "execution_count": null,
   "metadata": {},
   "outputs": [],
   "source": [
    "'''Sort in Ascending Order'''\n",
    "\n",
    "\n",
    "n1 = float(input('Please enter the first number: '))\n",
    "n2 = float(input('Please enter the second number: '))\n",
    "n3 = float(input('Please enter the third number: '))\n",
    "\n",
    "if n1 > n2 and n1 > n3:\n",
    "    \n",
    "    if n2 > n3:\n",
    "        print('The numbers from highest to lowest is: ', n1, n2, n3)\n",
    "        \n",
    "    else:\n",
    "        print('The numbers from highest to lowest is: ', n1, n3, n2)\n",
    "              \n",
    "              \n",
    "if n2 > n1 and n2 > n3:\n",
    "    \n",
    "    if n1 > n3:\n",
    "        print('The numbers from highest to lowest is: ', n2, n1, n3)\n",
    "        \n",
    "    else:\n",
    "        print('The numbers from highest to lowest is: ', n2, n3, n1)\n",
    "              \n",
    "              \n",
    "if n3 > n2 and n3 > n1:\n",
    "    \n",
    "    if n2 > n1:\n",
    "        print('The numbers from highest to lowest is: ', n3, n2, n1)\n",
    "        \n",
    "    else:\n",
    "        print('The numbers from highest to lowest is: ', n3, n1, n2)\n",
    "        \n",
    "\n",
    "if n1 == n2 and n2 == n3:\n",
    "    print('All the numbers have the same value: ', n1, n2, n3)\n",
    "    \n",
    "\n",
    "if n1 > n2 and n2 == n3:\n",
    "    print('The numbers from highest to lowest is: ', n1, n2, n3)\n",
    "    \n",
    "if n2 > n1 and n1 == n3:\n",
    "    print('The numbers from highest to lowest is: ', n2, n1, n3)\n",
    "    \n",
    "if n3 > n1 and n1 == n2:\n",
    "    print('The numbers from highest to lowest is: ', n3, n1, n2)\n",
    "    \n",
    "    \n",
    "\n",
    "    \n",
    "    \n"
   ]
  },
  {
   "cell_type": "code",
   "execution_count": null,
   "metadata": {},
   "outputs": [],
   "source": []
  },
  {
   "cell_type": "code",
   "execution_count": null,
   "metadata": {},
   "outputs": [],
   "source": []
  },
  {
   "cell_type": "code",
   "execution_count": null,
   "metadata": {},
   "outputs": [],
   "source": []
  }
 ],
 "metadata": {
  "kernelspec": {
   "display_name": "Python 3",
   "language": "python",
   "name": "python3"
  },
  "language_info": {
   "codemirror_mode": {
    "name": "ipython",
    "version": 3
   },
   "file_extension": ".py",
   "mimetype": "text/x-python",
   "name": "python",
   "nbconvert_exporter": "python",
   "pygments_lexer": "ipython3",
   "version": "3.6.10"
  }
 },
 "nbformat": 4,
 "nbformat_minor": 4
}
