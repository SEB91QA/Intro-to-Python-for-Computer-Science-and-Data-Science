{
 "cells": [
  {
   "cell_type": "markdown",
   "metadata": {},
   "source": [
    "# Exercises"
   ]
  },
  {
   "cell_type": "markdown",
   "metadata": {},
   "source": [
    "## 2.1"
   ]
  },
  {
   "cell_type": "code",
   "execution_count": 3,
   "metadata": {},
   "outputs": [],
   "source": [
    "'''What does this code do'''\n",
    "\n",
    "\n",
    "x = 2\n",
    "y = 3"
   ]
  },
  {
   "cell_type": "code",
   "execution_count": 4,
   "metadata": {},
   "outputs": [
    {
     "name": "stdout",
     "output_type": "stream",
     "text": [
      "x = 2\n"
     ]
    }
   ],
   "source": [
    "print('x =', x)"
   ]
  },
  {
   "cell_type": "code",
   "execution_count": 5,
   "metadata": {},
   "outputs": [
    {
     "name": "stdout",
     "output_type": "stream",
     "text": [
      "Value of 2 + 2 is 4\n"
     ]
    }
   ],
   "source": [
    "print('Value of', x, '+', x, 'is', (x + x))"
   ]
  },
  {
   "cell_type": "code",
   "execution_count": 6,
   "metadata": {},
   "outputs": [
    {
     "name": "stdout",
     "output_type": "stream",
     "text": [
      "x = \n"
     ]
    }
   ],
   "source": [
    "print('x = ')"
   ]
  },
  {
   "cell_type": "code",
   "execution_count": 7,
   "metadata": {},
   "outputs": [
    {
     "name": "stdout",
     "output_type": "stream",
     "text": [
      "5 = 5\n"
     ]
    }
   ],
   "source": [
    "print((x + y), '=', (y + x))"
   ]
  },
  {
   "cell_type": "markdown",
   "metadata": {},
   "source": [
    "## 2.2"
   ]
  },
  {
   "cell_type": "code",
   "execution_count": 8,
   "metadata": {},
   "outputs": [
    {
     "name": "stdout",
     "output_type": "stream",
     "text": [
      "Enter and integer rating between 1 and 10 6\n",
      "Enter and integer rating between 1 and 10 5\n"
     ]
    }
   ],
   "source": [
    "'''What is wrong with this code'''\n",
    "\n",
    "rating1 = input('Enter and integer rating between 1 and 10 ')\n",
    "\n",
    "#Here rating is a string\n",
    "\n",
    "rating2 = int(input('Enter and integer rating between 1 and 10 '))"
   ]
  },
  {
   "cell_type": "code",
   "execution_count": 9,
   "metadata": {},
   "outputs": [
    {
     "data": {
      "text/plain": [
       "'6'"
      ]
     },
     "execution_count": 9,
     "metadata": {},
     "output_type": "execute_result"
    }
   ],
   "source": [
    "rating1"
   ]
  },
  {
   "cell_type": "code",
   "execution_count": 10,
   "metadata": {},
   "outputs": [
    {
     "data": {
      "text/plain": [
       "5"
      ]
     },
     "execution_count": 10,
     "metadata": {},
     "output_type": "execute_result"
    }
   ],
   "source": [
    "rating2"
   ]
  },
  {
   "cell_type": "markdown",
   "metadata": {},
   "source": [
    "# 2.3"
   ]
  },
  {
   "cell_type": "code",
   "execution_count": 11,
   "metadata": {},
   "outputs": [
    {
     "name": "stdout",
     "output_type": "stream",
     "text": [
      "Por favor digite su calificación: 95\n",
      "Congratulation our grade of 91 earns you an A in this course!\n"
     ]
    }
   ],
   "source": [
    " '''Fill in the missing code'''\n",
    "\n",
    "\n",
    "grade = int(input('Por favor digite su calificación: '))\n",
    "\n",
    "if grade >= 90:\n",
    "    print('Congratulation our grade of 91 earns you an A in this course!')\n",
    "    \n",
    "\n"
   ]
  },
  {
   "cell_type": "markdown",
   "metadata": {},
   "source": [
    "## 2.4"
   ]
  },
  {
   "cell_type": "code",
   "execution_count": 12,
   "metadata": {},
   "outputs": [
    {
     "data": {
      "text/plain": [
       "29.5"
      ]
     },
     "execution_count": 12,
     "metadata": {},
     "output_type": "execute_result"
    }
   ],
   "source": [
    "'''Arithmetic'''\n",
    "\n",
    "\n",
    "27.5 + 2"
   ]
  },
  {
   "cell_type": "code",
   "execution_count": 13,
   "metadata": {},
   "outputs": [
    {
     "data": {
      "text/plain": [
       "25.5"
      ]
     },
     "execution_count": 13,
     "metadata": {},
     "output_type": "execute_result"
    }
   ],
   "source": [
    "27.5 - 2"
   ]
  },
  {
   "cell_type": "code",
   "execution_count": 14,
   "metadata": {},
   "outputs": [
    {
     "data": {
      "text/plain": [
       "(27, 10)"
      ]
     },
     "execution_count": 14,
     "metadata": {},
     "output_type": "execute_result"
    }
   ],
   "source": [
    "27,5 * 2"
   ]
  },
  {
   "cell_type": "code",
   "execution_count": 15,
   "metadata": {},
   "outputs": [
    {
     "data": {
      "text/plain": [
       "13.75"
      ]
     },
     "execution_count": 15,
     "metadata": {},
     "output_type": "execute_result"
    }
   ],
   "source": [
    "27.5 / 2"
   ]
  },
  {
   "cell_type": "code",
   "execution_count": 16,
   "metadata": {},
   "outputs": [
    {
     "data": {
      "text/plain": [
       "13.0"
      ]
     },
     "execution_count": 16,
     "metadata": {},
     "output_type": "execute_result"
    }
   ],
   "source": [
    "27.5 // 2"
   ]
  },
  {
   "cell_type": "code",
   "execution_count": 17,
   "metadata": {},
   "outputs": [
    {
     "data": {
      "text/plain": [
       "756.25"
      ]
     },
     "execution_count": 17,
     "metadata": {},
     "output_type": "execute_result"
    }
   ],
   "source": [
    "27.5 ** 2"
   ]
  },
  {
   "cell_type": "markdown",
   "metadata": {},
   "source": [
    "# 2.5"
   ]
  },
  {
   "cell_type": "code",
   "execution_count": 18,
   "metadata": {},
   "outputs": [
    {
     "name": "stdout",
     "output_type": "stream",
     "text": [
      "4\n",
      "12.56636\n",
      "12.56636\n"
     ]
    }
   ],
   "source": [
    "''' Circle Area, Diameter and Circumference'''\n",
    "\n",
    "\n",
    "r = 2\n",
    "\n",
    "diameter = 2*r\n",
    "circumference = 2*r*3.14159\n",
    "area = 3.14159*(r**2)\n",
    "\n",
    "print(diameter)\n",
    "print(circumference)\n",
    "print(area)"
   ]
  },
  {
   "cell_type": "markdown",
   "metadata": {},
   "source": [
    "# 2.6"
   ]
  },
  {
   "cell_type": "code",
   "execution_count": 19,
   "metadata": {},
   "outputs": [
    {
     "name": "stdout",
     "output_type": "stream",
     "text": [
      "Por favor digite un número: 89\n",
      "El número es impar\n"
     ]
    }
   ],
   "source": [
    "'''Odd or Even'''\n",
    "\n",
    "\n",
    "n = int(input('Por favor digite un número: '))\n",
    "\n",
    "if (n%2) == 0:\n",
    "    print('El número es par')\n",
    "    \n",
    "else:\n",
    "    print('El número es impar')"
   ]
  },
  {
   "cell_type": "markdown",
   "metadata": {},
   "source": [
    "# 2.7 "
   ]
  },
  {
   "cell_type": "code",
   "execution_count": 20,
   "metadata": {},
   "outputs": [
    {
     "name": "stdout",
     "output_type": "stream",
     "text": [
      "1024 is multiple of 4\n"
     ]
    }
   ],
   "source": [
    "'''Multiples'''\n",
    "\n",
    "\n",
    "if (1024%4) == 0:\n",
    "    print('1024 is multiple of 4')\n",
    "    \n",
    "if (2%10) == 0:\n",
    "    print('2 is a multiple of ten')\n",
    "    \n"
   ]
  },
  {
   "cell_type": "markdown",
   "metadata": {},
   "source": [
    "# 2.8"
   ]
  },
  {
   "cell_type": "code",
   "execution_count": 21,
   "metadata": {},
   "outputs": [
    {
     "name": "stdout",
     "output_type": "stream",
     "text": [
      "number\t square\t cube\n",
      "0 \t 0 \t 0\n",
      "1 \t 1 \t 1\n",
      "2 \t 4 \t 8\n",
      "3 \t 9 \t 27\n",
      "4 \t 16 \t 64\n",
      "5 \t 25 \t 125\n"
     ]
    }
   ],
   "source": [
    "'''Table of squares and cubes'''\n",
    "\n",
    "\n",
    "print('number\\t square\\t cube')\n",
    "print( 0,'\\t', 0**2, '\\t',  0**3)\n",
    "print( 1,'\\t', 1**2, '\\t',  1**3)\n",
    "print( 2,'\\t', 2**2, '\\t',  2**3)\n",
    "print( 3,'\\t', 3**2, '\\t',  3**3)\n",
    "print( 4,'\\t', 4**2, '\\t',  4**3)\n",
    "print( 5,'\\t', 5**2, '\\t',  5**3)\n"
   ]
  },
  {
   "cell_type": "markdown",
   "metadata": {},
   "source": [
    "# 2.9"
   ]
  },
  {
   "cell_type": "code",
   "execution_count": 22,
   "metadata": {},
   "outputs": [
    {
     "name": "stdout",
     "output_type": "stream",
     "text": [
      "65\n",
      "66\n",
      "67\n",
      "66\n",
      "98\n",
      "99\n",
      "100\n",
      "48\n",
      "49\n",
      "50\n",
      "36\n",
      "42\n",
      "43\n"
     ]
    }
   ],
   "source": [
    "'''Integer value of a Character'''\n",
    "\n",
    "\n",
    "print(ord('A'))\n",
    "print(ord('B'))\n",
    "print(ord('C'))\n",
    "print(ord('B'))\n",
    "print(ord('b'))\n",
    "print(ord('c'))\n",
    "print(ord('d'))\n",
    "print(ord('0'))\n",
    "print(ord('1'))\n",
    "print(ord('2'))\n",
    "print(ord('$'))\n",
    "print(ord('*'))\n",
    "print(ord('+'))"
   ]
  },
  {
   "cell_type": "markdown",
   "metadata": {},
   "source": [
    "# 2.10"
   ]
  },
  {
   "cell_type": "code",
   "execution_count": 23,
   "metadata": {},
   "outputs": [
    {
     "name": "stdout",
     "output_type": "stream",
     "text": [
      "Por favor digite el primer número: 5\n",
      "Por favor digite el segundo número: 4\n",
      "Por favor digite el tercer número: 6\n",
      "The sum of the numbers is:  15\n",
      "The average of the numbers is:  5.0\n",
      "The product of the numbers is:  120\n",
      "The smallest of the numbers is:  4\n",
      "The highest of the numbers is:  6\n"
     ]
    }
   ],
   "source": [
    "'''Arithmetic, Smallest, and Largest'''\n",
    "\n",
    "n1 = int(input('Por favor digite el primer número: '))\n",
    "n2 = int(input('Por favor digite el segundo número: '))\n",
    "n3 = int(input('Por favor digite el tercer número: '))\n",
    "\n",
    "\n",
    "print('The sum of the numbers is: ', n1 + n2 + n3)\n",
    "print('The average of the numbers is: ', (n1 + n2 + n3)/3. )\n",
    "print('The product of the numbers is: ', n1 * n2 * n3 )\n",
    "print('The smallest of the numbers is: ', min(n1, n2, n3) )\n",
    "print('The highest of the numbers is: ', max(n1, n2, n3) )"
   ]
  },
  {
   "cell_type": "markdown",
   "metadata": {},
   "source": [
    "# 2.11"
   ]
  },
  {
   "cell_type": "code",
   "execution_count": 24,
   "metadata": {},
   "outputs": [
    {
     "name": "stdout",
     "output_type": "stream",
     "text": [
      "Please digit a five-digit number: 56473\n",
      "The separated number is:  5 6 4 7 3\n"
     ]
    }
   ],
   "source": [
    "'''Separating the Digits in an Integer'''\n",
    "\n",
    "number = int(input('Please digit a five-digit number: '))\n",
    "\n",
    "\n",
    "part1 = number // 10000\n",
    "red1 = number % 10000\n",
    "\n",
    "part2 = red1 // 1000\n",
    "red2 = red1 % 1000\n",
    "\n",
    "part3 = red2 // 100\n",
    "red3 = red2 % 100\n",
    "\n",
    "part4 = red3 // 10\n",
    "red4 = red3 % 10\n",
    "\n",
    "\n",
    "print('The separated number is: ', part1, part2, part3, part4, red4)\n",
    "\n"
   ]
  },
  {
   "cell_type": "markdown",
   "metadata": {},
   "source": [
    "# 2.12"
   ]
  },
  {
   "cell_type": "code",
   "execution_count": 25,
   "metadata": {},
   "outputs": [
    {
     "name": "stdout",
     "output_type": "stream",
     "text": [
      "Investment returned in 10 years is:  1967.1513572895665\n",
      "Investment returned in 20 years is:  3869.6844624861833\n",
      "Investment returned in 30 years is:  7612.255042662042\n"
     ]
    }
   ],
   "source": [
    "'''7% Investment Return'''\n",
    "\n",
    "p = 1000\n",
    "r = 0.07\n",
    "\n",
    "\n",
    "print('Investment returned in 10 years is: ', p*((1 + r )**10))\n",
    "print('Investment returned in 20 years is: ', p*((1 + r )**20))\n",
    "print('Investment returned in 30 years is: ', p*((1 + r )**30))\n",
    "\n"
   ]
  },
  {
   "cell_type": "markdown",
   "metadata": {},
   "source": [
    "# 2.13"
   ]
  },
  {
   "cell_type": "code",
   "execution_count": null,
   "metadata": {},
   "outputs": [],
   "source": [
    "'''How Big Can Python Integers Be?'''\n",
    "\n",
    "\n",
    "n1 = 1000000000000000**2\n",
    "#n2 = 2**100000000000000000000000000"
   ]
  },
  {
   "cell_type": "markdown",
   "metadata": {},
   "source": [
    "# 2.14"
   ]
  },
  {
   "cell_type": "code",
   "execution_count": 26,
   "metadata": {},
   "outputs": [
    {
     "name": "stdout",
     "output_type": "stream",
     "text": [
      "Please digit your age: 30\n",
      "Your maximun heart rate is:  190\n",
      "Your range of heart rate is:  95.0 - 161.5\n"
     ]
    }
   ],
   "source": [
    "'''Target Heart-Rate Calculator'''\n",
    "\n",
    "\n",
    "p = int(input('Please digit your age: '))\n",
    "\n",
    "print('Your maximun heart rate is: ',220 - p)\n",
    "print('Your range of heart rate is: ', 0.5*(220 - p),'-', 0.85*(220 - p) )\n"
   ]
  },
  {
   "cell_type": "markdown",
   "metadata": {},
   "source": [
    "# 2.15"
   ]
  },
  {
   "cell_type": "code",
   "execution_count": 35,
   "metadata": {},
   "outputs": [
    {
     "name": "stdout",
     "output_type": "stream",
     "text": [
      "Please enter the first number: 6.7\n",
      "Please enter the second number: 5.4\n",
      "Please enter the third number: 3.2\n",
      "The numbers from highest to lowest is:  6.7 5.4 3.2\n"
     ]
    }
   ],
   "source": [
    "'''Sort in Ascending Order'''\n",
    "\n",
    "\n",
    "n1 = float(input('Please enter the first number: '))\n",
    "n2 = float(input('Please enter the second number: '))\n",
    "n3 = float(input('Please enter the third number: '))\n",
    "\n",
    "if n1 > n2 and n1 > n3:\n",
    "    \n",
    "    if n2 > n3:\n",
    "        print('The numbers from highest to lowest is: ', n1, n2, n3)\n",
    "        \n",
    "    else:\n",
    "        print('The numbers from highest to lowest is: ', n1, n3, n2)\n",
    "              \n",
    "              \n",
    "if n2 > n1 and n2 > n3:\n",
    "    \n",
    "    if n1 > n3:\n",
    "        print('The numbers from highest to lowest is: ', n2, n1, n3)\n",
    "        \n",
    "    else:\n",
    "        print('The numbers from highest to lowest is: ', n2, n3, n1)\n",
    "              \n",
    "              \n",
    "if n3 > n2 and n3 > n1:\n",
    "    \n",
    "    if n2 > n1:\n",
    "        print('The numbers from highest to lowest is: ', n3, n2, n1)\n",
    "        \n",
    "    else:\n",
    "        print('The numbers from highest to lowest is: ', n3, n1, n2)\n",
    "        \n",
    "\n",
    "if n1 == n2 and n2 == n3:\n",
    "    print('All the numbers have the same value: ', n1, n2, n3)\n",
    "    \n",
    "\n",
    "if n1 > n2 and n2 == n3:\n",
    "    print('The numbers from highest to lowest is: ', n1, n2, n3)\n",
    "    \n",
    "if n2 > n1 and n1 == n3:\n",
    "    print('The numbers from highest to lowest is: ', n2, n1, n3)\n",
    "    \n",
    "if n3 > n1 and n1 == n2:\n",
    "    print('The numbers from highest to lowest is: ', n3, n1, n2)\n",
    "    \n",
    "\n",
    "if n1 > n2 and n1 == n3:\n",
    "    print('The numbers from highest to lowest is: ', n1, n3, n2)\n",
    "    \n",
    "if n1 > n3 and n1 == n2:\n",
    "    print('The numbers from highest to lowest is: ', n1, n2, n3)\n",
    "    \n",
    "    \n",
    "    \n",
    "if n2 > n1 and n2 == n3:\n",
    "    print('The numbers from highest to lowest is: ', n2, n1, n3)\n",
    "    \n",
    "if n2 > n3 and n2 == n1:\n",
    "    print('The numbers from highest to lowest is: ', n2, n1, n3)\n",
    "    \n",
    "    \n",
    "if n3 > n1 and n3 == n2:\n",
    "    print('The numbers from highest to lowest is: ', n3, n2, n1)\n",
    "    \n",
    "if n3 > n2 and n3 == n1:\n",
    "    print('The numbers from highest to lowest is: ', n3, n1, n2)\n",
    "    \n",
    "\n",
    "\n",
    "    \n",
    "    \n"
   ]
  },
  {
   "cell_type": "code",
   "execution_count": null,
   "metadata": {},
   "outputs": [],
   "source": []
  },
  {
   "cell_type": "markdown",
   "metadata": {},
   "source": []
  },
  {
   "cell_type": "code",
   "execution_count": null,
   "metadata": {},
   "outputs": [],
   "source": []
  }
 ],
 "metadata": {
  "kernelspec": {
   "display_name": "Python 3",
   "language": "python",
   "name": "python3"
  },
  "language_info": {
   "codemirror_mode": {
    "name": "ipython",
    "version": 3
   },
   "file_extension": ".py",
   "mimetype": "text/x-python",
   "name": "python",
   "nbconvert_exporter": "python",
   "pygments_lexer": "ipython3",
   "version": "3.6.10"
  }
 },
 "nbformat": 4,
 "nbformat_minor": 4
}
