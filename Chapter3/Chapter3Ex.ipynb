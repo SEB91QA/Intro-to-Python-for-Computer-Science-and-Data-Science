{
 "cells": [
  {
   "cell_type": "markdown",
   "metadata": {},
   "source": [
    "# Exercises "
   ]
  },
  {
   "cell_type": "markdown",
   "metadata": {},
   "source": [
    "## (Validating User Input)"
   ]
  },
  {
   "cell_type": "code",
   "execution_count": 6,
   "metadata": {},
   "outputs": [
    {
     "name": "stdin",
     "output_type": "stream",
     "text": [
      "Enter the result (1=pass, 2=fail):  1\n",
      "Enter the result (1=pass, 2=fail):  2\n",
      "Enter the result (1=pass, 2=fail):  3\n",
      "Wrong number. Please try again 2\n",
      "Enter the result (1=pass, 2=fail):  4\n",
      "Wrong number. Please try again 1\n",
      "Enter the result (1=pass, 2=fail):  1\n",
      "Enter the result (1=pass, 2=fail):  1\n",
      "Enter the result (1=pass, 2=fail):  1\n",
      "Enter the result (1=pass, 2=fail):  1\n",
      "Enter the result (1=pass, 2=fail):  1\n",
      "Enter the result (1=pass, 2=fail):  1\n"
     ]
    },
    {
     "name": "stdout",
     "output_type": "stream",
     "text": [
      "Passed:  8\n",
      "Failed:  2\n",
      "\n",
      "\n",
      "The number of failed tries is: 2\n",
      "Number of total inputs: 12\n"
     ]
    }
   ],
   "source": [
    "passes = 0\n",
    "failures = 0\n",
    "ftries = 0\n",
    "\n",
    "for student in range(10):\n",
    "    \n",
    "    result = int(input('Enter the result (1=pass, 2=fail): '))\n",
    "   \n",
    "    while result != 1 and result != 2:\n",
    "    \n",
    "        ftries += 1\n",
    "        result = int(input('Wrong number. Please try again'))\n",
    "        \n",
    "        \n",
    "    if result == 1:\n",
    "        passes = passes + 1\n",
    "        \n",
    "    else:\n",
    "        failures = failures + 1\n",
    "    \n",
    "print('Passed: ', passes)\n",
    "print('Failed: ', failures)\n",
    "\n",
    "if passes > 8:\n",
    "    print('Bonus to instructor')\n",
    "    \n",
    "print('\\n')\n",
    "    \n",
    "print('The number of failed tries is:', ftries)\n",
    "print('Number of total inputs:', ftries + failures + passes)"
   ]
  },
  {
   "cell_type": "markdown",
   "metadata": {},
   "source": [
    "## (What’s Wrong with This Code?) "
   ]
  },
  {
   "cell_type": "code",
   "execution_count": 7,
   "metadata": {},
   "outputs": [
    {
     "name": "stdout",
     "output_type": "stream",
     "text": [
      "a = 7 \n",
      "b = 7\n"
     ]
    }
   ],
   "source": [
    "a = b = 7\n",
    "print('a =', a, '\\nb =', b)"
   ]
  },
  {
   "cell_type": "markdown",
   "metadata": {},
   "source": [
    "## (What Does This Code Do?) "
   ]
  },
  {
   "cell_type": "code",
   "execution_count": 8,
   "metadata": {},
   "outputs": [
    {
     "name": "stdout",
     "output_type": "stream",
     "text": [
      ">>>>>>>>>>\n",
      "<<<<<<<<<<\n",
      ">>>>>>>>>>\n",
      "<<<<<<<<<<\n",
      ">>>>>>>>>>\n",
      "<<<<<<<<<<\n",
      ">>>>>>>>>>\n",
      "<<<<<<<<<<\n",
      ">>>>>>>>>>\n",
      "<<<<<<<<<<\n"
     ]
    }
   ],
   "source": [
    "for row in range(10):\n",
    "    for column in range(10):\n",
    "        print('<' if row % 2 == 1 else '>', end='')\n",
    "    print()"
   ]
  },
  {
   "cell_type": "markdown",
   "metadata": {},
   "source": [
    "## (Fill in the Missing Code)"
   ]
  },
  {
   "cell_type": "code",
   "execution_count": 9,
   "metadata": {},
   "outputs": [
    {
     "name": "stdout",
     "output_type": "stream",
     "text": [
      "@@@@@@@\n",
      "@@@@@@@\n"
     ]
    }
   ],
   "source": [
    "\n",
    "for num in range(2):\n",
    "    \n",
    "    for sim in range(7):\n",
    "        print('@', end='')\n",
    "    print()\n"
   ]
  },
  {
   "cell_type": "markdown",
   "metadata": {},
   "source": [
    "## (if...else Statements) "
   ]
  },
  {
   "cell_type": "code",
   "execution_count": 10,
   "metadata": {},
   "outputs": [
    {
     "name": "stdout",
     "output_type": "stream",
     "text": [
      "Enter two integers and I will tell you the relationships they satisfy.\n"
     ]
    },
    {
     "name": "stdin",
     "output_type": "stream",
     "text": [
      "Enter first integer:  3\n",
      "Enter second integer:  4\n"
     ]
    },
    {
     "name": "stdout",
     "output_type": "stream",
     "text": [
      "3 is not equal to 4\n",
      "3 is less than 4\n",
      "3 is less or equal to 4\n"
     ]
    }
   ],
   "source": [
    "print('Enter two integers and I will tell you',\n",
    "      'the relationships they satisfy.')\n",
    "\n",
    "\n",
    "number1 = int(input('Enter first integer: '))\n",
    "\n",
    "number2 = int(input('Enter second integer: '))\n",
    "\n",
    "\n",
    "if number1 == number2:\n",
    "    print(number1, 'is equal to', number2)\n",
    "    \n",
    "else:\n",
    "    print(number1, 'is not equal to', number2)\n",
    "    \n",
    "if number1 < number2:\n",
    "    print(number1, 'is less than', number2)\n",
    "    \n",
    "else:\n",
    "    print(number1, 'is greater than', number2)\n",
    "    \n",
    "if number1 <= number2:\n",
    "    print(number1, 'is less or equal to', number2)\n",
    "\n",
    "else:\n",
    "    print(number1, 'is greater or equal to', number2)\n",
    "    "
   ]
  },
  {
   "cell_type": "markdown",
   "metadata": {},
   "source": [
    "## (Turing Test) "
   ]
  },
  {
   "cell_type": "code",
   "execution_count": 12,
   "metadata": {},
   "outputs": [
    {
     "name": "stdin",
     "output_type": "stream",
     "text": [
      "What is your problem Sinusitis\n",
      "Have you had this problem before (yes or no)? yes\n"
     ]
    },
    {
     "name": "stdout",
     "output_type": "stream",
     "text": [
      "Well, you have it again.\n"
     ]
    },
    {
     "data": {
      "text/plain": [
       "'If the user can’t distinguish which responses are coming from the human and which are coming from the computer, \\nthen it’s reasonable to say that the computer is exhibiting intelligence.'"
      ]
     },
     "execution_count": 12,
     "metadata": {},
     "output_type": "execute_result"
    }
   ],
   "source": [
    "\n",
    "input('What is your problem')\n",
    "\n",
    "op = input('Have you had this problem before (yes or no)?')\n",
    "\n",
    "if op == 'yes':\n",
    "    print('Well, you have it again.')\n",
    "\n",
    "if op == 'no':\n",
    "    print('Well, you have it now.')\n",
    "\n",
    "    \n",
    "#The answer is always the same\n",
    "\n",
    "\n",
    "'''If the user can’t distinguish which responses are coming from the human and which are coming from the computer, \n",
    "then it’s reasonable to say that the computer is exhibiting intelligence.'''\n"
   ]
  },
  {
   "cell_type": "markdown",
   "metadata": {},
   "source": [
    "## (Table of Squares and Cubes)"
   ]
  },
  {
   "cell_type": "code",
   "execution_count": 13,
   "metadata": {},
   "outputs": [
    {
     "name": "stdout",
     "output_type": "stream",
     "text": [
      "number   square   cube\n",
      "     0        0      0\n",
      "     1        1      1\n",
      "     2        4      8\n",
      "     3        9     27\n",
      "     4       16     64\n",
      "     5       25    125\n"
     ]
    }
   ],
   "source": [
    "\n",
    "print(f'number   square   cube')\n",
    "\n",
    "for num in range(6):\n",
    "    print(f'{num:>6}{num**2:>9}{num**3:>7}')\n",
    "\n",
    "\n"
   ]
  },
  {
   "cell_type": "markdown",
   "metadata": {},
   "source": [
    "## (Arithmetic, Smallest and Largest)"
   ]
  },
  {
   "cell_type": "code",
   "execution_count": 14,
   "metadata": {},
   "outputs": [
    {
     "name": "stdin",
     "output_type": "stream",
     "text": [
      "Please enter a number:  4\n",
      "Please enter a number:  6\n",
      "Please enter a number:  8\n",
      "Please enter a number:  -1\n"
     ]
    },
    {
     "name": "stdout",
     "output_type": "stream",
     "text": [
      "The product is -192\n",
      "The sum is 17\n",
      "The average of these number is: 4.25\n",
      "The smallest number is: -1\n",
      "The highest number is: 8\n"
     ]
    }
   ],
   "source": [
    "\n",
    "nums = 0\n",
    "nump = 1\n",
    "\n",
    "num1 = int(input('Please enter a number: '))\n",
    "min_n = num1\n",
    "max_n = num1\n",
    "\n",
    "\n",
    "nums += num1\n",
    "nump *= num1\n",
    "\n",
    "\n",
    "for i in range(3):\n",
    "    \n",
    "    num2 = int(input('Please enter a number: '))\n",
    "    \n",
    "\n",
    "    nums += num2\n",
    "    nump *= num2\n",
    "    \n",
    "    \n",
    "    if min_n > num2:\n",
    "        min_n = num2\n",
    "    \n",
    "    if num2 > max_n:\n",
    "        max_n = num2\n",
    "        \n",
    "    \n",
    "\n",
    "    \n",
    "print(f'The product is {nump}')\n",
    "print(f'The sum is {nums}')\n",
    "print(f'The average of these number is: {nums/4:.2f}')\n",
    "print(f'The smallest number is: {min_n}')\n",
    "print(f'The highest number is: {max_n}')\n",
    "\n"
   ]
  },
  {
   "cell_type": "code",
   "execution_count": null,
   "metadata": {},
   "outputs": [],
   "source": []
  }
 ],
 "metadata": {
  "kernelspec": {
   "display_name": "Python 3",
   "language": "python",
   "name": "python3"
  },
  "language_info": {
   "codemirror_mode": {
    "name": "ipython",
    "version": 3
   },
   "file_extension": ".py",
   "mimetype": "text/x-python",
   "name": "python",
   "nbconvert_exporter": "python",
   "pygments_lexer": "ipython3",
   "version": "3.6.10"
  }
 },
 "nbformat": 4,
 "nbformat_minor": 4
}
