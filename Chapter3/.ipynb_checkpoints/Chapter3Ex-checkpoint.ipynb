{
 "cells": [
  {
   "cell_type": "markdown",
   "metadata": {},
   "source": [
    "# Exercises "
   ]
  },
  {
   "cell_type": "markdown",
   "metadata": {},
   "source": [
    "## (Validating User Input)"
   ]
  },
  {
   "cell_type": "code",
   "execution_count": null,
   "metadata": {},
   "outputs": [],
   "source": [
    "passes = 0\n",
    "failures = 0\n",
    "ftries = 0\n",
    "\n",
    "for student in range(10):\n",
    "    \n",
    "    result = int(input('Enter the result (1=pass, 2=fail): '))\n",
    "   \n",
    "    while result != 1 and result != 2:\n",
    "    \n",
    "        ftries += 1\n",
    "        result = int(input('Wrong number. Please try again'))\n",
    "        \n",
    "        \n",
    "    if result == 1:\n",
    "        passes = passes + 1\n",
    "        \n",
    "    else:\n",
    "        failures = failures + 1\n",
    "    \n",
    "print('Passed: ', passes)\n",
    "print('Failed: ', failures)\n",
    "\n",
    "if passes > 8:\n",
    "    print('Bonus to instructor')\n",
    "    \n",
    "print('\\n')\n",
    "    \n",
    "print('The number of failed tries is:', ftries)\n",
    "print('Number of total inputs:', ftries + failures + passes)"
   ]
  },
  {
   "cell_type": "markdown",
   "metadata": {},
   "source": [
    "## (What’s Wrong with This Code?) "
   ]
  },
  {
   "cell_type": "code",
   "execution_count": null,
   "metadata": {},
   "outputs": [],
   "source": [
    "a = b = 7\n",
    "print('a =', a, '\\nb =', b)"
   ]
  },
  {
   "cell_type": "markdown",
   "metadata": {},
   "source": [
    "## (What Does This Code Do?) "
   ]
  },
  {
   "cell_type": "code",
   "execution_count": null,
   "metadata": {},
   "outputs": [],
   "source": [
    "for row in range(10):\n",
    "    for column in range(10):\n",
    "        print('<' if row % 2 == 1 else '>', end='')\n",
    "    print()"
   ]
  },
  {
   "cell_type": "markdown",
   "metadata": {},
   "source": [
    "## (Fill in the Missing Code)"
   ]
  },
  {
   "cell_type": "code",
   "execution_count": null,
   "metadata": {},
   "outputs": [],
   "source": [
    "\n",
    "for num in range(2):\n",
    "    \n",
    "    for sim in range(7):\n",
    "        print('@', end='')\n",
    "    print()\n"
   ]
  },
  {
   "cell_type": "markdown",
   "metadata": {},
   "source": [
    "## (if...else Statements) "
   ]
  },
  {
   "cell_type": "code",
   "execution_count": null,
   "metadata": {},
   "outputs": [],
   "source": [
    "print('Enter two integers and I will tell you',\n",
    "      'the relationships they satisfy.')\n",
    "\n",
    "\n",
    "number1 = int(input('Enter first integer: '))\n",
    "\n",
    "number2 = int(input('Enter second integer: '))\n",
    "\n",
    "\n",
    "if number1 == number2:\n",
    "    print(number1, 'is equal to', number2)\n",
    "    \n",
    "else:\n",
    "    print(number1, 'is not equal to', number2)\n",
    "    \n",
    "if number1 < number2:\n",
    "    print(number1, 'is less than', number2)\n",
    "    \n",
    "else:\n",
    "    print(number1, 'is greater than', number2)\n",
    "    \n",
    "if number1 <= number2:\n",
    "    print(number1, 'is less or equal to', number2)\n",
    "\n",
    "else:\n",
    "    print(number1, 'is greater or equal to', number2)\n",
    "    "
   ]
  },
  {
   "cell_type": "markdown",
   "metadata": {},
   "source": [
    "## (Turing Test) "
   ]
  },
  {
   "cell_type": "code",
   "execution_count": null,
   "metadata": {},
   "outputs": [],
   "source": [
    "\n",
    "input('What is your problem')\n",
    "\n",
    "op = input('Have you had this problem before (yes or no)?')\n",
    "\n",
    "if op == 'yes':\n",
    "    print('Well, you have it again.')\n",
    "\n",
    "if op == 'no':\n",
    "    print('Well, you have it now.')\n",
    "\n",
    "    \n",
    "#The answer is always the same\n",
    "\n",
    "\n",
    "'''If the user can’t distinguish which responses are coming from the human and which are coming from the computer, \n",
    "then it’s reasonable to say that the computer is exhibiting intelligence.'''\n"
   ]
  },
  {
   "cell_type": "markdown",
   "metadata": {},
   "source": [
    "## (Table of Squares and Cubes)"
   ]
  },
  {
   "cell_type": "code",
   "execution_count": null,
   "metadata": {},
   "outputs": [],
   "source": [
    "\n",
    "print(f'number   square   cube')\n",
    "\n",
    "for num in range(6):\n",
    "    print(f'{num:>6}{num**2:>9}{num**3:>7}')\n",
    "\n",
    "\n"
   ]
  },
  {
   "cell_type": "markdown",
   "metadata": {},
   "source": [
    "## (Arithmetic, Smallest and Largest)"
   ]
  },
  {
   "cell_type": "code",
   "execution_count": 6,
   "metadata": {},
   "outputs": [
    {
     "name": "stdin",
     "output_type": "stream",
     "text": [
      "Please enter a number:  4\n",
      "Please enter a number:  5\n",
      "Please enter a number:  3\n",
      "Please enter a number:  2\n"
     ]
    },
    {
     "name": "stdout",
     "output_type": "stream",
     "text": [
      "The product is 120\n",
      "The sum is 14\n",
      "The average of these number is: 3.50\n"
     ]
    }
   ],
   "source": [
    "\n",
    "nums = 0\n",
    "nump = 1\n",
    "\n",
    "min_n = 0\n",
    "max_n = 0\n",
    "\n",
    "for i in range(4):\n",
    "    num = int(input('Please enter a number: '))\n",
    "    \n",
    "    nums += num\n",
    "    nump *= num\n",
    "\n",
    "    \n",
    "print(f'The product is {nump}')\n",
    "print(f'The sum is {nums}')\n",
    "print(f'The average of these number is: {nums/4:.2f}')\n",
    "\n",
    "\n"
   ]
  },
  {
   "cell_type": "code",
   "execution_count": null,
   "metadata": {},
   "outputs": [],
   "source": []
  }
 ],
 "metadata": {
  "kernelspec": {
   "display_name": "Python 3",
   "language": "python",
   "name": "python3"
  },
  "language_info": {
   "codemirror_mode": {
    "name": "ipython",
    "version": 3
   },
   "file_extension": ".py",
   "mimetype": "text/x-python",
   "name": "python",
   "nbconvert_exporter": "python",
   "pygments_lexer": "ipython3",
   "version": "3.6.10"
  }
 },
 "nbformat": 4,
 "nbformat_minor": 4
}
