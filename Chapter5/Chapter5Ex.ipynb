{
 "cells": [
  {
   "cell_type": "markdown",
   "metadata": {},
   "source": [
    "## (What’s Wrong with This Code?) "
   ]
  },
  {
   "cell_type": "code",
   "execution_count": 2,
   "metadata": {},
   "outputs": [
    {
     "ename": "ValueError",
     "evalue": "too many values to unpack (expected 2)",
     "output_type": "error",
     "traceback": [
      "\u001b[0;31m---------------------------------------------------------------------------\u001b[0m",
      "\u001b[0;31mValueError\u001b[0m                                Traceback (most recent call last)",
      "\u001b[0;32m<ipython-input-2-a6f085c3b088>\u001b[0m in \u001b[0;36m<module>\u001b[0;34m\u001b[0m\n\u001b[1;32m      1\u001b[0m \u001b[0;31m#Unpcaked without the same number of elements\u001b[0m\u001b[0;34m\u001b[0m\u001b[0;34m\u001b[0m\u001b[0;34m\u001b[0m\u001b[0m\n\u001b[0;32m----> 2\u001b[0;31m \u001b[0mday\u001b[0m\u001b[0;34m,\u001b[0m \u001b[0mhigh_temperature\u001b[0m \u001b[0;34m=\u001b[0m \u001b[0;34m(\u001b[0m\u001b[0;34m'Monday'\u001b[0m\u001b[0;34m,\u001b[0m \u001b[0;36m87\u001b[0m\u001b[0;34m,\u001b[0m \u001b[0;36m65\u001b[0m\u001b[0;34m)\u001b[0m\u001b[0;34m\u001b[0m\u001b[0;34m\u001b[0m\u001b[0m\n\u001b[0m",
      "\u001b[0;31mValueError\u001b[0m: too many values to unpack (expected 2)"
     ]
    }
   ],
   "source": [
    "\n",
    "#Unpcaked without the same number of elements\n",
    "day, high_temperature = ('Monday', 87, 65)"
   ]
  },
  {
   "cell_type": "code",
   "execution_count": 3,
   "metadata": {},
   "outputs": [
    {
     "ename": "IndexError",
     "evalue": "list index out of range",
     "output_type": "error",
     "traceback": [
      "\u001b[0;31m---------------------------------------------------------------------------\u001b[0m",
      "\u001b[0;31mIndexError\u001b[0m                                Traceback (most recent call last)",
      "\u001b[0;32m<ipython-input-3-3cd0e6be2c9e>\u001b[0m in \u001b[0;36m<module>\u001b[0;34m\u001b[0m\n\u001b[1;32m      1\u001b[0m \u001b[0;31m#numbers[10] element that is not in numbers\u001b[0m\u001b[0;34m\u001b[0m\u001b[0;34m\u001b[0m\u001b[0;34m\u001b[0m\u001b[0m\n\u001b[1;32m      2\u001b[0m \u001b[0mnumbers\u001b[0m \u001b[0;34m=\u001b[0m \u001b[0;34m[\u001b[0m\u001b[0;36m1\u001b[0m\u001b[0;34m,\u001b[0m \u001b[0;36m2\u001b[0m\u001b[0;34m,\u001b[0m \u001b[0;36m3\u001b[0m\u001b[0;34m,\u001b[0m \u001b[0;36m4\u001b[0m\u001b[0;34m,\u001b[0m \u001b[0;36m5\u001b[0m\u001b[0;34m]\u001b[0m\u001b[0;34m\u001b[0m\u001b[0;34m\u001b[0m\u001b[0m\n\u001b[0;32m----> 3\u001b[0;31m \u001b[0mnumbers\u001b[0m\u001b[0;34m[\u001b[0m\u001b[0;36m10\u001b[0m\u001b[0;34m]\u001b[0m\u001b[0;34m\u001b[0m\u001b[0;34m\u001b[0m\u001b[0m\n\u001b[0m",
      "\u001b[0;31mIndexError\u001b[0m: list index out of range"
     ]
    }
   ],
   "source": [
    "\n",
    "#numbers[10] element that is not in numbers\n",
    "numbers = [1, 2, 3, 4, 5]\n",
    "numbers[10]"
   ]
  },
  {
   "cell_type": "code",
   "execution_count": 4,
   "metadata": {},
   "outputs": [
    {
     "ename": "TypeError",
     "evalue": "'str' object does not support item assignment",
     "output_type": "error",
     "traceback": [
      "\u001b[0;31m---------------------------------------------------------------------------\u001b[0m",
      "\u001b[0;31mTypeError\u001b[0m                                 Traceback (most recent call last)",
      "\u001b[0;32m<ipython-input-4-257175dd0a2c>\u001b[0m in \u001b[0;36m<module>\u001b[0;34m\u001b[0m\n\u001b[1;32m      1\u001b[0m \u001b[0;31m#You can not change the object\u001b[0m\u001b[0;34m\u001b[0m\u001b[0;34m\u001b[0m\u001b[0;34m\u001b[0m\u001b[0m\n\u001b[1;32m      2\u001b[0m \u001b[0mname\u001b[0m \u001b[0;34m=\u001b[0m \u001b[0;34m'amanda'\u001b[0m\u001b[0;34m\u001b[0m\u001b[0;34m\u001b[0m\u001b[0m\n\u001b[0;32m----> 3\u001b[0;31m \u001b[0mname\u001b[0m\u001b[0;34m[\u001b[0m\u001b[0;36m0\u001b[0m\u001b[0;34m]\u001b[0m \u001b[0;34m=\u001b[0m \u001b[0;34m'A'\u001b[0m\u001b[0;34m\u001b[0m\u001b[0;34m\u001b[0m\u001b[0m\n\u001b[0m",
      "\u001b[0;31mTypeError\u001b[0m: 'str' object does not support item assignment"
     ]
    }
   ],
   "source": [
    "\n",
    "#You can not change the object\n",
    "name = 'amanda' \n",
    "name[0] = 'A'"
   ]
  },
  {
   "cell_type": "code",
   "execution_count": 5,
   "metadata": {},
   "outputs": [
    {
     "ename": "TypeError",
     "evalue": "list indices must be integers or slices, not float",
     "output_type": "error",
     "traceback": [
      "\u001b[0;31m---------------------------------------------------------------------------\u001b[0m",
      "\u001b[0;31mTypeError\u001b[0m                                 Traceback (most recent call last)",
      "\u001b[0;32m<ipython-input-5-79c8bfa7b6c3>\u001b[0m in \u001b[0;36m<module>\u001b[0;34m\u001b[0m\n\u001b[1;32m      1\u001b[0m \u001b[0;31m#Index must be integer\u001b[0m\u001b[0;34m\u001b[0m\u001b[0;34m\u001b[0m\u001b[0;34m\u001b[0m\u001b[0m\n\u001b[1;32m      2\u001b[0m \u001b[0mnumbers\u001b[0m \u001b[0;34m=\u001b[0m \u001b[0;34m[\u001b[0m\u001b[0;36m1\u001b[0m\u001b[0;34m,\u001b[0m \u001b[0;36m2\u001b[0m\u001b[0;34m,\u001b[0m \u001b[0;36m3\u001b[0m\u001b[0;34m,\u001b[0m \u001b[0;36m4\u001b[0m\u001b[0;34m,\u001b[0m \u001b[0;36m5\u001b[0m\u001b[0;34m]\u001b[0m\u001b[0;34m\u001b[0m\u001b[0;34m\u001b[0m\u001b[0m\n\u001b[0;32m----> 3\u001b[0;31m \u001b[0mnumbers\u001b[0m\u001b[0;34m[\u001b[0m\u001b[0;36m3.4\u001b[0m\u001b[0;34m]\u001b[0m\u001b[0;34m\u001b[0m\u001b[0;34m\u001b[0m\u001b[0m\n\u001b[0m",
      "\u001b[0;31mTypeError\u001b[0m: list indices must be integers or slices, not float"
     ]
    }
   ],
   "source": [
    "\n",
    "#Index must be integer\n",
    "numbers = [1, 2, 3, 4, 5] \n",
    "numbers[3.4]"
   ]
  },
  {
   "cell_type": "code",
   "execution_count": 6,
   "metadata": {},
   "outputs": [
    {
     "ename": "TypeError",
     "evalue": "'tuple' object does not support item assignment",
     "output_type": "error",
     "traceback": [
      "\u001b[0;31m---------------------------------------------------------------------------\u001b[0m",
      "\u001b[0;31mTypeError\u001b[0m                                 Traceback (most recent call last)",
      "\u001b[0;32m<ipython-input-6-e6f017ea14c3>\u001b[0m in \u001b[0;36m<module>\u001b[0;34m\u001b[0m\n\u001b[1;32m      1\u001b[0m \u001b[0;31m#A tuple cannot be modified\u001b[0m\u001b[0;34m\u001b[0m\u001b[0;34m\u001b[0m\u001b[0;34m\u001b[0m\u001b[0m\n\u001b[1;32m      2\u001b[0m \u001b[0mstudent_tuple\u001b[0m \u001b[0;34m=\u001b[0m \u001b[0;34m(\u001b[0m\u001b[0;34m'Amanda'\u001b[0m\u001b[0;34m,\u001b[0m \u001b[0;34m'Blue'\u001b[0m\u001b[0;34m,\u001b[0m \u001b[0;34m[\u001b[0m\u001b[0;36m98\u001b[0m\u001b[0;34m,\u001b[0m \u001b[0;36m75\u001b[0m\u001b[0;34m,\u001b[0m \u001b[0;36m87\u001b[0m\u001b[0;34m]\u001b[0m\u001b[0;34m)\u001b[0m\u001b[0;34m\u001b[0m\u001b[0;34m\u001b[0m\u001b[0m\n\u001b[0;32m----> 3\u001b[0;31m \u001b[0mstudent_tuple\u001b[0m\u001b[0;34m[\u001b[0m\u001b[0;36m0\u001b[0m\u001b[0;34m]\u001b[0m \u001b[0;34m=\u001b[0m \u001b[0;34m'Ariana'\u001b[0m\u001b[0;34m\u001b[0m\u001b[0;34m\u001b[0m\u001b[0m\n\u001b[0m",
      "\u001b[0;31mTypeError\u001b[0m: 'tuple' object does not support item assignment"
     ]
    }
   ],
   "source": [
    "\n",
    "#A tuple cannot be modified\n",
    "student_tuple = ('Amanda', 'Blue', [98, 75, 87]) \n",
    "student_tuple[0] = 'Ariana'"
   ]
  },
  {
   "cell_type": "code",
   "execution_count": 7,
   "metadata": {},
   "outputs": [
    {
     "ename": "TypeError",
     "evalue": "can only concatenate tuple (not \"str\") to tuple",
     "output_type": "error",
     "traceback": [
      "\u001b[0;31m---------------------------------------------------------------------------\u001b[0m",
      "\u001b[0;31mTypeError\u001b[0m                                 Traceback (most recent call last)",
      "\u001b[0;32m<ipython-input-7-2691b2f1863d>\u001b[0m in \u001b[0;36m<module>\u001b[0;34m\u001b[0m\n\u001b[1;32m      1\u001b[0m \u001b[0;31m#You cannot concatenate to different type of elements\u001b[0m\u001b[0;34m\u001b[0m\u001b[0;34m\u001b[0m\u001b[0;34m\u001b[0m\u001b[0m\n\u001b[0;32m----> 2\u001b[0;31m \u001b[0;34m(\u001b[0m\u001b[0;34m'Monday'\u001b[0m\u001b[0;34m,\u001b[0m \u001b[0;36m87\u001b[0m\u001b[0;34m,\u001b[0m \u001b[0;36m65\u001b[0m\u001b[0;34m)\u001b[0m \u001b[0;34m+\u001b[0m \u001b[0;34m'Tuesday'\u001b[0m\u001b[0;34m\u001b[0m\u001b[0;34m\u001b[0m\u001b[0m\n\u001b[0m",
      "\u001b[0;31mTypeError\u001b[0m: can only concatenate tuple (not \"str\") to tuple"
     ]
    }
   ],
   "source": [
    "\n",
    "#You cannot concatenate to different type of elements\n",
    "('Monday', 87, 65) + 'Tuesday'"
   ]
  },
  {
   "cell_type": "code",
   "execution_count": 8,
   "metadata": {},
   "outputs": [
    {
     "ename": "SyntaxError",
     "evalue": "cannot assign to literal (<ipython-input-8-28ff9932e136>, line 2)",
     "output_type": "error",
     "traceback": [
      "\u001b[0;36m  File \u001b[0;32m\"<ipython-input-8-28ff9932e136>\"\u001b[0;36m, line \u001b[0;32m2\u001b[0m\n\u001b[0;31m    'A' += ('B', 'C')\u001b[0m\n\u001b[0m    ^\u001b[0m\n\u001b[0;31mSyntaxError\u001b[0m\u001b[0;31m:\u001b[0m cannot assign to literal\n"
     ]
    }
   ],
   "source": [
    "\n",
    "#You cannot sum a string\n",
    "'A' += ('B', 'C')"
   ]
  },
  {
   "cell_type": "code",
   "execution_count": 9,
   "metadata": {},
   "outputs": [
    {
     "ename": "NameError",
     "evalue": "name 'x' is not defined",
     "output_type": "error",
     "traceback": [
      "\u001b[0;31m---------------------------------------------------------------------------\u001b[0m",
      "\u001b[0;31mNameError\u001b[0m                                 Traceback (most recent call last)",
      "\u001b[0;32m<ipython-input-9-5bd0848d96b1>\u001b[0m in \u001b[0;36m<module>\u001b[0;34m\u001b[0m\n\u001b[1;32m      2\u001b[0m \u001b[0mx\u001b[0m \u001b[0;34m=\u001b[0m \u001b[0;36m7\u001b[0m\u001b[0;34m\u001b[0m\u001b[0;34m\u001b[0m\u001b[0m\n\u001b[1;32m      3\u001b[0m \u001b[0;32mdel\u001b[0m \u001b[0mx\u001b[0m\u001b[0;34m\u001b[0m\u001b[0;34m\u001b[0m\u001b[0m\n\u001b[0;32m----> 4\u001b[0;31m \u001b[0mprint\u001b[0m\u001b[0;34m(\u001b[0m\u001b[0mx\u001b[0m\u001b[0;34m)\u001b[0m\u001b[0;34m\u001b[0m\u001b[0;34m\u001b[0m\u001b[0m\n\u001b[0m",
      "\u001b[0;31mNameError\u001b[0m: name 'x' is not defined"
     ]
    }
   ],
   "source": [
    "\n",
    "#del x erase the variable x\n",
    "x = 7\n",
    "del x\n",
    "print(x)"
   ]
  },
  {
   "cell_type": "code",
   "execution_count": 10,
   "metadata": {},
   "outputs": [
    {
     "ename": "ValueError",
     "evalue": "10 is not in list",
     "output_type": "error",
     "traceback": [
      "\u001b[0;31m---------------------------------------------------------------------------\u001b[0m",
      "\u001b[0;31mValueError\u001b[0m                                Traceback (most recent call last)",
      "\u001b[0;32m<ipython-input-10-38f69a308194>\u001b[0m in \u001b[0;36m<module>\u001b[0;34m\u001b[0m\n\u001b[1;32m      1\u001b[0m \u001b[0;31m#There is no element 10\u001b[0m\u001b[0;34m\u001b[0m\u001b[0;34m\u001b[0m\u001b[0;34m\u001b[0m\u001b[0m\n\u001b[1;32m      2\u001b[0m \u001b[0mnumbers\u001b[0m \u001b[0;34m=\u001b[0m \u001b[0;34m[\u001b[0m\u001b[0;36m1\u001b[0m\u001b[0;34m,\u001b[0m \u001b[0;36m2\u001b[0m\u001b[0;34m,\u001b[0m \u001b[0;36m3\u001b[0m\u001b[0;34m,\u001b[0m \u001b[0;36m4\u001b[0m\u001b[0;34m,\u001b[0m \u001b[0;36m5\u001b[0m\u001b[0;34m]\u001b[0m\u001b[0;34m\u001b[0m\u001b[0;34m\u001b[0m\u001b[0m\n\u001b[0;32m----> 3\u001b[0;31m \u001b[0mnumbers\u001b[0m\u001b[0;34m.\u001b[0m\u001b[0mindex\u001b[0m\u001b[0;34m(\u001b[0m\u001b[0;36m10\u001b[0m\u001b[0;34m)\u001b[0m\u001b[0;34m\u001b[0m\u001b[0;34m\u001b[0m\u001b[0m\n\u001b[0m",
      "\u001b[0;31mValueError\u001b[0m: 10 is not in list"
     ]
    }
   ],
   "source": [
    "\n",
    "#There is no element 10\n",
    "numbers = [1, 2, 3, 4, 5]\n",
    "numbers.index(10)"
   ]
  },
  {
   "cell_type": "code",
   "execution_count": 11,
   "metadata": {},
   "outputs": [
    {
     "ename": "TypeError",
     "evalue": "extend() takes exactly one argument (3 given)",
     "output_type": "error",
     "traceback": [
      "\u001b[0;31m---------------------------------------------------------------------------\u001b[0m",
      "\u001b[0;31mTypeError\u001b[0m                                 Traceback (most recent call last)",
      "\u001b[0;32m<ipython-input-11-249ef9b29fbb>\u001b[0m in \u001b[0;36m<module>\u001b[0;34m\u001b[0m\n\u001b[1;32m      1\u001b[0m \u001b[0;31m#extend can only take one element\u001b[0m\u001b[0;34m\u001b[0m\u001b[0;34m\u001b[0m\u001b[0;34m\u001b[0m\u001b[0m\n\u001b[1;32m      2\u001b[0m \u001b[0mnumbers\u001b[0m \u001b[0;34m=\u001b[0m \u001b[0;34m[\u001b[0m\u001b[0;36m1\u001b[0m\u001b[0;34m,\u001b[0m \u001b[0;36m2\u001b[0m\u001b[0;34m,\u001b[0m \u001b[0;36m3\u001b[0m\u001b[0;34m,\u001b[0m \u001b[0;36m4\u001b[0m\u001b[0;34m,\u001b[0m \u001b[0;36m5\u001b[0m\u001b[0;34m]\u001b[0m\u001b[0;34m\u001b[0m\u001b[0;34m\u001b[0m\u001b[0m\n\u001b[0;32m----> 3\u001b[0;31m \u001b[0mnumbers\u001b[0m\u001b[0;34m.\u001b[0m\u001b[0mextend\u001b[0m\u001b[0;34m(\u001b[0m\u001b[0;36m6\u001b[0m\u001b[0;34m,\u001b[0m \u001b[0;36m7\u001b[0m\u001b[0;34m,\u001b[0m \u001b[0;36m8\u001b[0m\u001b[0;34m)\u001b[0m\u001b[0;34m\u001b[0m\u001b[0;34m\u001b[0m\u001b[0m\n\u001b[0m",
      "\u001b[0;31mTypeError\u001b[0m: extend() takes exactly one argument (3 given)"
     ]
    }
   ],
   "source": [
    "\n",
    "#extend can only take one element\n",
    "numbers = [1, 2, 3, 4, 5]\n",
    "numbers.extend(6, 7, 8)"
   ]
  },
  {
   "cell_type": "code",
   "execution_count": 12,
   "metadata": {},
   "outputs": [
    {
     "ename": "ValueError",
     "evalue": "list.remove(x): x not in list",
     "output_type": "error",
     "traceback": [
      "\u001b[0;31m---------------------------------------------------------------------------\u001b[0m",
      "\u001b[0;31mValueError\u001b[0m                                Traceback (most recent call last)",
      "\u001b[0;32m<ipython-input-12-83fe7e218efb>\u001b[0m in \u001b[0;36m<module>\u001b[0;34m\u001b[0m\n\u001b[1;32m      1\u001b[0m \u001b[0;31m#There is no element 10\u001b[0m\u001b[0;34m\u001b[0m\u001b[0;34m\u001b[0m\u001b[0;34m\u001b[0m\u001b[0m\n\u001b[1;32m      2\u001b[0m \u001b[0mnumbers\u001b[0m \u001b[0;34m=\u001b[0m \u001b[0;34m[\u001b[0m\u001b[0;36m1\u001b[0m\u001b[0;34m,\u001b[0m \u001b[0;36m2\u001b[0m\u001b[0;34m,\u001b[0m \u001b[0;36m3\u001b[0m\u001b[0;34m,\u001b[0m \u001b[0;36m4\u001b[0m\u001b[0;34m,\u001b[0m \u001b[0;36m5\u001b[0m\u001b[0;34m]\u001b[0m\u001b[0;34m\u001b[0m\u001b[0;34m\u001b[0m\u001b[0m\n\u001b[0;32m----> 3\u001b[0;31m \u001b[0mnumbers\u001b[0m\u001b[0;34m.\u001b[0m\u001b[0mremove\u001b[0m\u001b[0;34m(\u001b[0m\u001b[0;36m10\u001b[0m\u001b[0;34m)\u001b[0m\u001b[0;34m\u001b[0m\u001b[0;34m\u001b[0m\u001b[0m\n\u001b[0m",
      "\u001b[0;31mValueError\u001b[0m: list.remove(x): x not in list"
     ]
    }
   ],
   "source": [
    "\n",
    "#There is no element 10\n",
    "numbers = [1, 2, 3, 4, 5]\n",
    "numbers.remove(10)"
   ]
  },
  {
   "cell_type": "code",
   "execution_count": 13,
   "metadata": {},
   "outputs": [
    {
     "ename": "IndexError",
     "evalue": "pop from empty list",
     "output_type": "error",
     "traceback": [
      "\u001b[0;31m---------------------------------------------------------------------------\u001b[0m",
      "\u001b[0;31mIndexError\u001b[0m                                Traceback (most recent call last)",
      "\u001b[0;32m<ipython-input-13-213d76ea0d9f>\u001b[0m in \u001b[0;36m<module>\u001b[0;34m\u001b[0m\n\u001b[1;32m      1\u001b[0m \u001b[0;31m#Cannot extract an element from an empty list\u001b[0m\u001b[0;34m\u001b[0m\u001b[0;34m\u001b[0m\u001b[0;34m\u001b[0m\u001b[0m\n\u001b[1;32m      2\u001b[0m \u001b[0mvalues\u001b[0m \u001b[0;34m=\u001b[0m \u001b[0;34m[\u001b[0m\u001b[0;34m]\u001b[0m\u001b[0;34m\u001b[0m\u001b[0;34m\u001b[0m\u001b[0m\n\u001b[0;32m----> 3\u001b[0;31m \u001b[0mvalues\u001b[0m\u001b[0;34m.\u001b[0m\u001b[0mpop\u001b[0m\u001b[0;34m(\u001b[0m\u001b[0;34m)\u001b[0m\u001b[0;34m\u001b[0m\u001b[0;34m\u001b[0m\u001b[0m\n\u001b[0m",
      "\u001b[0;31mIndexError\u001b[0m: pop from empty list"
     ]
    }
   ],
   "source": [
    "\n",
    "#Cannot extract an element from an empty list\n",
    "values = []\n",
    "values.pop()"
   ]
  },
  {
   "cell_type": "markdown",
   "metadata": {},
   "source": [
    "## (What’s Does This Code Do?) "
   ]
  },
  {
   "cell_type": "code",
   "execution_count": 14,
   "metadata": {},
   "outputs": [
    {
     "data": {
      "text/plain": [
       "True"
      ]
     },
     "execution_count": 14,
     "metadata": {},
     "output_type": "execute_result"
    }
   ],
   "source": [
    "\n",
    "def mystery(sequence):\n",
    "    '''It returns true if the sequence is sorted'''\n",
    "    return sequence == sorted(sequence)\n",
    "\n",
    "list1 = [4, 2, 5, 1, 3]\n",
    "mystery(list1)         #False\n",
    "\n",
    "list2 = [1, 2, 3, 4, 5]\n",
    "mystery(list2)         #True"
   ]
  },
  {
   "cell_type": "markdown",
   "metadata": {},
   "source": [
    "## (Fill in the Missing Code)"
   ]
  },
  {
   "cell_type": "code",
   "execution_count": 19,
   "metadata": {},
   "outputs": [
    {
     "data": {
      "text/plain": [
       "[(69, 1.7526), (77, 1.9558), (54, 1.3716)]"
      ]
     },
     "execution_count": 19,
     "metadata": {},
     "output_type": "execute_result"
    }
   ],
   "source": [
    "\n",
    "'''Converting inches to meters'''\n",
    "\n",
    "\n",
    "[(x, x*0.0254) for x in [69, 77, 54]]\n"
   ]
  },
  {
   "cell_type": "code",
   "execution_count": 20,
   "metadata": {},
   "outputs": [
    {
     "data": {
      "text/plain": [
       "[(69, 1.7526), (77, 1.9558), (54, 1.3716)]"
      ]
     },
     "execution_count": 20,
     "metadata": {},
     "output_type": "execute_result"
    }
   ],
   "source": [
    "list(map(lambda x: (x,x*0.0254), [69, 77, 54]))"
   ]
  },
  {
   "cell_type": "markdown",
   "metadata": {},
   "source": [
    "## (Iteration Order) "
   ]
  },
  {
   "cell_type": "code",
   "execution_count": 1,
   "metadata": {},
   "outputs": [
    {
     "name": "stdout",
     "output_type": "stream",
     "text": [
      "   0  1  2  \n",
      "\n",
      "0  2  4  5  \n",
      "\n",
      "1  3  0  -2  \n",
      "\n"
     ]
    }
   ],
   "source": [
    "\n",
    "\n",
    "\n",
    "\n",
    "a = [[2, 4, 5], \n",
    "     [3, 0, -2]]\n",
    "\n",
    "print(' ', end='  ')\n",
    "for ind in range(0, len(a[1])):\n",
    "    print(ind, sep='-', end='  ')\n",
    "print('\\n')\n",
    "\n",
    "for row in range(0,len(a)):\n",
    "    \n",
    "    print(row, end='  ')\n",
    "    for column in range(0,len(a[row])):\n",
    "        print(a[row][column], end='  ')\n",
    "    print('\\n')\n"
   ]
  },
  {
   "cell_type": "markdown",
   "metadata": {},
   "source": [
    "## (IPython Session: Slicing) "
   ]
  },
  {
   "cell_type": "code",
   "execution_count": 2,
   "metadata": {},
   "outputs": [
    {
     "data": {
      "text/plain": [
       "'abcdefghijklm'"
      ]
     },
     "execution_count": 2,
     "metadata": {},
     "output_type": "execute_result"
    }
   ],
   "source": [
    "\n",
    "alphabet = 'abcdefghijklmnopqrstuvwxyz'\n",
    "\n",
    "#(a)\n",
    "alphabet[0:int(len(alphabet)/2)]\n"
   ]
  },
  {
   "cell_type": "code",
   "execution_count": 3,
   "metadata": {},
   "outputs": [
    {
     "data": {
      "text/plain": [
       "'abcdefghijklm'"
      ]
     },
     "execution_count": 3,
     "metadata": {},
     "output_type": "execute_result"
    }
   ],
   "source": [
    "\n",
    "#(b)\n",
    "alphabet[:int(alphabet.index('z')/2)+1]\n",
    "\n"
   ]
  },
  {
   "cell_type": "code",
   "execution_count": 4,
   "metadata": {},
   "outputs": [
    {
     "data": {
      "text/plain": [
       "'nopqrstuvwxyz'"
      ]
     },
     "execution_count": 4,
     "metadata": {},
     "output_type": "execute_result"
    }
   ],
   "source": [
    "\n",
    "#(c)\n",
    "alphabet[13:len(alphabet)]"
   ]
  },
  {
   "cell_type": "code",
   "execution_count": 5,
   "metadata": {},
   "outputs": [
    {
     "data": {
      "text/plain": [
       "'nopqrstuvwxyz'"
      ]
     },
     "execution_count": 5,
     "metadata": {},
     "output_type": "execute_result"
    }
   ],
   "source": [
    "\n",
    "#(d)\n",
    "alphabet[alphabet.index('n'):]"
   ]
  },
  {
   "cell_type": "code",
   "execution_count": 6,
   "metadata": {},
   "outputs": [
    {
     "data": {
      "text/plain": [
       "'acegikmoqsuwy'"
      ]
     },
     "execution_count": 6,
     "metadata": {},
     "output_type": "execute_result"
    }
   ],
   "source": [
    "\n",
    "#(e)\n",
    "alphabet[0::2]"
   ]
  },
  {
   "cell_type": "code",
   "execution_count": 7,
   "metadata": {},
   "outputs": [
    {
     "data": {
      "text/plain": [
       "'zyxwvutsrqponmlkjihgfedcba'"
      ]
     },
     "execution_count": 7,
     "metadata": {},
     "output_type": "execute_result"
    }
   ],
   "source": [
    "\n",
    "#(f)\n",
    "alphabet[::-1]"
   ]
  },
  {
   "cell_type": "code",
   "execution_count": 8,
   "metadata": {},
   "outputs": [
    {
     "data": {
      "text/plain": [
       "'zwtqnkheb'"
      ]
     },
     "execution_count": 8,
     "metadata": {},
     "output_type": "execute_result"
    }
   ],
   "source": [
    "\n",
    "#(g)\n",
    "alphabet[::-3]"
   ]
  },
  {
   "cell_type": "markdown",
   "metadata": {},
   "source": [
    "## (Functions Returning Tuples) "
   ]
  },
  {
   "cell_type": "code",
   "execution_count": 9,
   "metadata": {},
   "outputs": [
    {
     "data": {
      "text/plain": [
       "(1984, 'Doug', 22)"
      ]
     },
     "execution_count": 9,
     "metadata": {},
     "output_type": "execute_result"
    }
   ],
   "source": [
    "\n",
    "def rotate(index1, index2, index3):\n",
    "    '''Returns a Tuple'''\n",
    "    return (index3, index1, index2)\n",
    "\n",
    "a = ('Doug', 22, 1984)\n",
    "b = (22, 1984, 'Doug')\n",
    "c = (1984, 'Doug', 22)\n",
    "\n",
    "rotate(*a)\n",
    "\n"
   ]
  },
  {
   "cell_type": "code",
   "execution_count": 10,
   "metadata": {},
   "outputs": [
    {
     "data": {
      "text/plain": [
       "('Doug', 22, 1984)"
      ]
     },
     "execution_count": 10,
     "metadata": {},
     "output_type": "execute_result"
    }
   ],
   "source": [
    "rotate(*b)\n"
   ]
  },
  {
   "cell_type": "code",
   "execution_count": 11,
   "metadata": {},
   "outputs": [
    {
     "data": {
      "text/plain": [
       "(22, 1984, 'Doug')"
      ]
     },
     "execution_count": 11,
     "metadata": {},
     "output_type": "execute_result"
    }
   ],
   "source": [
    "rotate(*c)"
   ]
  },
  {
   "cell_type": "markdown",
   "metadata": {},
   "source": [
    "## (Duplicate Elimination) "
   ]
  },
  {
   "cell_type": "code",
   "execution_count": 12,
   "metadata": {},
   "outputs": [
    {
     "data": {
      "text/plain": [
       "[2, 3, 4, 5, 6, 8, 9]"
      ]
     },
     "execution_count": 12,
     "metadata": {},
     "output_type": "execute_result"
    }
   ],
   "source": [
    "\n",
    "a = [4, 3, 2, 5, 6, 3, 4, 5, 6, 8, 9, 4, 5]\n",
    "l = 'dreftsgfdf'\n",
    "\n",
    "def dupli_elimination(lista):\n",
    "    completos = []\n",
    "    for i in range(len(lista)):\n",
    "        \n",
    "        if lista[i] not in completos:\n",
    "            completos.append(lista[i])\n",
    "          \n",
    "    completos.sort()\n",
    "    \n",
    "    return completos\n",
    "\n",
    "dupli_elimination(a)"
   ]
  },
  {
   "cell_type": "code",
   "execution_count": 13,
   "metadata": {},
   "outputs": [
    {
     "data": {
      "text/plain": [
       "['d', 'e', 'f', 'g', 'r', 's', 't']"
      ]
     },
     "execution_count": 13,
     "metadata": {},
     "output_type": "execute_result"
    }
   ],
   "source": [
    "dupli_elimination(l)"
   ]
  },
  {
   "cell_type": "markdown",
   "metadata": {},
   "source": [
    "## (Sieve of Eratosthenes)"
   ]
  },
  {
   "cell_type": "code",
   "execution_count": 3,
   "metadata": {},
   "outputs": [
    {
     "name": "stdout",
     "output_type": "stream",
     "text": [
      "1001\n",
      "[2, 3, 5, 7, 11, 13, 17, 19, 23, 29, 31, 37, 41, 43, 47, 53, 59, 61, 67, 71, 73, 79, 83, 89, 97, 101, 103, 107, 109, 113, 127, 131, 137, 139, 149, 151, 157, 163, 167, 173, 179, 181, 191, 193, 197, 199, 211, 223, 227, 229, 233, 239, 241, 251, 257, 263, 269, 271, 277, 281, 283, 293, 307, 311, 313, 317, 331, 337, 347, 349, 353, 359, 367, 373, 379, 383, 389, 397, 401, 409, 419, 421, 431, 433, 439, 443, 449, 457, 461, 463, 467, 479, 487, 491, 499, 503, 509, 521, 523, 541, 547, 557, 563, 569, 571, 577, 587, 593, 599, 601, 607, 613, 617, 619, 631, 641, 643, 647, 653, 659, 661, 673, 677, 683, 691, 701, 709, 719, 727, 733, 739, 743, 751, 757, 761, 769, 773, 787, 797, 809, 811, 821, 823, 827, 829, 839, 853, 857, 859, 863, 877, 881, 883, 887, 907, 911, 919, 929, 937, 941, 947, 953, 967, 971, 977, 983, 991, 997]\n"
     ]
    }
   ],
   "source": [
    "\n",
    "\n",
    "\n",
    "\n",
    "primes = [True for i in range(1001)]\n",
    "\n",
    "print(len(primes))\n",
    "idx = 2\n",
    "\n",
    "while idx <= len(primes) - 1:\n",
    "    \n",
    "    primes[0] = False\n",
    "    primes[1] = False\n",
    "    \n",
    "    if primes[idx] == True:\n",
    "        \n",
    "        for idx_2 in range( idx * 2, len(primes), idx ):\n",
    "            primes[idx_2] = False\n",
    "                \n",
    "    \n",
    "    idx += 1\n",
    "    \n",
    "list_p = []\n",
    "\n",
    "for idx, i in enumerate(primes):\n",
    "    \n",
    "    if i == True:\n",
    "        list_p += [idx]\n",
    "        \n",
    "print(list_p)"
   ]
  },
  {
   "cell_type": "markdown",
   "metadata": {},
   "source": [
    "## Palindrome Tester"
   ]
  },
  {
   "cell_type": "code",
   "execution_count": 30,
   "metadata": {},
   "outputs": [],
   "source": [
    "\n",
    "\n",
    "def is_palindrome( string ):\n",
    "    \n",
    "    string = list(string)\n",
    "    \n",
    "    copystring = string.copy()\n",
    "    \n",
    "    \n",
    "    pali = []\n",
    "    \n",
    "    for i in range(len(string)):\n",
    "        \n",
    "        p = string.pop()\n",
    "        \n",
    "        pali.append(p)\n",
    " \n",
    "        \n",
    "    pali = [letter.upper() for letter in pali]\n",
    "    copystring = [letter.upper() for letter in copystring]\n",
    "    \n",
    "    if pali == copystring:\n",
    "        return True\n",
    "    \n",
    "    else:\n",
    "        return False\n",
    "    \n"
   ]
  },
  {
   "cell_type": "code",
   "execution_count": 31,
   "metadata": {},
   "outputs": [
    {
     "data": {
      "text/plain": [
       "True"
      ]
     },
     "execution_count": 31,
     "metadata": {},
     "output_type": "execute_result"
    }
   ],
   "source": [
    "is_palindrome('Radar')"
   ]
  },
  {
   "cell_type": "code",
   "execution_count": 32,
   "metadata": {},
   "outputs": [
    {
     "data": {
      "text/plain": [
       "False"
      ]
     },
     "execution_count": 32,
     "metadata": {},
     "output_type": "execute_result"
    }
   ],
   "source": [
    "is_palindrome('TalePjd')"
   ]
  },
  {
   "cell_type": "code",
   "execution_count": 33,
   "metadata": {},
   "outputs": [],
   "source": [
    "\n",
    "def is_palindrome_2( string ):\n",
    "    \n",
    "    string = [item.upper() for item in string]\n",
    "    \n",
    "    for i in range(len(string)//2):\n",
    "        \n",
    "        if string[i] != string[ -1- i]:\n",
    "            \n",
    "            return False\n",
    "            break\n",
    "        \n",
    "        else:\n",
    "            return True\n",
    "        \n",
    "\n",
    "        "
   ]
  },
  {
   "cell_type": "code",
   "execution_count": 36,
   "metadata": {},
   "outputs": [
    {
     "data": {
      "text/plain": [
       "True"
      ]
     },
     "execution_count": 36,
     "metadata": {},
     "output_type": "execute_result"
    }
   ],
   "source": [
    "is_palindrome_2('radaR')"
   ]
  },
  {
   "cell_type": "code",
   "execution_count": 37,
   "metadata": {},
   "outputs": [
    {
     "data": {
      "text/plain": [
       "False"
      ]
     },
     "execution_count": 37,
     "metadata": {},
     "output_type": "execute_result"
    }
   ],
   "source": [
    "is_palindrome_2('talepjd')"
   ]
  },
  {
   "cell_type": "markdown",
   "metadata": {},
   "source": [
    "## (Anagrams) "
   ]
  },
  {
   "cell_type": "code",
   "execution_count": null,
   "metadata": {},
   "outputs": [],
   "source": []
  },
  {
   "cell_type": "markdown",
   "metadata": {},
   "source": [
    "## (Summarizing Letters in a String)"
   ]
  },
  {
   "cell_type": "code",
   "execution_count": null,
   "metadata": {},
   "outputs": [],
   "source": []
  },
  {
   "cell_type": "code",
   "execution_count": 2,
   "metadata": {},
   "outputs": [],
   "source": [
    "\n",
    "def summarize_letters( string ):\n",
    "    \n",
    "    string = [item.upper() for item in string]\n",
    "    \n",
    "    lista = []\n",
    "    \n",
    "    for i in range(len(string)):\n",
    "        \n",
    "        fre = 1\n",
    "        \n",
    "        for j in range(len(string)):\n",
    "            \n",
    "            if ( i != j and string[i] == string[j] ):\n",
    "                \n",
    "                fre += 1\n",
    "            \n",
    "        if (string[i], fre) not in lista:\n",
    "            lista.append((string[i], fre))\n",
    "            \n",
    "    \n",
    "    if len(lista) == 27:\n",
    "        print('La palabra tiene todas las letras')\n",
    "        \n",
    "\n",
    "        \n",
    "    return lista\n",
    "    \n"
   ]
  },
  {
   "cell_type": "code",
   "execution_count": 3,
   "metadata": {},
   "outputs": [
    {
     "data": {
      "text/plain": [
       "[('E', 4),\n",
       " ('S', 2),\n",
       " ('T', 2),\n",
       " ('R', 1),\n",
       " ('N', 1),\n",
       " ('O', 3),\n",
       " ('C', 1),\n",
       " ('L', 1),\n",
       " ('I', 2),\n",
       " ('D', 2),\n",
       " ('M', 1),\n",
       " ('A', 1),\n",
       " ('U', 1)]"
      ]
     },
     "execution_count": 3,
     "metadata": {},
     "output_type": "execute_result"
    }
   ],
   "source": [
    "summarize_letters('esternocleidomastuideo')"
   ]
  },
  {
   "cell_type": "markdown",
   "metadata": {},
   "source": [
    "## (Telephone-Number Word Generator) "
   ]
  },
  {
   "cell_type": "code",
   "execution_count": null,
   "metadata": {},
   "outputs": [],
   "source": []
  },
  {
   "cell_type": "code",
   "execution_count": null,
   "metadata": {},
   "outputs": [],
   "source": []
  },
  {
   "cell_type": "markdown",
   "metadata": {},
   "source": [
    "## (Is a Sequence Sorted?)"
   ]
  },
  {
   "cell_type": "code",
   "execution_count": 104,
   "metadata": {},
   "outputs": [],
   "source": [
    "\n",
    "def is_ordered( lis_t ):\n",
    "    \n",
    "    ordr = sorted(lis_t)\n",
    "    \n",
    "    if lis_t == ordr:\n",
    "        return True\n",
    "    \n",
    "    else:\n",
    "        return False\n"
   ]
  },
  {
   "cell_type": "code",
   "execution_count": 105,
   "metadata": {},
   "outputs": [
    {
     "data": {
      "text/plain": [
       "False"
      ]
     },
     "execution_count": 105,
     "metadata": {},
     "output_type": "execute_result"
    }
   ],
   "source": [
    "is_ordered([1, 3, 4, 3, 5, 6, 2, 11, 1])"
   ]
  },
  {
   "cell_type": "code",
   "execution_count": 106,
   "metadata": {},
   "outputs": [
    {
     "data": {
      "text/plain": [
       "True"
      ]
     },
     "execution_count": 106,
     "metadata": {},
     "output_type": "execute_result"
    }
   ],
   "source": [
    "is_ordered([1, 2, 3, 3, 3, 4, 5, 6, 7, 8, 9, 10])"
   ]
  },
  {
   "cell_type": "code",
   "execution_count": 107,
   "metadata": {},
   "outputs": [
    {
     "data": {
      "text/plain": [
       "False"
      ]
     },
     "execution_count": 107,
     "metadata": {},
     "output_type": "execute_result"
    }
   ],
   "source": [
    "is_ordered((1, 3, 4, 2, 5, 7, 8, 11, 4, 2, 1))"
   ]
  },
  {
   "cell_type": "markdown",
   "metadata": {},
   "source": [
    "## (Tuples Representing Invoices)"
   ]
  },
  {
   "cell_type": "code",
   "execution_count": 9,
   "metadata": {},
   "outputs": [],
   "source": [
    "\n",
    "from decimal import Decimal\n",
    "from operator import itemgetter\n",
    "\n",
    "\n",
    "t1 = (83, 'Electric sander', 7, Decimal(57.98))\n",
    "t2 = (24, 'Power Saw', 18, Decimal(99.99))\n",
    "t3 = (7, 'Sledge Hammer', 11, Decimal(21.50))\n",
    "t4 = (77, 'Hammer', 76, Decimal(11.99))\n",
    "t5 = (39, 'Jig saw', 3, Decimal(79.50))"
   ]
  },
  {
   "cell_type": "code",
   "execution_count": 22,
   "metadata": {},
   "outputs": [],
   "source": [
    "\n",
    "\n",
    "lst_invoice = [t1, t2, t3, t4, t5]"
   ]
  },
  {
   "cell_type": "code",
   "execution_count": 7,
   "metadata": {},
   "outputs": [
    {
     "data": {
      "text/plain": [
       "[(83,\n",
       "  'Electric sander',\n",
       "  7,\n",
       "  Decimal('57.97999999999999687361196265555918216705322265625')),\n",
       " (77,\n",
       "  'Hammer',\n",
       "  76,\n",
       "  Decimal('11.9900000000000002131628207280300557613372802734375')),\n",
       " (39, 'Jig saw', 3, Decimal('79.5')),\n",
       " (24,\n",
       "  'Power Saw',\n",
       "  18,\n",
       "  Decimal('99.9899999999999948840923025272786617279052734375')),\n",
       " (7, 'Sledge Hammer', 11, Decimal('21.5'))]"
      ]
     },
     "execution_count": 7,
     "metadata": {},
     "output_type": "execute_result"
    }
   ],
   "source": [
    "#By name\n",
    "\n",
    "sorted_ist = sorted(lst_invoice, key=itemgetter(1))\n",
    "sorted_ist"
   ]
  },
  {
   "cell_type": "code",
   "execution_count": 26,
   "metadata": {},
   "outputs": [
    {
     "data": {
      "text/plain": [
       "[(77,\n",
       "  'Hammer',\n",
       "  76,\n",
       "  Decimal('11.9900000000000002131628207280300557613372802734375')),\n",
       " (7, 'Sledge Hammer', 11, Decimal('21.5')),\n",
       " (83,\n",
       "  'Electric sander',\n",
       "  7,\n",
       "  Decimal('57.97999999999999687361196265555918216705322265625')),\n",
       " (39, 'Jig saw', 3, Decimal('79.5')),\n",
       " (24,\n",
       "  'Power Saw',\n",
       "  18,\n",
       "  Decimal('99.9899999999999948840923025272786617279052734375'))]"
      ]
     },
     "execution_count": 26,
     "metadata": {},
     "output_type": "execute_result"
    }
   ],
   "source": [
    "#By price\n",
    "\n",
    "sorted_ist = sorted(lst_invoice, key=itemgetter(3))\n",
    "sorted_ist\n"
   ]
  },
  {
   "cell_type": "code",
   "execution_count": 30,
   "metadata": {},
   "outputs": [
    {
     "name": "stdout",
     "output_type": "stream",
     "text": [
      "[('Jig saw', 3), ('Electric sander', 7), ('Sledge Hammer', 11), ('Power Saw', 18), ('Hammer', 76)]\n"
     ]
    }
   ],
   "source": [
    "\n",
    "\n",
    "\n",
    "from decimal import Decimal\n",
    "from operator import itemgetter\n",
    "\n",
    "def partdes_cual(lis_t):\n",
    "    \n",
    "    return (lis_t[1], lis_t[2])\n",
    "\n",
    "def partdes_val(lis_t):\n",
    "    \n",
    "    return (lis_t[1], lis_t[2] * lis_t[3])\n",
    "\n",
    "\n",
    "t1 = (83, 'Electric sander', 7, Decimal(57.98))\n",
    "t2 = (24, 'Power Saw', 18, Decimal(99.99))\n",
    "t3 = (7, 'Sledge Hammer', 11, Decimal(21.50))\n",
    "t4 = (77, 'Hammer', 76, Decimal(11.99))\n",
    "t5 = (39, 'Jig saw', 3, Decimal(79.50))\n",
    "\n",
    "    \n",
    "lst_invoice = [t1, t2, t3, t4, t5]\n",
    "\n",
    "\n",
    "#c\n",
    "c = list(map(partdes_cual, lst_invoice))\n",
    "sorted_ist = sorted(c, key=itemgetter(1))\n",
    "print(sorted_ist)"
   ]
  },
  {
   "cell_type": "code",
   "execution_count": 31,
   "metadata": {},
   "outputs": [
    {
     "name": "stdout",
     "output_type": "stream",
     "text": [
      "[('Sledge Hammer', Decimal('236.5')), ('Jig saw', Decimal('238.5')), ('Electric sander', Decimal('405.8599999999999781152837386')), ('Hammer', Decimal('911.2400000000000162003743753')), ('Power Saw', Decimal('1799.819999999999907913661445'))]\n"
     ]
    }
   ],
   "source": [
    "\n",
    "#d\n",
    "d = list(map(partdes_val, lst_invoice))\n",
    "sorted_ist = sorted(d, key=itemgetter(1))\n",
    "print(sorted_ist)"
   ]
  },
  {
   "cell_type": "code",
   "execution_count": 34,
   "metadata": {},
   "outputs": [
    {
     "data": {
      "text/plain": [
       "[('Electric sander', Decimal('405.8599999999999781152837386')),\n",
       " ('Sledge Hammer', Decimal('236.5')),\n",
       " ('Jig saw', Decimal('238.5'))]"
      ]
     },
     "execution_count": 34,
     "metadata": {},
     "output_type": "execute_result"
    }
   ],
   "source": [
    "\n",
    "#e\n",
    "\n",
    "list(filter(lambda x: 200 <= x[1] <= 500, list(map(partdes_val, lst_invoice))))"
   ]
  },
  {
   "cell_type": "code",
   "execution_count": 36,
   "metadata": {},
   "outputs": [
    {
     "name": "stdout",
     "output_type": "stream",
     "text": [
      "3591.919999999999902229319559\n"
     ]
    }
   ],
   "source": [
    "#f\n",
    "\n",
    "total = 0\n",
    "\n",
    "for i in sorted_ist:\n",
    "    \n",
    "    total += i[1]\n",
    "\n",
    "print(total)"
   ]
  },
  {
   "cell_type": "markdown",
   "metadata": {},
   "source": [
    "## (Sorting Letters and Removing Duplicates) "
   ]
  },
  {
   "cell_type": "code",
   "execution_count": 2,
   "metadata": {},
   "outputs": [
    {
     "data": {
      "text/plain": [
       "['c',\n",
       " 'a',\n",
       " 'a',\n",
       " 'e',\n",
       " 'd',\n",
       " 'f',\n",
       " 'f',\n",
       " 'b',\n",
       " 'b',\n",
       " 'e',\n",
       " 'e',\n",
       " 'f',\n",
       " 'c',\n",
       " 'e',\n",
       " 'a',\n",
       " 'a',\n",
       " 'd',\n",
       " 'a',\n",
       " 'e',\n",
       " 'b']"
      ]
     },
     "execution_count": 2,
     "metadata": {},
     "output_type": "execute_result"
    }
   ],
   "source": [
    "\n",
    "import random\n",
    "\n",
    "l_letters = ['a', 'b', 'c', 'd', 'e', 'f']\n",
    "\n",
    "l_new = []\n",
    "\n",
    "for i in range(20):\n",
    "    \n",
    "    l_new.append(l_letters[random.randrange(0, len(l_letters))])\n",
    "    \n",
    "l_new"
   ]
  },
  {
   "cell_type": "code",
   "execution_count": 6,
   "metadata": {},
   "outputs": [
    {
     "name": "stdout",
     "output_type": "stream",
     "text": [
      "['a', 'a', 'a', 'a', 'a', 'b', 'b', 'b', 'c', 'c', 'd', 'd', 'e', 'e', 'e', 'e', 'e', 'f', 'f', 'f']\n"
     ]
    }
   ],
   "source": [
    "\n",
    "#a\n",
    "l_newa = sorted(l_new)\n",
    "print(l_newa)"
   ]
  },
  {
   "cell_type": "code",
   "execution_count": 10,
   "metadata": {},
   "outputs": [
    {
     "data": {
      "text/plain": [
       "['f',\n",
       " 'f',\n",
       " 'f',\n",
       " 'e',\n",
       " 'e',\n",
       " 'e',\n",
       " 'e',\n",
       " 'e',\n",
       " 'd',\n",
       " 'd',\n",
       " 'c',\n",
       " 'c',\n",
       " 'b',\n",
       " 'b',\n",
       " 'b',\n",
       " 'a',\n",
       " 'a',\n",
       " 'a',\n",
       " 'a',\n",
       " 'a']"
      ]
     },
     "execution_count": 10,
     "metadata": {},
     "output_type": "execute_result"
    }
   ],
   "source": [
    "\n",
    "#b\n",
    "l_new.sort(reverse=True)\n",
    "l_new"
   ]
  },
  {
   "cell_type": "code",
   "execution_count": 13,
   "metadata": {},
   "outputs": [
    {
     "data": {
      "text/plain": [
       "['a', 'b', 'c', 'd', 'e', 'f']"
      ]
     },
     "execution_count": 13,
     "metadata": {},
     "output_type": "execute_result"
    }
   ],
   "source": [
    "\n",
    "#c\n",
    "\n",
    "for i in l_newa:\n",
    "    \n",
    "    if l_newa.count(i) > 1:\n",
    "        \n",
    "        for j in range(1, l_newa.count(i)):\n",
    "            \n",
    "            l_newa.remove(i)\n",
    "      \n",
    "    else:\n",
    "        continue\n",
    "\n",
    "l_newa"
   ]
  },
  {
   "cell_type": "markdown",
   "metadata": {},
   "source": [
    "## (Filter/Map Performance)\n"
   ]
  },
  {
   "cell_type": "code",
   "execution_count": 22,
   "metadata": {},
   "outputs": [
    {
     "data": {
      "text/plain": [
       "[9, 49, 1, 81, 25]"
      ]
     },
     "execution_count": 22,
     "metadata": {},
     "output_type": "execute_result"
    }
   ],
   "source": [
    "\n",
    "def cuadrado(x):\n",
    "    print('*(map)')\n",
    "    return x**2\n",
    "\n",
    "def impar(x):\n",
    "    \n",
    "    print('*(fil)')\n",
    "    \n",
    "    if x%2 != 0:\n",
    "        return True\n",
    "    \n",
    "    else:\n",
    "        return False\n",
    "\n",
    "\n",
    "numbers = [10, 3, 7, 1, 9, 4, 2, 8, 5, 6]\n",
    "\n",
    "list(map(lambda x: x**2, \n",
    "         filter(lambda x: x%2 != 0, numbers)))\n"
   ]
  },
  {
   "cell_type": "code",
   "execution_count": 23,
   "metadata": {},
   "outputs": [
    {
     "name": "stdout",
     "output_type": "stream",
     "text": [
      "*(fil)\n",
      "*(fil)\n",
      "*(map)\n",
      "*(fil)\n",
      "*(map)\n",
      "*(fil)\n",
      "*(map)\n",
      "*(fil)\n",
      "*(map)\n",
      "*(fil)\n",
      "*(fil)\n",
      "*(fil)\n",
      "*(fil)\n",
      "*(map)\n",
      "*(fil)\n"
     ]
    },
    {
     "data": {
      "text/plain": [
       "[9, 49, 1, 81, 25]"
      ]
     },
     "execution_count": 23,
     "metadata": {},
     "output_type": "execute_result"
    }
   ],
   "source": [
    "list(map(cuadrado, \n",
    "         filter(impar, numbers)))"
   ]
  },
  {
   "cell_type": "markdown",
   "metadata": {},
   "source": [
    "## (Summing the Triples of the Even Integers from 2 through 10)"
   ]
  },
  {
   "cell_type": "code",
   "execution_count": 36,
   "metadata": {},
   "outputs": [
    {
     "data": {
      "text/plain": [
       "1800"
      ]
     },
     "execution_count": 36,
     "metadata": {},
     "output_type": "execute_result"
    }
   ],
   "source": [
    "\n",
    "\n",
    "lst = list(range(1,11))\n",
    "\n",
    "fil = list(map(lambda x: x**3 ,filter(lambda x: x%2 == 0, lst)))\n",
    "sum(fil)"
   ]
  },
  {
   "cell_type": "code",
   "execution_count": 37,
   "metadata": {},
   "outputs": [
    {
     "data": {
      "text/plain": [
       "1800"
      ]
     },
     "execution_count": 37,
     "metadata": {},
     "output_type": "execute_result"
    }
   ],
   "source": [
    "\n",
    "fil = [item**3 for item in range(1, 11) if item%2 == 0]\n",
    "sum(fil)"
   ]
  },
  {
   "cell_type": "markdown",
   "metadata": {},
   "source": [
    "## (Finding the People with a Specified Last Name)"
   ]
  },
  {
   "cell_type": "code",
   "execution_count": 40,
   "metadata": {},
   "outputs": [
    {
     "data": {
      "text/plain": [
       "[('Maria', 'Jones'), ('Frank', 'Jones'), ('Tina', 'Jones')]"
      ]
     },
     "execution_count": 40,
     "metadata": {},
     "output_type": "execute_result"
    }
   ],
   "source": [
    "\n",
    "\n",
    "def jones(x):\n",
    "    \n",
    "    if x[1] == 'Jones':\n",
    "        return True\n",
    "    else:\n",
    "        return False\n",
    "\n",
    "\n",
    "last_names = [('Jack', 'Dempsie'), ('Maria', 'Jones'), ('Sebastian', 'Quintero'), ('Frank', 'Jones'), ('Tina', 'Jones')]\n",
    "\n",
    "\n",
    "new_lnames = list(filter(jones, last_names))\n",
    "new_lnames"
   ]
  },
  {
   "cell_type": "markdown",
   "metadata": {},
   "source": [
    "## (Display a Two-Dimensional List in Tabular Format) "
   ]
  },
  {
   "cell_type": "code",
   "execution_count": 46,
   "metadata": {},
   "outputs": [
    {
     "name": "stdout",
     "output_type": "stream",
     "text": [
      "   0  1  2  3  \n",
      "\n",
      "0  2  4  5  6  \n",
      "\n",
      "1  3  0  -2  6  \n",
      "\n",
      "2  1  2  3  6  \n",
      "\n",
      "3  4  -3  5  6  \n",
      "\n"
     ]
    }
   ],
   "source": [
    "\n",
    "\n",
    "x = [[2, 4, 5, 6], \n",
    "     [3, 0, -2, 6], [1, 2, 3, 6], [4, -3, 5, 6]]\n",
    "\n",
    "def display_table(x):\n",
    "    \n",
    "\n",
    "    print(' ', end='  ')\n",
    "    \n",
    "    for ind in range(0, len(x[1])):\n",
    "        print(ind, sep='-', end='  ')\n",
    "    print('\\n')\n",
    "\n",
    "    for row in range(0,len(x)):\n",
    "    \n",
    "        print(row, end='  ')\n",
    "        \n",
    "        for column in range(0,len(x[row])):\n",
    "            print(x[row][column], end='  ')\n",
    "        print('\\n')\n",
    "    \n",
    "display_table(x)"
   ]
  },
  {
   "cell_type": "markdown",
   "metadata": {},
   "source": [
    "## (Computer-Assisted Instruction: Reducing Student Fatigue)"
   ]
  },
  {
   "cell_type": "code",
   "execution_count": 48,
   "metadata": {},
   "outputs": [
    {
     "name": "stdout",
     "output_type": "stream",
     "text": [
      "Welcome to Computer-Assited Instruction for Levels\n",
      "\n"
     ]
    },
    {
     "name": "stdin",
     "output_type": "stream",
     "text": [
      "Please enter the level of dificulty: 1 or 2\n",
      " 2\n",
      "How much is 14 times 14? 3\n"
     ]
    },
    {
     "name": "stdout",
     "output_type": "stream",
     "text": [
      "Wrong. Try once more.\n"
     ]
    },
    {
     "name": "stdin",
     "output_type": "stream",
     "text": [
      "  4\n"
     ]
    },
    {
     "name": "stdout",
     "output_type": "stream",
     "text": [
      "No. Please try again.\n"
     ]
    },
    {
     "name": "stdin",
     "output_type": "stream",
     "text": [
      "  5\n"
     ]
    },
    {
     "name": "stdout",
     "output_type": "stream",
     "text": [
      "Wrong. Try once more.\n"
     ]
    },
    {
     "name": "stdin",
     "output_type": "stream",
     "text": [
      "  4\n"
     ]
    },
    {
     "name": "stdout",
     "output_type": "stream",
     "text": [
      "No. Keep trying.\n"
     ]
    },
    {
     "name": "stdin",
     "output_type": "stream",
     "text": [
      "  2\n"
     ]
    },
    {
     "name": "stdout",
     "output_type": "stream",
     "text": [
      "No. Please try again.\n"
     ]
    },
    {
     "name": "stdin",
     "output_type": "stream",
     "text": [
      "  3\n"
     ]
    },
    {
     "name": "stdout",
     "output_type": "stream",
     "text": [
      "No. Keep trying.\n"
     ]
    },
    {
     "name": "stdin",
     "output_type": "stream",
     "text": [
      "  4\n"
     ]
    },
    {
     "name": "stdout",
     "output_type": "stream",
     "text": [
      "No. Keep trying.\n"
     ]
    },
    {
     "name": "stdin",
     "output_type": "stream",
     "text": [
      "  1\n"
     ]
    },
    {
     "name": "stdout",
     "output_type": "stream",
     "text": [
      "No. Keep trying.\n"
     ]
    },
    {
     "name": "stdin",
     "output_type": "stream",
     "text": [
      "  1\n"
     ]
    },
    {
     "name": "stdout",
     "output_type": "stream",
     "text": [
      "Wrong. Try once more.\n"
     ]
    },
    {
     "name": "stdin",
     "output_type": "stream",
     "text": [
      "  1\n"
     ]
    },
    {
     "name": "stdout",
     "output_type": "stream",
     "text": [
      "No. Please try again.\n"
     ]
    },
    {
     "name": "stdin",
     "output_type": "stream",
     "text": [
      "  5\n"
     ]
    },
    {
     "name": "stdout",
     "output_type": "stream",
     "text": [
      "No. Please try again.\n"
     ]
    },
    {
     "name": "stdin",
     "output_type": "stream",
     "text": [
      "  166\n"
     ]
    },
    {
     "name": "stdout",
     "output_type": "stream",
     "text": [
      "No. Keep trying.\n"
     ]
    },
    {
     "name": "stdin",
     "output_type": "stream",
     "text": [
      "  154\n"
     ]
    },
    {
     "name": "stdout",
     "output_type": "stream",
     "text": [
      "No. Please try again.\n"
     ]
    },
    {
     "name": "stdin",
     "output_type": "stream",
     "text": [
      "  176\n"
     ]
    },
    {
     "name": "stdout",
     "output_type": "stream",
     "text": [
      "No. Keep trying.\n"
     ]
    },
    {
     "name": "stdin",
     "output_type": "stream",
     "text": [
      "  196\n"
     ]
    },
    {
     "name": "stdout",
     "output_type": "stream",
     "text": [
      "Keep up the good work.\n",
      "\n",
      "\n"
     ]
    },
    {
     "name": "stdin",
     "output_type": "stream",
     "text": [
      "\n",
      "Would you like to play again(c) or n to quit n\n"
     ]
    },
    {
     "name": "stdout",
     "output_type": "stream",
     "text": [
      "Thanks for playing\n",
      "\n"
     ]
    }
   ],
   "source": [
    "\n",
    "import random\n",
    "\n",
    "def multipli(l):\n",
    "    '''We generate the numbers'''\n",
    "    num1 = random.randrange(10*(l-1), 10*l)\n",
    "    num2 = random.randrange(10*(l-1), 10*l)\n",
    "    \n",
    "    return (num1, num2)\n",
    "\n",
    "\n",
    "def correcto():\n",
    "    \n",
    "    num1 = random.randrange(3)\n",
    "    \n",
    "    lst_correcto = ['Very Good', 'Nice Work.', 'Keep up the good work.']\n",
    "    \n",
    "    print(lst_correcto[num1])\n",
    "    \n",
    "        \n",
    "\n",
    "def incorrecto():\n",
    "    \n",
    "    num1 = random.randrange(3)\n",
    "    \n",
    "    lst_incorrecto = ['No. Please try again.', 'Wrong. Try once more.', 'No. Keep trying.']\n",
    "    \n",
    "    print(lst_incorrecto[num1])\n",
    "\n",
    "\n",
    "print('Welcome to Computer-Assited Instruction for Levels\\n')\n",
    "\n",
    "l = int(input('Please enter the level of dificulty: 1 or 2\\n'))\n",
    "\n",
    "s = 'c'\n",
    "\n",
    "while s == 'c':\n",
    "    \n",
    "    while l != 1 and l != 2:\n",
    "        \n",
    "        l = int(input('Please enter the correct level of dificulty: 1 or 2\\n'))\n",
    "\n",
    "    \n",
    "    num1, num2 = multipli(l)\n",
    "\n",
    "    re = int(input(f'How much is {num1} times {num2}?'))\n",
    "\n",
    "    while re != (num1 * num2):\n",
    "        \n",
    "        incorrecto()\n",
    "        re = int(input(' '))\n",
    "        \n",
    "    \n",
    "    correcto()\n",
    "    print('\\n')\n",
    "    \n",
    "    s = input('\\nWould you like to play again(c) or n to quit')\n",
    "    \n",
    "    if s != 'c':\n",
    "        break\n",
    "    \n",
    "    l = int(input('Please enter level of dificulty: 1 or 2\\n'))\n",
    "\n",
    "print('Thanks for playing\\n')\n",
    "\n",
    "\n",
    "\n"
   ]
  },
  {
   "cell_type": "markdown",
   "metadata": {},
   "source": [
    "## (Simulating a Queue with a List) "
   ]
  },
  {
   "cell_type": "code",
   "execution_count": 17,
   "metadata": {},
   "outputs": [
    {
     "name": "stdout",
     "output_type": "stream",
     "text": [
      "[3]\n",
      "[3, 2]\n",
      "[3, 2, 1]\n",
      "[3, 2, 1]\n",
      "[2, 1]\n",
      "[2, 1]\n",
      "[1]\n",
      "[1]\n",
      "[]\n"
     ]
    }
   ],
   "source": [
    "\n",
    "\n",
    "lst = []\n",
    "\n",
    "for i in range(3, 0, -1):\n",
    "    lst.append(i)\n",
    "    print(lst)\n",
    "    \n",
    "for j in range(len(lst)):\n",
    "    \n",
    "    lst.pop(0)\n",
    "    print(lst)"
   ]
  },
  {
   "cell_type": "markdown",
   "metadata": {},
   "source": [
    "## (Functional-Style Programming: Order of filter and map Calls)"
   ]
  },
  {
   "cell_type": "code",
   "execution_count": 19,
   "metadata": {},
   "outputs": [
    {
     "data": {
      "text/plain": [
       "[20, 8, 4, 16, 12]"
      ]
     },
     "execution_count": 19,
     "metadata": {},
     "output_type": "execute_result"
    }
   ],
   "source": [
    "\n",
    "numbers = [10, 3, 7, 1, 9, 4, 2, 8, 5, 6]\n",
    "\n",
    "list(map(lambda x: x*2, filter(lambda x: x%2 == 0, numbers)))\n",
    "\n"
   ]
  },
  {
   "cell_type": "code",
   "execution_count": 20,
   "metadata": {},
   "outputs": [
    {
     "data": {
      "text/plain": [
       "[True, True, True, True, True]"
      ]
     },
     "execution_count": 20,
     "metadata": {},
     "output_type": "execute_result"
    }
   ],
   "source": [
    "\n",
    "numbers = [10, 3, 7, 1, 9, 4, 2, 8, 5, 6]\n",
    "\n",
    "list(filter(lambda x: x*2, map(lambda x: x%2 == 0, numbers)))"
   ]
  },
  {
   "cell_type": "code",
   "execution_count": 22,
   "metadata": {},
   "outputs": [
    {
     "data": {
      "text/plain": [
       "[True, False, False, False, False, True, True, True, False, True]"
      ]
     },
     "execution_count": 22,
     "metadata": {},
     "output_type": "execute_result"
    }
   ],
   "source": [
    "\n",
    "list(map(lambda x: x%2 == 0, numbers))"
   ]
  },
  {
   "cell_type": "markdown",
   "metadata": {},
   "source": [
    "## (Card Shuffling and Dealing) "
   ]
  },
  {
   "cell_type": "code",
   "execution_count": 6,
   "metadata": {},
   "outputs": [
    {
     "name": "stdout",
     "output_type": "stream",
     "text": [
      "Nine of Diamonds   Nine of Spades   Jack of Clubs   Seven of Clubs   \n",
      "\n",
      "Nine of Clubs   Three of Diamonds   Five of Clubs   Ten of Hearts   \n",
      "\n",
      "Seven of Spades   Four of Clubs   Nine of Hearts   Jack of Diamonds   \n",
      "\n",
      "Eight of Diamonds   King of Hearts   Ten of Clubs   Six of Hearts   \n",
      "\n",
      "Ace of Spades   Five of Diamonds   Five of Hearts   Six of Clubs   \n",
      "\n",
      "Seven of Diamonds   Six of Diamonds   Queen of Diamonds   King of Diamonds   \n",
      "\n",
      "Eight of Clubs   Deuce of Clubs   Three of Clubs   Queen of Spades   \n",
      "\n",
      "King of Spades   Jack of Spades   Jack of Hearts   Four of Spades   \n",
      "\n",
      "King of Clubs   Queen of Hearts   Deuce of Spades   Deuce of Hearts   \n",
      "\n",
      "Ace of Diamonds   Ten of Spades   Ace of Clubs   Eight of Hearts   \n",
      "\n",
      "Ten of Diamonds   Queen of Clubs   Four of Diamonds   Deuce of Diamonds   \n",
      "\n",
      "Eight of Spades   Seven of Hearts   Three of Hearts   Ace of Hearts   \n",
      "\n",
      "Four of Hearts   Three of Spades   Five of Spades   Six of Spades   \n",
      "\n"
     ]
    }
   ],
   "source": [
    "#Corregir\n",
    "\n",
    "import random\n",
    "\n",
    "'''Function that returns the initial decl'''\n",
    "\n",
    "def initialize_deck():\n",
    "    \n",
    "    face = ['Ace', 'Deuce', 'Three', 'Four', 'Five', 'Six', 'Seven', 'Eight', 'Nine', 'Ten', 'Jack', 'Queen', 'King']\n",
    "    \n",
    "    suit = ['Hearts', 'Diamonds', 'Clubs', 'Spades']\n",
    "    \n",
    "    deck = []\n",
    "    \n",
    "    for i in suit:\n",
    "        \n",
    "        for j in face:\n",
    "            \n",
    "            deck.append((j, i))\n",
    "            \n",
    "    return deck\n",
    "\n",
    "a = initialize_deck()\n",
    "\n",
    "\n",
    "#Organizar los espacios\n",
    "\n",
    "def reshuffle( lst ):\n",
    "    \n",
    "    '''Receives a list of two elements'''\n",
    "    \n",
    "    random.shuffle(lst)\n",
    "    \n",
    "    for i, l in enumerate(lst) :\n",
    "        #print(l)\n",
    "        print(f'{l[0]:>2} of {l[1]:>3}', end='   ')\n",
    "        \n",
    "        if (i+1)%4 == 0:\n",
    "            print('\\n')\n",
    "            \n",
    "            \n",
    "reshuffle(a)"
   ]
  },
  {
   "cell_type": "markdown",
   "metadata": {},
   "source": [
    "## (Card Playing: Evaluating Poker Hands)"
   ]
  },
  {
   "cell_type": "code",
   "execution_count": null,
   "metadata": {},
   "outputs": [],
   "source": [
    "\n",
    "\n",
    "def deal_cards():\n",
    "    "
   ]
  },
  {
   "cell_type": "markdown",
   "metadata": {},
   "source": [
    "## (Intro to Data Science: Duplicate Elimination and Counting Frequencies)"
   ]
  },
  {
   "cell_type": "code",
   "execution_count": 1,
   "metadata": {},
   "outputs": [
    {
     "data": {
      "text/plain": [
       "[(1, 8),\n",
       " (2, 2),\n",
       " (3, 6),\n",
       " (4, 5),\n",
       " (5, 4),\n",
       " (6, 4),\n",
       " (7, 7),\n",
       " (8, 3),\n",
       " (9, 8),\n",
       " (10, 3)]"
      ]
     },
     "execution_count": 1,
     "metadata": {},
     "output_type": "execute_result"
    }
   ],
   "source": [
    "\n",
    "import random\n",
    "import numpy as np\n",
    "\n",
    "l = [random.randrange(1,11) for i in range(50)]\n",
    "values, frequencies = np.unique(l, return_counts = True)\n",
    "\n",
    "fre = []\n",
    "\n",
    "for i in range(len(values)):\n",
    "    fre.append((values[i], frequencies[i]))\n",
    "fre"
   ]
  },
  {
   "cell_type": "markdown",
   "metadata": {},
   "source": [
    "## (Intro to Data Science: Survey Response Statistics)\n"
   ]
  },
  {
   "cell_type": "code",
   "execution_count": 19,
   "metadata": {},
   "outputs": [
    {
     "data": {
      "text/plain": [
       "[('Minimum', 1),\n",
       " ('Maximum', 5),\n",
       " ('Range', '1-5'),\n",
       " ('Mean', 2.9),\n",
       " ('Median', 3.0),\n",
       " ('Mode', 3),\n",
       " ('Variance', 1.49),\n",
       " ('Standard Deviation', 1.49)]"
      ]
     },
     "execution_count": 19,
     "metadata": {},
     "output_type": "execute_result"
    }
   ],
   "source": [
    "\n",
    "import statistics\n",
    "import numpy as np\n",
    "\n",
    "quality_food = [1, 2, 5, 4, 3, 5, 2, 1, 3, 3, 1, 4, 3, 3, 3, 2, 3, 3, 2, 5]\n",
    "\n",
    "l = [('Minimum', min(quality_food)), ('Maximum', max(quality_food)), ('Range', f'{min(quality_food)}-{max(quality_food)}'),\n",
    "     ('Mean', statistics.mean(quality_food)), ('Median', statistics.median(quality_food)), ('Mode', statistics.mode(quality_food)),\n",
    "     ('Variance', statistics.pvariance(quality_food)), ('Standard Deviation', statistics.pvariance(quality_food))]\n",
    "\n",
    "l"
   ]
  },
  {
   "cell_type": "markdown",
   "metadata": {},
   "source": [
    "## (Intro to Data Science: Visualizing Survey Response Statistics) "
   ]
  },
  {
   "cell_type": "code",
   "execution_count": 32,
   "metadata": {},
   "outputs": [
    {
     "data": {
      "image/png": "[encoded data removed]",
      "text/plain": [
       "<Figure size 432x288 with 1 Axes>"
      ]
     },
     "metadata": {},
     "output_type": "display_data"
    }
   ],
   "source": [
    "\n",
    "\n",
    "import matplotlib.pyplot as plt\n",
    "\n",
    "import numpy as np\n",
    "\n",
    "import random\n",
    "\n",
    "import seaborn as sns\n",
    "\n",
    "\n",
    "#We include the list to be studied\n",
    "\n",
    "\n",
    "quality_food = [1, 2, 5, 4, 3, 5, 2, 1, 3, 3, 1, 4, 3, 3, 3, 2, 3, 3, 2, 5]\n",
    "\n",
    "values, frequencies = np.unique(quality_food, return_counts = True)\n",
    "\n",
    "#Creating the Initial Bar Plot\n",
    "\n",
    "title = f'Survey response statistics on the quality of food'\n",
    "\n",
    "sns.set_style('whitegrid')\n",
    "\n",
    "axes = sns.barplot(x = values, y = frequencies, palette = 'bright')\n",
    "\n",
    "#Setting the Window Title and Labeling the x- and y-Axes\n",
    "\n",
    "axes.set_title(title)\n",
    "axes.set(xlabel='Quality of food(1: Awful, 5: Excellent)', ylabel='Frequency')\n",
    "\n",
    "\n",
    "#Finalizing the Bar Plot\n",
    "\n",
    "axes.set_ylim(top=max(frequencies)*1.10)\n",
    "\n",
    "for bar, frequencies in zip(axes.patches, frequencies):\n",
    "    text_x = bar.get_x() + bar.get_width() / 2.0\n",
    "    text_y = bar.get_height()\n",
    "    text = f'{frequencies:,}\\n{frequencies / len(quality_food):.2%}'\n",
    "    axes.text(text_x, text_y, text, \n",
    "              fontsize=11, ha='center', va='bottom')"
   ]
  },
  {
   "cell_type": "markdown",
   "metadata": {},
   "source": [
    "## (Intro to Data Science: Removing the Text Above the Bars)"
   ]
  },
  {
   "cell_type": "code",
   "execution_count": 37,
   "metadata": {},
   "outputs": [
    {
     "data": {
      "text/plain": [
       "(0.0, 1102576.2000000002)"
      ]
     },
     "execution_count": 37,
     "metadata": {},
     "output_type": "execute_result"
    },
    {
     "data": {
      "image/png": "[encoded data removed]",
      "text/plain": [
       "<Figure size 432x288 with 1 Axes>"
      ]
     },
     "metadata": {},
     "output_type": "display_data"
    }
   ],
   "source": [
    "\n",
    "\n",
    "import matplotlib.pyplot as plt\n",
    "\n",
    "import numpy as np\n",
    "\n",
    "import random\n",
    "\n",
    "import seaborn as sns\n",
    "\n",
    "\n",
    "#Rolling the Die and Calculating Die Frequencies\n",
    "\n",
    "\n",
    "rolls = [ random.randrange(1, 7) for i in range(6000000) ]\n",
    "\n",
    "values, frequencies = np.unique(rolls, return_counts = True)\n",
    "\n",
    "#Creating the Initial Bar Plot\n",
    "\n",
    "title = f'Rolling a Six-Sided Die {len(rolls):,} Times'\n",
    "\n",
    "sns.set_style('whitegrid')\n",
    "\n",
    "axes = sns.barplot(x = values, y = frequencies, palette = 'bright')\n",
    "\n",
    "\n",
    "#Setting the Window Title and Labeling the x- and y-Axes\n",
    "\n",
    "axes.set_title(title)\n",
    "axes.set(xlabel='Die Value', ylabel='Frequency')\n",
    "\n",
    "\n",
    "#Finalizing the Bar Plot\n",
    "\n",
    "axes.set_ylim(top=max(frequencies)*1.10)\n",
    "\n",
    "\n",
    "\n"
   ]
  },
  {
   "cell_type": "markdown",
   "metadata": {},
   "source": [
    "## (Intro to Data Science: Coin Tossing)"
   ]
  },
  {
   "cell_type": "code",
   "execution_count": 17,
   "metadata": {},
   "outputs": [
    {
     "data": {
      "image/png": "[encoded data removed]",
      "text/plain": [
       "<Figure size 432x288 with 1 Axes>"
      ]
     },
     "metadata": {},
     "output_type": "display_data"
    }
   ],
   "source": [
    "\n",
    "import matplotlib.pyplot as plt\n",
    "import numpy as np\n",
    "import seaborn as sns\n",
    "import random\n",
    "\n",
    "toss_coin = [random.randrange(1, 3) for i in range(200000)]\n",
    "\n",
    "value, frequency = np.unique(toss_coin, return_counts = True)\n",
    "\n",
    "title = 'Die-rolling Simulation'\n",
    "\n",
    "sns.set_style('whitegrid')\n",
    "\n",
    "axes = sns.barplot(x = value, y = frequency, palette='bright')\n",
    "\n",
    "axes.set_title(title)\n",
    "axes.set(xlabel='Toss-Coin: Heads-1, Tail-2', ylabel='Frequency')\n",
    "\n",
    "axes.set_ylim(top=max(frequency)*1.10)\n",
    "\n",
    "for bar, frequencies in zip(axes.patches, frequency):\n",
    "    text_x = bar.get_x() + bar.get_width() / 2.0\n",
    "    text_y = bar.get_height()\n",
    "    text = f'{frequencies:,}\\n{frequencies / len(toss_coin):.2%}'\n",
    "    axes.text(text_x, text_y, text, \n",
    "              fontsize=11, ha='center', va='bottom')"
   ]
  },
  {
   "cell_type": "markdown",
   "metadata": {},
   "source": [
    "## (Intro to Data Science: Rolling Two Dice) "
   ]
  },
  {
   "cell_type": "code",
   "execution_count": 63,
   "metadata": {},
   "outputs": [
    {
     "data": {
      "image/png": "[encoded data removed]",
      "text/plain": [
       "<Figure size 432x288 with 1 Axes>"
      ]
     },
     "metadata": {},
     "output_type": "display_data"
    }
   ],
   "source": [
    "\n",
    "import numpy as np\n",
    "import pandas as pd\n",
    "import matplotlib.pyplot as plt\n",
    "import random\n",
    "import seaborn as sns\n",
    "\n",
    "\n",
    "toss_coin1 = [random.randrange(1, 7) for i in range(36000)]\n",
    "toss_coin2 = [random.randrange(1, 7) for i in range(36000)]\n",
    "\n",
    "sum_dice = []\n",
    "\n",
    "for i in range(len(toss_coin1)):\n",
    "    sum_dice.append(toss_coin1[i] + toss_coin2[i])\n",
    "    \n",
    "value, frequency = np.unique(sum_dice, return_counts=True)    \n",
    "\n",
    "title = 'Rolling Two Dice'\n",
    "\n",
    "sns.set_style('whitegrid')\n",
    "\n",
    "axes = sns.barplot(x=frequency, y=value, palette='bright', orient='h')\n",
    "axes.set_title(title)\n",
    "axes.set(ylabel='Die Value', xlabel='Frequency')\n",
    "#axes.set_xlim(max(frequency)*1.1)\n",
    "\n",
    "\n",
    "for bar, frequencies in zip(axes.patches, frequency):\n",
    "    text_y = bar.get_y() + bar.get_width() / 2.0\n",
    "    text_x = bar.get_height()\n",
    "    text = f'{frequencies:,}\\n{frequencies / len(toss_coin1):.2%}'\n",
    "    axes.text(text_x, text_y, text, \n",
    "              fontsize=11, ha='right', va='center')\n",
    "\n",
    "    \n",
    "#The text is missing"
   ]
  },
  {
   "cell_type": "code",
   "execution_count": 29,
   "metadata": {},
   "outputs": [
    {
     "data": {
      "text/plain": [
       "[2, 2, 6, 5]"
      ]
     },
     "execution_count": 29,
     "metadata": {},
     "output_type": "execute_result"
    }
   ],
   "source": [
    "toss_coin1"
   ]
  },
  {
   "cell_type": "code",
   "execution_count": 30,
   "metadata": {},
   "outputs": [
    {
     "data": {
      "text/plain": [
       "[5, 1, 4, 3]"
      ]
     },
     "execution_count": 30,
     "metadata": {},
     "output_type": "execute_result"
    }
   ],
   "source": [
    "toss_coin2"
   ]
  },
  {
   "cell_type": "code",
   "execution_count": null,
   "metadata": {},
   "outputs": [],
   "source": []
  }
 ],
 "metadata": {
  "kernelspec": {
   "display_name": "Python 3",
   "language": "python",
   "name": "python3"
  },
  "language_info": {
   "codemirror_mode": {
    "name": "ipython",
    "version": 3
   },
   "file_extension": ".py",
   "mimetype": "text/x-python",
   "name": "python",
   "nbconvert_exporter": "python",
   "pygments_lexer": "ipython3",
   "version": "3.8.5"
  }
 },
 "nbformat": 4,
 "nbformat_minor": 4
}
