{
 "cells": [
  {
   "cell_type": "markdown",
   "metadata": {},
   "source": [
    "# Exercises"
   ]
  },
  {
   "cell_type": "markdown",
   "metadata": {},
   "source": [
    "## (Discussion: else Clause) "
   ]
  },
  {
   "cell_type": "code",
   "execution_count": null,
   "metadata": {},
   "outputs": [],
   "source": [
    "## We can choose a condition on the elif clause in order to include another condition"
   ]
  },
  {
   "cell_type": "markdown",
   "metadata": {},
   "source": [
    "## (Discussion: Function-Call Stack)"
   ]
  },
  {
   "cell_type": "code",
   "execution_count": null,
   "metadata": {},
   "outputs": [],
   "source": [
    "## There is a fatal error"
   ]
  },
  {
   "cell_type": "markdown",
   "metadata": {},
   "source": [
    "## (What’s Wrong with This Code?) "
   ]
  },
  {
   "cell_type": "code",
   "execution_count": null,
   "metadata": {},
   "outputs": [],
   "source": [
    "\n",
    "def cube(x):\n",
    "    '''Calculate the cube of x'''\n",
    "    \n",
    "    x ** 3\n",
    "    \n",
    "#There is no return in the cube function\n",
    "print('The cube of 2 is', cube(2))"
   ]
  },
  {
   "cell_type": "code",
   "execution_count": null,
   "metadata": {},
   "outputs": [],
   "source": [
    "\n",
    "def cube(x):\n",
    "    '''Calculate the cube of x'''\n",
    "    return x**3\n",
    "\n",
    "print('The cube of 2 is', cube(2))\n"
   ]
  },
  {
   "cell_type": "markdown",
   "metadata": {},
   "source": [
    "## (What’s Does This Code Do?)"
   ]
  },
  {
   "cell_type": "code",
   "execution_count": null,
   "metadata": {},
   "outputs": [],
   "source": [
    "\n",
    "def mystery(x):\n",
    "    y = 0\n",
    "    \n",
    "    for value in x:\n",
    "        y += value ** 2\n",
    "    \n",
    "    return y\n",
    "\n",
    "k = [1, 2, 3, 4]\n",
    "mystery([1, 2, 3, 4])\n"
   ]
  },
  {
   "cell_type": "code",
   "execution_count": null,
   "metadata": {},
   "outputs": [],
   "source": [
    "mystery(k)"
   ]
  },
  {
   "cell_type": "markdown",
   "metadata": {},
   "source": [
    "## (Fill in the Missing Code?) "
   ]
  },
  {
   "cell_type": "code",
   "execution_count": null,
   "metadata": {},
   "outputs": [],
   "source": [
    "\n",
    "def seconds_since_midnight(hour, minute, second):\n",
    "    '''Calculate the number of seconds from midnight'''\n",
    "    \n",
    "    hour_in_seconds = hour*60*60\n",
    "    minute_in_seconds = minute * 60\n",
    "    return (second + minute_in_seconds + hour_in_seconds)\n"
   ]
  },
  {
   "cell_type": "code",
   "execution_count": null,
   "metadata": {},
   "outputs": [],
   "source": [
    "seconds_since_midnight(13, 30, 45)"
   ]
  },
  {
   "cell_type": "markdown",
   "metadata": {},
   "source": [
    "## (Modified average Function)"
   ]
  },
  {
   "cell_type": "code",
   "execution_count": null,
   "metadata": {},
   "outputs": [],
   "source": [
    "\n",
    "'''Definition of average'''\n",
    "\n",
    "def average(n, *args):\n",
    "    '''n is the total number'''\n",
    "    return sum(args)/n\n",
    "    \n",
    "grades = [88, 75, 96, 55, 83]\n"
   ]
  },
  {
   "cell_type": "code",
   "execution_count": null,
   "metadata": {},
   "outputs": [],
   "source": [
    "average(5, *grades)"
   ]
  },
  {
   "cell_type": "markdown",
   "metadata": {},
   "source": [
    "## (Date and Time) "
   ]
  },
  {
   "cell_type": "code",
   "execution_count": null,
   "metadata": {},
   "outputs": [],
   "source": [
    "\n",
    "import datetime\n",
    "\n",
    "print(datetime.datetime.today())\n"
   ]
  },
  {
   "cell_type": "markdown",
   "metadata": {},
   "source": [
    "## (Rounding Numbers)"
   ]
  },
  {
   "cell_type": "code",
   "execution_count": null,
   "metadata": {},
   "outputs": [],
   "source": [
    "\n",
    "print(round(13.56449))\n",
    "print(round(13.56449, 1))\n",
    "print(round(13.56449, 2))\n",
    "print(round(13.56449, 3))"
   ]
  },
  {
   "cell_type": "markdown",
   "metadata": {},
   "source": [
    "## (Temperature Conversion)"
   ]
  },
  {
   "cell_type": "code",
   "execution_count": null,
   "metadata": {},
   "outputs": [],
   "source": [
    "\n",
    "def fahrenheit(c):\n",
    "    '''Calculate the temperature in Fahrenheit'''\n",
    "    return (9 / 5) * c + 32\n",
    "\n",
    "print('Temperature in ºC      Temperature in ºF')\n",
    "\n",
    "for i in range(101):\n",
    "    print(f'{i:>10}{fahrenheit(i):>23.2f}')\n",
    "\n"
   ]
  },
  {
   "cell_type": "markdown",
   "metadata": {},
   "source": [
    "## (Guess the Number)"
   ]
  },
  {
   "cell_type": "code",
   "execution_count": null,
   "metadata": {},
   "outputs": [],
   "source": [
    "\n",
    "'''Let's play guess the number'''\n",
    "\n",
    "import random\n",
    "\n",
    "\n",
    "print('\"Guess my number between 1 and 1000 with the fewest guesses:\"\\n')\n",
    "s = input('Please enter c to continue')\n",
    "\n",
    "\n",
    "while s == 'c':\n",
    "    \n",
    "    x = random.randrange(0, 1001)\n",
    "    print(x)\n",
    "    n = int(input('Please enter the number'))\n",
    "\n",
    "    while n != x:\n",
    "        \n",
    "        if n > x:\n",
    "            print('The number is too high')\n",
    "            n = int(input('Please enter the number again\\n'))\n",
    "        \n",
    "        elif n < x:\n",
    "            print('The number is too low')\n",
    "            n = int(input('Please enter the number again'))\n",
    "    \n",
    "\n",
    "    print('Congratulations!. You guessed the number.')\n",
    "    print('\\n')\n",
    "    \n",
    "    s = input('Please enter c to continue')\n",
    "    \n",
    "    \n",
    "print('Thanks for playing. Have a good day.')\n",
    "\n",
    "\n",
    "\n",
    "\n"
   ]
  },
  {
   "cell_type": "markdown",
   "metadata": {},
   "source": [
    "## (Guess-the-Number Modification) "
   ]
  },
  {
   "cell_type": "code",
   "execution_count": null,
   "metadata": {},
   "outputs": [],
   "source": [
    "\n",
    "'''Let's play guess the number with modification'''\n",
    "\n",
    "import random\n",
    "\n",
    "\n",
    "print('\"Guess my number between 1 and 1000 with the fewest guesses:\"\\n')\n",
    "s = input('Please enter c to continue')\n",
    "\n",
    "\n",
    "while s == 'c':\n",
    "    \n",
    "    x = random.randrange(0, 1001)\n",
    "    print(x)\n",
    "    n = int(input('Please enter the number'))\n",
    "\n",
    "    contador = 0;\n",
    "    \n",
    "    while n != x:\n",
    "        \n",
    "        if n > x:\n",
    "            print('The number is too high')\n",
    "            n = int(input('Please enter the number again\\n'))\n",
    "            \n",
    "        \n",
    "        elif n < x:\n",
    "            print('The number is too low')\n",
    "            n = int(input('Please enter the number again'))\n",
    "            \n",
    "    \n",
    "        contador += 1\n",
    "\n",
    "    if contador > 10:\n",
    "        print('\\nYou should be able to do better.')\n",
    "        \n",
    "    else:\n",
    "        print('\\nCongratulations. Either you know the secret or got lucky.')\n",
    "    \n",
    "\n",
    "    s = input('Please enter c to continue')\n",
    "    \n",
    "    \n",
    "print('Thanks for playing. Have a good day.')"
   ]
  },
  {
   "cell_type": "markdown",
   "metadata": {},
   "source": [
    "## (Simulation: The Tortoise and the Hare) "
   ]
  },
  {
   "cell_type": "code",
   "execution_count": null,
   "metadata": {},
   "outputs": [],
   "source": []
  },
  {
   "cell_type": "markdown",
   "metadata": {},
   "source": [
    "## (Arbitrary Argument List)"
   ]
  },
  {
   "cell_type": "code",
   "execution_count": null,
   "metadata": {},
   "outputs": [],
   "source": [
    "\n",
    "def arbitrarypro(*args):\n",
    "    '''Calculates the product of the elements'''\n",
    "    product = 1\n",
    "    \n",
    "    for i in args:\n",
    "        product *= i\n",
    "        \n",
    "    return product\n",
    "\n",
    "n = [2, 4, 5, 6, 7]\n",
    "\n",
    "arbitrarypro(*n)\n"
   ]
  },
  {
   "cell_type": "markdown",
   "metadata": {},
   "source": [
    "## (Computer-Assisted Instruction)"
   ]
  },
  {
   "cell_type": "code",
   "execution_count": null,
   "metadata": {},
   "outputs": [],
   "source": [
    "\n",
    "import random\n",
    "\n",
    "def multiplication():\n",
    "    '''It generates two random numbers'''\n",
    "    num1 = random.randrange(1, 10)\n",
    "    num2 = random.randrange(1, 10)\n",
    "    \n",
    "    return (num1, num2)\n",
    "\n",
    "\n",
    "def correcto():\n",
    "    \n",
    "    num1 = random.randrange(1, 4)\n",
    "    \n",
    "    if num1 == 1:\n",
    "        print('Very Good.\\n')\n",
    "        \n",
    "    if num1 == 2:\n",
    "        print('Nice Work.\\n')\n",
    "        \n",
    "    if num1 == 3:\n",
    "        print('Keep up the good work.\\n')\n",
    "        \n",
    "\n",
    "def incorrecto():\n",
    "    \n",
    "    num1 = random.randrange(1, 4)\n",
    "    \n",
    "    if num1 == 1:\n",
    "        print('No. Please try again.\\n')\n",
    "        \n",
    "    if num1 == 2:\n",
    "        print('Wrong. Try once more.\\n')\n",
    "        \n",
    "    if num1 == 3:\n",
    "        print('No. Keep trying.\\n')\n",
    "    \n",
    "    \n",
    "        \n",
    "    \n",
    "\n",
    "\n",
    "print('Welcome to the Multiplication Game\\n')\n",
    "o = input('Please enter c to continue or n to exit\\n')\n",
    "\n",
    "while o == 'c':\n",
    "    \n",
    "    num1, num2 = multiplication()\n",
    "    \n",
    "    re = int(input(f'How much is {num1} times {num2}?'))\n",
    "    \n",
    "    while re != (num1 * num2):\n",
    "        \n",
    "        incorrecto()\n",
    "        re = int(input(' '))\n",
    "        \n",
    "    \n",
    "    correcto()\n",
    "    print('\\n')\n",
    "    \n",
    "    o = input('\\nWould you like to play again (n to quit)')\n",
    "    \n",
    "print('\\n\\nThanks for playing')\n",
    "\n",
    "\n",
    "\n",
    "\n"
   ]
  },
  {
   "cell_type": "markdown",
   "metadata": {},
   "source": [
    "## (Computer-Assisted Instruction: Difficulty Levels) "
   ]
  },
  {
   "cell_type": "code",
   "execution_count": null,
   "metadata": {},
   "outputs": [],
   "source": [
    "\n",
    "'''Difficulty levels'''\n",
    "\n",
    "import random\n",
    "\n",
    "def multipli(l):\n",
    "    '''We generate the numbers'''\n",
    "    num1 = random.randrange(10*(l-1), 10*l)\n",
    "    num2 = random.randrange(10*(l-1), 10*l)\n",
    "    \n",
    "    return (num1, num2)\n",
    "\n",
    "\n",
    "def correcto():\n",
    "    \n",
    "    num1 = random.randrange(1, 4)\n",
    "    \n",
    "    if num1 == 1:\n",
    "        print('Very Good.\\n')\n",
    "        \n",
    "    if num1 == 2:\n",
    "        print('Nice Work.\\n')\n",
    "        \n",
    "    if num1 == 3:\n",
    "        print('Keep up the good work.\\n')\n",
    "        \n",
    "\n",
    "def incorrecto():\n",
    "    \n",
    "    num1 = random.randrange(1, 4)\n",
    "    \n",
    "    if num1 == 1:\n",
    "        print('No. Please try again.\\n')\n",
    "        \n",
    "    if num1 == 2:\n",
    "        print('Wrong. Try once more.\\n')\n",
    "        \n",
    "    if num1 == 3:\n",
    "        print('No. Keep trying.\\n')\n",
    "\n",
    "\n",
    "print('Welcome to Computer-Assited Instruction for Levels\\n')\n",
    "\n",
    "l = int(input('Please enter the level of dificulty: 1 or 2\\n'))\n",
    "\n",
    "s = 'c'\n",
    "\n",
    "while s == 'c':\n",
    "    \n",
    "    while l != 1 and l != 2:\n",
    "        \n",
    "        l = int(input('Please enter the correct level of dificulty: 1 or 2\\n'))\n",
    "\n",
    "    \n",
    "    num1, num2 = multipli(l)\n",
    "\n",
    "    re = int(input(f'How much is {num1} times {num2}?'))\n",
    "\n",
    "    while re != (num1 * num2):\n",
    "        \n",
    "        incorrecto()\n",
    "        re = int(input(' '))\n",
    "        \n",
    "    \n",
    "    correcto()\n",
    "    print('\\n')\n",
    "    \n",
    "    s = input('\\nWould you like to play again(c) or n to quit')\n",
    "    \n",
    "    if s != 'c':\n",
    "        break\n",
    "    \n",
    "    l = int(input('Please enter level of dificulty: 1 or 2\\n'))\n",
    "\n",
    "print('Thanks for playing\\n')\n"
   ]
  },
  {
   "cell_type": "markdown",
   "metadata": {},
   "source": [
    "## (Computer-Assisted Instruction: Varying the Types of Problems)"
   ]
  },
  {
   "cell_type": "code",
   "execution_count": null,
   "metadata": {},
   "outputs": [
    {
     "name": "stdout",
     "output_type": "stream",
     "text": [
      "Welcome to the Computer-Assited Problems\n",
      "\n",
      "\n",
      "Please select: 1 for addition\n",
      "               2 for substraction\n",
      "               3 for multiplication\n",
      "               4 for division\n",
      "               5 for mixed operations\n"
     ]
    },
    {
     "name": "stdin",
     "output_type": "stream",
     "text": [
      "\n",
      "Enter the level of dificulty:  5\n"
     ]
    },
    {
     "name": "stdout",
     "output_type": "stream",
     "text": [
      "You have chosen division. How much is 3/1\n",
      "\n"
     ]
    },
    {
     "name": "stdin",
     "output_type": "stream",
     "text": [
      "\n",
      "Please enter the answer:  3\n"
     ]
    },
    {
     "name": "stdout",
     "output_type": "stream",
     "text": [
      "Keep up the good work.\n",
      "\n"
     ]
    }
   ],
   "source": [
    "\n",
    "'''Different arithmetic problems'''\n",
    "\n",
    "import random\n",
    "\n",
    "def dificultad(l):\n",
    "    '''Seleccionamos el problema'''\n",
    "    num1 = random.randrange(1, 10)\n",
    "    num2 = random.randrange(1, 10)\n",
    "    \n",
    "    if l == 1:\n",
    "        print(f'You have chosen addition. How much is {num1} + {num2}\\n')\n",
    "        re = num1 + num2\n",
    "\n",
    "        \n",
    "    if l == 2:\n",
    "        print(f'You have chosen substraction. How much is {num1} - {num2}\\n')\n",
    "        re = num1 - num2\n",
    "   \n",
    "        \n",
    "    if l == 3:\n",
    "        print(f'Yu have chosen multiplication. How much is {num1} * {num2}\\n')\n",
    "        re = num1*num2\n",
    "    \n",
    "        \n",
    "    if l == 4:\n",
    "        print(f'You have chosen division. How much is {num1}/{num2}\\n')\n",
    "        re = num1/num2\n",
    "   \n",
    "        \n",
    "    if l == 5:\n",
    "        num = random.randrange(1, 5)\n",
    "        return dificultad(num)\n",
    "        \n",
    "    return re\n",
    "\n",
    "\n",
    "def correcto():\n",
    "    \n",
    "    num1 = random.randrange(1, 4)\n",
    "    \n",
    "    if num1 == 1:\n",
    "        print('Very Good.\\n')\n",
    "        \n",
    "    if num1 == 2:\n",
    "        print('Nice Work.\\n')\n",
    "        \n",
    "    if num1 == 3:\n",
    "        print('Keep up the good work.\\n')\n",
    "\n",
    "        \n",
    "\n",
    "def incorrecto():\n",
    "    \n",
    "    num1 = random.randrange(1, 4)\n",
    "    \n",
    "    if num1 == 1:\n",
    "        print('No. Please try again.\\n')\n",
    "        \n",
    "    if num1 == 2:\n",
    "        print('Wrong. Try once more.\\n')\n",
    "        \n",
    "    if num1 == 3:\n",
    "        print('No. Keep trying.\\n')\n",
    "\n",
    "\n",
    "print('Welcome to the Computer-Assited Problems\\n\\n')\n",
    "\n",
    "print(\"\"\"Please select: 1 for addition\n",
    "               2 for substraction\n",
    "               3 for multiplication\n",
    "               4 for division\n",
    "               5 for mixed operations\"\"\")\n",
    "\n",
    "\n",
    "s = 'c'\n",
    "\n",
    "while s == 'c':\n",
    "\n",
    "    l = int(input('\\nEnter the level of dificulty: '))\n",
    "\n",
    "    pro = dificultad(l)\n",
    "\n",
    "    re = int(input('\\nPlease enter the answer: '))\n",
    "\n",
    "    while re != pro:\n",
    "    \n",
    "        incorrecto()\n",
    "        re = int(input('\\nWrong answer. Please try again'))\n",
    "\n",
    "\n",
    "    correcto()\n",
    "\n",
    "    s = input('\\nPlease c to continue and n to quit')\n",
    "    \n",
    "print('\\nThanks for playing')\n"
   ]
  },
  {
   "cell_type": "code",
   "execution_count": null,
   "metadata": {},
   "outputs": [],
   "source": []
  }
 ],
 "metadata": {
  "kernelspec": {
   "display_name": "Python 3",
   "language": "python",
   "name": "python3"
  },
  "language_info": {
   "codemirror_mode": {
    "name": "ipython",
    "version": 3
   },
   "file_extension": ".py",
   "mimetype": "text/x-python",
   "name": "python",
   "nbconvert_exporter": "python",
   "pygments_lexer": "ipython3",
   "version": "3.8.5"
  }
 },
 "nbformat": 4,
 "nbformat_minor": 4
}
