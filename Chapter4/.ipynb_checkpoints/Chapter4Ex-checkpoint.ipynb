{
 "cells": [
  {
   "cell_type": "markdown",
   "metadata": {},
   "source": [
    "# Exercises"
   ]
  },
  {
   "cell_type": "markdown",
   "metadata": {},
   "source": [
    "## (Discussion: else Clause) "
   ]
  },
  {
   "cell_type": "code",
   "execution_count": null,
   "metadata": {},
   "outputs": [],
   "source": [
    "## We can choose a condition on the elif clause in order to include another condition"
   ]
  },
  {
   "cell_type": "markdown",
   "metadata": {},
   "source": [
    "## (Discussion: Function-Call Stack)"
   ]
  },
  {
   "cell_type": "code",
   "execution_count": null,
   "metadata": {},
   "outputs": [],
   "source": [
    "## There is a fatal error"
   ]
  },
  {
   "cell_type": "markdown",
   "metadata": {},
   "source": [
    "## (What’s Wrong with This Code?) "
   ]
  },
  {
   "cell_type": "code",
   "execution_count": null,
   "metadata": {},
   "outputs": [],
   "source": [
    "\n",
    "def cube(x):\n",
    "    '''Calculate the cube of x'''\n",
    "    \n",
    "    x ** 3\n",
    "    \n",
    "#There is no return in the cube function\n",
    "print('The cube of 2 is', cube(2))"
   ]
  },
  {
   "cell_type": "code",
   "execution_count": 4,
   "metadata": {},
   "outputs": [],
   "source": [
    "\n",
    "def cube(x):\n",
    "    '''Calculate the cube of x'''\n",
    "    return x**3\n",
    "\n",
    "print('The cube of 2 is', cube(2))\n"
   ]
  },
  {
   "cell_type": "markdown",
   "metadata": {},
   "source": [
    "## (What’s Does This Code Do?)"
   ]
  },
  {
   "cell_type": "code",
   "execution_count": 5,
   "metadata": {},
   "outputs": [
    {
     "data": {
      "text/plain": [
       "30"
      ]
     },
     "execution_count": 5,
     "metadata": {},
     "output_type": "execute_result"
    }
   ],
   "source": [
    "\n",
    "def mystery(x):\n",
    "    y = 0\n",
    "    \n",
    "    for value in x:\n",
    "        y += value ** 2\n",
    "    \n",
    "    return y\n",
    "\n",
    "k = [1, 2, 3, 4]\n",
    "mystery([1, 2, 3, 4])\n"
   ]
  },
  {
   "cell_type": "code",
   "execution_count": 6,
   "metadata": {},
   "outputs": [
    {
     "data": {
      "text/plain": [
       "30"
      ]
     },
     "execution_count": 6,
     "metadata": {},
     "output_type": "execute_result"
    }
   ],
   "source": [
    "mystery(k)"
   ]
  },
  {
   "cell_type": "markdown",
   "metadata": {},
   "source": [
    "## (Fill in the Missing Code?) "
   ]
  },
  {
   "cell_type": "code",
   "execution_count": 7,
   "metadata": {},
   "outputs": [],
   "source": [
    "\n",
    "def seconds_since_midnight(hour, minute, second):\n",
    "    '''Calculate the number of seconds from midnight'''\n",
    "    \n",
    "    hour_in_seconds = hour*60*60\n",
    "    minute_in_seconds = minute * 60\n",
    "    return (second + minute_in_seconds + hour_in_seconds)\n"
   ]
  },
  {
   "cell_type": "code",
   "execution_count": 8,
   "metadata": {},
   "outputs": [
    {
     "data": {
      "text/plain": [
       "48645"
      ]
     },
     "execution_count": 8,
     "metadata": {},
     "output_type": "execute_result"
    }
   ],
   "source": [
    "seconds_since_midnight(13, 30, 45)"
   ]
  },
  {
   "cell_type": "markdown",
   "metadata": {},
   "source": [
    "## (Modified average Function)"
   ]
  },
  {
   "cell_type": "code",
   "execution_count": 9,
   "metadata": {},
   "outputs": [],
   "source": [
    "\n",
    "'''Definition of average'''\n",
    "\n",
    "def average(n, *args):\n",
    "    '''n is the total number'''\n",
    "    return sum(args)/n\n",
    "    \n",
    "grades = [88, 75, 96, 55, 83]\n"
   ]
  },
  {
   "cell_type": "code",
   "execution_count": 10,
   "metadata": {},
   "outputs": [
    {
     "data": {
      "text/plain": [
       "79.4"
      ]
     },
     "execution_count": 10,
     "metadata": {},
     "output_type": "execute_result"
    }
   ],
   "source": [
    "average(5, *grades)"
   ]
  },
  {
   "cell_type": "markdown",
   "metadata": {},
   "source": [
    "## (Date and Time) "
   ]
  },
  {
   "cell_type": "code",
   "execution_count": 11,
   "metadata": {},
   "outputs": [
    {
     "name": "stdout",
     "output_type": "stream",
     "text": [
      "2021-03-25 20:33:14.858470\n"
     ]
    }
   ],
   "source": [
    "\n",
    "import datetime\n",
    "\n",
    "print(datetime.datetime.today())\n"
   ]
  },
  {
   "cell_type": "markdown",
   "metadata": {},
   "source": [
    "## (Rounding Numbers)"
   ]
  },
  {
   "cell_type": "code",
   "execution_count": 12,
   "metadata": {},
   "outputs": [
    {
     "name": "stdout",
     "output_type": "stream",
     "text": [
      "14\n",
      "13.6\n",
      "13.56\n",
      "13.564\n"
     ]
    }
   ],
   "source": [
    "\n",
    "print(round(13.56449))\n",
    "print(round(13.56449, 1))\n",
    "print(round(13.56449, 2))\n",
    "print(round(13.56449, 3))"
   ]
  },
  {
   "cell_type": "markdown",
   "metadata": {},
   "source": [
    "## (Temperature Conversion)"
   ]
  },
  {
   "cell_type": "code",
   "execution_count": 13,
   "metadata": {},
   "outputs": [
    {
     "name": "stdout",
     "output_type": "stream",
     "text": [
      "Temperature in ºC      Temperature in ºF\n",
      "         0                  32.00\n",
      "         1                  33.80\n",
      "         2                  35.60\n",
      "         3                  37.40\n",
      "         4                  39.20\n",
      "         5                  41.00\n",
      "         6                  42.80\n",
      "         7                  44.60\n",
      "         8                  46.40\n",
      "         9                  48.20\n",
      "        10                  50.00\n",
      "        11                  51.80\n",
      "        12                  53.60\n",
      "        13                  55.40\n",
      "        14                  57.20\n",
      "        15                  59.00\n",
      "        16                  60.80\n",
      "        17                  62.60\n",
      "        18                  64.40\n",
      "        19                  66.20\n",
      "        20                  68.00\n",
      "        21                  69.80\n",
      "        22                  71.60\n",
      "        23                  73.40\n",
      "        24                  75.20\n",
      "        25                  77.00\n",
      "        26                  78.80\n",
      "        27                  80.60\n",
      "        28                  82.40\n",
      "        29                  84.20\n",
      "        30                  86.00\n",
      "        31                  87.80\n",
      "        32                  89.60\n",
      "        33                  91.40\n",
      "        34                  93.20\n",
      "        35                  95.00\n",
      "        36                  96.80\n",
      "        37                  98.60\n",
      "        38                 100.40\n",
      "        39                 102.20\n",
      "        40                 104.00\n",
      "        41                 105.80\n",
      "        42                 107.60\n",
      "        43                 109.40\n",
      "        44                 111.20\n",
      "        45                 113.00\n",
      "        46                 114.80\n",
      "        47                 116.60\n",
      "        48                 118.40\n",
      "        49                 120.20\n",
      "        50                 122.00\n",
      "        51                 123.80\n",
      "        52                 125.60\n",
      "        53                 127.40\n",
      "        54                 129.20\n",
      "        55                 131.00\n",
      "        56                 132.80\n",
      "        57                 134.60\n",
      "        58                 136.40\n",
      "        59                 138.20\n",
      "        60                 140.00\n",
      "        61                 141.80\n",
      "        62                 143.60\n",
      "        63                 145.40\n",
      "        64                 147.20\n",
      "        65                 149.00\n",
      "        66                 150.80\n",
      "        67                 152.60\n",
      "        68                 154.40\n",
      "        69                 156.20\n",
      "        70                 158.00\n",
      "        71                 159.80\n",
      "        72                 161.60\n",
      "        73                 163.40\n",
      "        74                 165.20\n",
      "        75                 167.00\n",
      "        76                 168.80\n",
      "        77                 170.60\n",
      "        78                 172.40\n",
      "        79                 174.20\n",
      "        80                 176.00\n",
      "        81                 177.80\n",
      "        82                 179.60\n",
      "        83                 181.40\n",
      "        84                 183.20\n",
      "        85                 185.00\n",
      "        86                 186.80\n",
      "        87                 188.60\n",
      "        88                 190.40\n",
      "        89                 192.20\n",
      "        90                 194.00\n",
      "        91                 195.80\n",
      "        92                 197.60\n",
      "        93                 199.40\n",
      "        94                 201.20\n",
      "        95                 203.00\n",
      "        96                 204.80\n",
      "        97                 206.60\n",
      "        98                 208.40\n",
      "        99                 210.20\n",
      "       100                 212.00\n"
     ]
    }
   ],
   "source": [
    "\n",
    "def fahrenheit(c):\n",
    "    '''Calculate the temperature in Fahrenheit'''\n",
    "    return (9 / 5) * c + 32\n",
    "\n",
    "print('Temperature in ºC      Temperature in ºF')\n",
    "\n",
    "for i in range(101):\n",
    "    print(f'{i:>10}{fahrenheit(i):>23.2f}')\n",
    "\n"
   ]
  },
  {
   "cell_type": "markdown",
   "metadata": {},
   "source": [
    "## (Guess the Number)"
   ]
  },
  {
   "cell_type": "code",
   "execution_count": 14,
   "metadata": {},
   "outputs": [
    {
     "name": "stdout",
     "output_type": "stream",
     "text": [
      "\"Guess my number between 1 and 1000 with the fewest guesses:\"\n",
      "\n"
     ]
    },
    {
     "name": "stdin",
     "output_type": "stream",
     "text": [
      "Please enter c to continue c\n"
     ]
    },
    {
     "name": "stdout",
     "output_type": "stream",
     "text": [
      "922\n"
     ]
    },
    {
     "name": "stdin",
     "output_type": "stream",
     "text": [
      "Please enter the number 922\n"
     ]
    },
    {
     "name": "stdout",
     "output_type": "stream",
     "text": [
      "Congratulations!. You guessed the number.\n",
      "\n",
      "\n"
     ]
    },
    {
     "name": "stdin",
     "output_type": "stream",
     "text": [
      "Please enter c to continue c\n"
     ]
    },
    {
     "name": "stdout",
     "output_type": "stream",
     "text": [
      "866\n"
     ]
    },
    {
     "name": "stdin",
     "output_type": "stream",
     "text": [
      "Please enter the number 866\n"
     ]
    },
    {
     "name": "stdout",
     "output_type": "stream",
     "text": [
      "Congratulations!. You guessed the number.\n",
      "\n",
      "\n"
     ]
    },
    {
     "name": "stdin",
     "output_type": "stream",
     "text": [
      "Please enter c to continue n\n"
     ]
    },
    {
     "name": "stdout",
     "output_type": "stream",
     "text": [
      "Thanks for playing. Have a good day.\n"
     ]
    }
   ],
   "source": [
    "\n",
    "'''Let's play guess the number'''\n",
    "\n",
    "import random\n",
    "\n",
    "\n",
    "print('\"Guess my number between 1 and 1000 with the fewest guesses:\"\\n')\n",
    "s = input('Please enter c to continue')\n",
    "\n",
    "\n",
    "while s == 'c':\n",
    "    \n",
    "    x = random.randrange(0, 1001)\n",
    "    print(x)\n",
    "    n = int(input('Please enter the number'))\n",
    "\n",
    "    while n != x:\n",
    "        \n",
    "        if n > x:\n",
    "            print('The number is too high')\n",
    "            n = int(input('Please enter the number again\\n'))\n",
    "        \n",
    "        elif n < x:\n",
    "            print('The number is too low')\n",
    "            n = int(input('Please enter the number again'))\n",
    "    \n",
    "\n",
    "    print('Congratulations!. You guessed the number.')\n",
    "    print('\\n')\n",
    "    \n",
    "    s = input('Please enter c to continue')\n",
    "    \n",
    "    \n",
    "print('Thanks for playing. Have a good day.')\n",
    "\n",
    "\n",
    "\n",
    "\n"
   ]
  },
  {
   "cell_type": "code",
   "execution_count": null,
   "metadata": {},
   "outputs": [],
   "source": []
  }
 ],
 "metadata": {
  "kernelspec": {
   "display_name": "Python 3",
   "language": "python",
   "name": "python3"
  },
  "language_info": {
   "codemirror_mode": {
    "name": "ipython",
    "version": 3
   },
   "file_extension": ".py",
   "mimetype": "text/x-python",
   "name": "python",
   "nbconvert_exporter": "python",
   "pygments_lexer": "ipython3",
   "version": "3.6.10"
  }
 },
 "nbformat": 4,
 "nbformat_minor": 4
}
